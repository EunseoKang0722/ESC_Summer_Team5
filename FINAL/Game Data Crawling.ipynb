{
 "cells": [
  {
   "cell_type": "markdown",
   "metadata": {},
   "source": [
    "# Game Data Crawling"
   ]
  },
  {
   "cell_type": "markdown",
   "metadata": {},
   "source": [
    "## Jul"
   ]
  },
  {
   "cell_type": "code",
   "execution_count": 1,
   "metadata": {},
   "outputs": [],
   "source": [
    "import re\n",
    "import time\n",
    "import pandas as pd\n",
    "import requests\n",
    "from bs4 import BeautifulSoup\n",
    "from selenium import webdriver\n",
    "from selenium.webdriver.chrome.options import Options"
   ]
  },
  {
   "cell_type": "code",
   "execution_count": 2,
   "metadata": {},
   "outputs": [],
   "source": [
    "options = Options()\n",
    "options.headless = True\n",
    "driver = webdriver.Chrome('/Applications/chromedriver', options=options) #크롬드라이버 따로 설치 필요"
   ]
  },
  {
   "cell_type": "code",
   "execution_count": 3,
   "metadata": {},
   "outputs": [],
   "source": [
    "driver.get('https://www.koreabaseball.com/Schedule/Schedule.aspx')\n",
    "driver.find_element_by_id('ddlMonth').send_keys('07')\n",
    "time.sleep(1)\n",
    "req = driver.page_source\n",
    "soup = BeautifulSoup(req, 'html.parser')"
   ]
  },
  {
   "cell_type": "code",
   "execution_count": 4,
   "metadata": {
    "scrolled": false
   },
   "outputs": [],
   "source": [
    "jul = pd.read_html(str(soup.select('div.tbl-type06')))[0].iloc[90:, :3].reset_index(drop=True)"
   ]
  },
  {
   "cell_type": "code",
   "execution_count": 5,
   "metadata": {},
   "outputs": [],
   "source": [
    "a = pd.DataFrame(columns=['날짜', '시간', '경기'])\n",
    "for i in range(jul.shape[0]):\n",
    "    a = pd.concat([a, pd.DataFrame([jul.iloc[i, :]]), pd.DataFrame([jul.iloc[i, :]])])\n",
    "jul = a.reset_index(drop=True)\n",
    "jul = jul.assign(AB=0, PA=0, RBI=0, RUN=0, HIT=0, H2=0, H3=0, HR=0, SB=0, CS=0, SH=0, SF=0, BB=0, IB=0,\n",
    "           HP=0, KK=0, GD=0, ERR=0, CG_CK=0, WLS=0, HOLD=0, WP=0, BK=0, INN2=0, BF=0, ER=0, R=0)"
   ]
  },
  {
   "cell_type": "code",
   "execution_count": 6,
   "metadata": {},
   "outputs": [],
   "source": [
    "options.headless = True\n",
    "driver = webdriver.Chrome('/Applications/chromedriver', options=options)\n",
    "driver.get('https://www.koreabaseball.com/Schedule/GameCenter/Main.aspx')\n",
    "driver.find_element_by_css_selector('#contents > div.date-select > ul > li.today > img').click()\n",
    "driver.find_element_by_css_selector('#ui-datepicker-div > div > div > select.ui-datepicker-month').send_keys('7월(JUL)')\n",
    "driver.find_element_by_css_selector('#ui-datepicker-div > table > tbody > tr:nth-child(4) > td:nth-child(2) > a').click()\n",
    "\n",
    "n = 0\n",
    "\n",
    "for j in range(11):\n",
    "    time.sleep(1)\n",
    "    soup = BeautifulSoup(driver.page_source, 'html.parser')\n",
    "    x = len(list(soup.find_all('div', {'class':'game-cont'})))\n",
    "    \n",
    "    for i in range(1, x+1):\n",
    "        try:\n",
    "            driver.find_element_by_css_selector('#contents > div.today-game > div > div.bx-viewport > ul > li:nth-child(%d) > div' % i).click()\n",
    "            driver.find_element_by_css_selector('#tabDepth2 > li:nth-child(2) > a').click()\n",
    "            \n",
    "            time.sleep(1)\n",
    "            soup = BeautifulSoup(driver.page_source, 'html.parser')\n",
    "            \n",
    "            table = pd.read_html(str(soup.select('div.summary.tbl-type02.mt30.mb30')))[0]\n",
    "            table.index = table[0]\n",
    "            table = table.drop([0], axis=1)\n",
    "            table = table.T.reset_index(drop=True)\n",
    "            \n",
    "            T_hit = pd.concat([pd.read_html(str(soup.select('div.hitter-record-area')))[0],\n",
    "                               pd.read_html(str(soup.select('div.hitter-record-area')))[1],\n",
    "                               pd.read_html(str(soup.select('div.hitter-record-area')))[2]], axis=1).iloc[:, 2:]\n",
    "            \n",
    "            B_hit = pd.concat([pd.read_html(str(soup.select('div.hitter-record-area')))[3],\n",
    "                               pd.read_html(str(soup.select('div.hitter-record-area')))[4],\n",
    "                               pd.read_html(str(soup.select('div.hitter-record-area')))[5]], axis=1).iloc[:, 2:]\n",
    "            \n",
    "            T_pit = pd.read_html(str(soup.select('div.pitcher-record-area')))[0]\n",
    "            \n",
    "            B_pit = pd.read_html(str(soup.select('div.pitcher-record-area')))[1]\n",
    "         \n",
    "            jul.iloc[n, 3] = int(T_hit.loc[T_hit['선수명'].isnull(), '타수'])\n",
    "            jul.iloc[n, 5] = int(T_hit.loc[T_hit['선수명'].isnull(), '타점'])\n",
    "            jul.iloc[n, 6] = int(T_hit.loc[T_hit['선수명'].isnull(), '득점'])\n",
    "            jul.iloc[n, 7] = int(T_hit.loc[T_hit['선수명'].isnull(), '안타'])\n",
    "            jul.iloc[n+1, 3] = int(B_hit.loc[B_hit['선수명'].isnull(), '타수'])\n",
    "            jul.iloc[n+1, 5] = int(B_hit.loc[B_hit['선수명'].isnull(), '타점'])\n",
    "            jul.iloc[n+1, 6] = int(B_hit.loc[B_hit['선수명'].isnull(), '득점'])\n",
    "            jul.iloc[n+1, 7] = int(B_hit.loc[B_hit['선수명'].isnull(), '안타'])\n",
    "            \n",
    "            for i in range(T_hit.shape[0]):\n",
    "                for j in range(1, 10):\n",
    "                    if T_hit.iloc[i, j] == '4구':\n",
    "                        jul.iloc[n, 15] += 1\n",
    "                    elif T_hit.iloc[i, j] == '고4':\n",
    "                        jul.iloc[n+1, 16] += 1\n",
    "                    elif T_hit.iloc[i, j] == '사구':\n",
    "                        jul.iloc[n+1, 17] += 1\n",
    "                for j in range(1, 10):\n",
    "                    if re.search('[가-힣]2', str(T_hit.iloc[i,j])) != None:\n",
    "                        jul.iloc[n, jul.columns.get_loc('H2')] += 1\n",
    "                    elif re.search('[가-힣]3', str(T_hit.iloc[i,j])) != None:\n",
    "                        jul.iloc[n, jul.columns.get_loc('H3')] += 1\n",
    "                    elif re.search('[가-힣]홈', str(T_hit.iloc[i,j])) != None:\n",
    "                        jul.iloc[n, jul.columns.get_loc('HR')] += 1\n",
    "                    elif re.search('[가-힣]희번', str(T_hit.iloc[i,j])) != None:\n",
    "                        jul.iloc[n, jul.columns.get_loc('SH')] += 1\n",
    "                    elif re.search('[가-힣]희비', str(T_hit.iloc[i,j])) != None:\n",
    "                        jul.iloc[n, jul.columns.get_loc('SF')] += 1\n",
    "                    elif re.search('[가-힣]병', str(T_hit.iloc[i,j])) != None:\n",
    "                        jul.iloc[n, jul.columns.get_loc('GD')] += 1\n",
    "            \n",
    "            for i in range(B_hit.shape[0]):\n",
    "                for j in range(1, 10):\n",
    "                    if B_hit.iloc[i, j] == '4구':\n",
    "                        jul.iloc[n+1, 15] += 1\n",
    "                    elif B_hit.iloc[i, j] == '고4':\n",
    "                        jul.iloc[n+1, 16] += 1\n",
    "                    elif B_hit.iloc[i, j] == '사구':\n",
    "                        jul.iloc[n+1, 17] += 1\n",
    "                for j in range(1, 10):\n",
    "                    if re.search('[가-힣]2', str(B_hit.iloc[i,j])) != None:\n",
    "                        jul.iloc[n+1, jul.columns.get_loc('H2')] +=  1\n",
    "                    elif re.search('[가-힣]3', str(B_hit.iloc[i,j])) != None:\n",
    "                        jul.iloc[n+1, jul.columns.get_loc('H3')] +=  1\n",
    "                    elif re.search('[가-힣]홈', str(B_hit.iloc[i,j])) != None:\n",
    "                        jul.iloc[n+1, jul.columns.get_loc('HR')] += 1\n",
    "                    elif re.search('[가-힣]희번', str(B_hit.iloc[i,j])) != None:\n",
    "                        jul.iloc[n+1, jul.columns.get_loc('SH')] += 1\n",
    "                    elif re.search('[가-힣]희비', str(B_hit.iloc[i,j])) != None:\n",
    "                        jul.iloc[n+1, jul.columns.get_loc('SF')] += 1\n",
    "                    elif re.search('[가-힣]병', str(B_hit.iloc[i,j])) != None:\n",
    "                        jul.iloc[n+1, jul.columns.get_loc('GD')] += 1\n",
    "            \n",
    "            if '도루' in table.columns:\n",
    "                for i in range(len(table['도루'][0].split(' '))):\n",
    "                    if table['도루'][0].split(' ')[i][:-4] in list(T_hit['선수명']):\n",
    "                        jul.iloc[n, 11] += 1\n",
    "                    elif table['도루'][0].split(' ')[i][:-4] in list(B_hit['선수명']):\n",
    "                        jul.iloc[n+1, 11] += 1\n",
    "            else: pass\n",
    "            \n",
    "            if '도루자' in table.columns:\n",
    "                for i in range(len(table['도루자'][0].split(' '))):\n",
    "                    if table['도루자'][0].split(' ')[i][:-4] in list(T_hit['선수명']):\n",
    "                        jul.iloc[n, 12] = jul.iloc[n, 12] + 1\n",
    "                    elif table['도루자'][0].split(' ')[i][:-4] in list(B_hit['선수명']):\n",
    "                        jul.iloc[n+1, 12] = jul.iloc[n+1, 12] + 1\n",
    "            else: pass\n",
    "            \n",
    "            if '실책' in table.columns:\n",
    "                for i in range(len(table['실책'][0].split(' '))):\n",
    "                    if table['실책'][0].split(' ')[i][:-4] in list(T_hit['선수명']):\n",
    "                        jul.iloc[n, 20] += 1\n",
    "                    elif table['실책'][0].split(' ')[i][:-4] in list(B_hit['선수명']):\n",
    "                        jul.iloc[n+1, 20] += 1\n",
    "            \n",
    "            # CG_CK\n",
    "            if T_pit.shape[0] == 2:\n",
    "                jul.iloc[n, 21] = 1\n",
    "            else: pass\n",
    "            if B_pit.shape[0] == 2:\n",
    "                jul.iloc[n+1, 21] = 1\n",
    "            else: pass\n",
    "            \n",
    "            if '승' in list(T_pit.iloc[:,2]):\n",
    "                jul.iloc[n, 22] = 'W'\n",
    "                jul.iloc[n+1, 22] = 'L'\n",
    "            elif '패' in list(T_pit.iloc[:,2]):\n",
    "                jul.iloc[n, 22] = 'L'\n",
    "                jul.iloc[n+1, 22] = 'W'\n",
    "            else:\n",
    "                jul.iloc[n, 22] = 'D'\n",
    "                jul.iloc[n+1, 22] = 'D'\n",
    "            \n",
    "            if '폭투' in table.columns:\n",
    "                for i in range(len(table['폭투'][0].split(' '))):\n",
    "                    if table['폭투'][0].split(' ')[i][:-4] in list(T_pit['선수명']):\n",
    "                        jul.iloc[n, 24] += 1\n",
    "                    elif table['폭투'][0].split(' ')[i][:-4] in list(B_pit['선수명']):\n",
    "                        jul.iloc[n+1, 24] += 1\n",
    "            \n",
    "            if '보크' in table.columns:\n",
    "                for i in range(len(table['보크'][0].split(' '))):\n",
    "                    if table['보크'][0].split(' ')[i][:-4] in list(T_pit['선수명']):\n",
    "                        jul.iloc[n, 25] += 1\n",
    "                    elif table['보크'][0].split(' ')[i][:-4] in list(B_pit['선수명']):\n",
    "                        jul.iloc[n+1, 25] += 1  \n",
    "            \n",
    "            if '홀드' in list(T_pit.iloc[:,2]):\n",
    "                    jul.iloc[n, 23] = list(T_pit.iloc[:,2]).count('홀드')\n",
    "            if '홀드' in list(B_pit.iloc[:,2]):\n",
    "                jul.iloc[n+1, 23] = list(B_pit.iloc[:,2]).count('홀드')\n",
    "            \n",
    "            # KK\n",
    "            jul.iloc[n, 18] = T_pit.iloc[-1, 13]\n",
    "            jul.iloc[n+1, 18] = B_pit.iloc[-1, 13]\n",
    "            \n",
    "            # INN2\n",
    "            jul.iloc[n, 26] = T_pit.iloc[-1, 6]\n",
    "            jul.iloc[n+1, 26] = B_pit.iloc[-1, 6]\n",
    "            \n",
    "            # BF\n",
    "            jul.iloc[n, 27] = T_pit.iloc[-1, 8]\n",
    "            jul.iloc[n+1, 27] = B_pit.iloc[-1, 8]\n",
    "            \n",
    "            # ER\n",
    "            jul.iloc[n, 28] = T_pit.iloc[-1, 15]\n",
    "            jul.iloc[n+1, 28] = B_pit.iloc[-1, 15]\n",
    "            \n",
    "            # R\n",
    "            jul.iloc[n, 29] = T_pit.iloc[-1, 14]\n",
    "            jul.iloc[n+1, 29] = B_pit.iloc[-1, 14]\n",
    "            \n",
    "            # PA\n",
    "            jul.iloc[n, 4] = B_pit.iloc[-1, 7]\n",
    "            jul.iloc[n+1, 4] = T_pit.iloc[-1, 7]\n",
    "            \n",
    "            # AB\n",
    "            jul.iloc[n, 3] = B_pit.iloc[-1, 9]\n",
    "            jul.iloc[n+1, 3] = T_pit.iloc[-1, 9]\n",
    "            \n",
    "        except: pass\n",
    "        \n",
    "        n += 2\n",
    "\n",
    "    driver.find_element_by_css_selector('#lnkNext > img').click()"
   ]
  },
  {
   "cell_type": "code",
   "execution_count": 7,
   "metadata": {
    "scrolled": false
   },
   "outputs": [],
   "source": [
    "jul_copy = jul.copy()"
   ]
  },
  {
   "cell_type": "code",
   "execution_count": 8,
   "metadata": {},
   "outputs": [],
   "source": [
    "for i in range(jul_copy.shape[0]-10):\n",
    "    for j in range(1, 11):\n",
    "        if sum(jul_copy.iloc[i, 3:] == jul_copy.iloc[i+j, 3:]) == 27:\n",
    "            jul_copy.iloc[i+j, 3:] = 0"
   ]
  },
  {
   "cell_type": "code",
   "execution_count": 9,
   "metadata": {},
   "outputs": [],
   "source": [
    "jul_copy_a = jul_copy.iloc[[2*n for n in range(int(jul_copy.shape[0]/2))],].reset_index(drop=True)\n",
    "jul_copy_b = jul_copy.iloc[[2*n+1 for n in range(int(jul_copy.shape[0]/2))],].reset_index(drop=True)"
   ]
  },
  {
   "cell_type": "code",
   "execution_count": 10,
   "metadata": {},
   "outputs": [],
   "source": [
    "jul_copy_a = jul_copy_a.assign(T=None, B=None)\n",
    "jul_copy_b = jul_copy_b.assign(T=None, B=None)"
   ]
  },
  {
   "cell_type": "code",
   "execution_count": 11,
   "metadata": {},
   "outputs": [],
   "source": [
    "for i in range(jul_copy_a.shape[0]):\n",
    "    jul_copy_a.iloc[i, jul_copy_a.columns.get_loc('T')] = jul_copy_a.iloc[i, jul_copy_a.columns.get_loc('경기')].split('vs')[0][:2]\n",
    "    jul_copy_a.iloc[i, jul_copy_a.columns.get_loc('B')] = jul_copy_a.iloc[i, jul_copy_a.columns.get_loc('경기')].split('vs')[1][-2:]\n",
    "for i in range(jul_copy_b.shape[0]):\n",
    "    jul_copy_b.iloc[i, jul_copy_a.columns.get_loc('T')] = jul_copy_b.iloc[i, jul_copy_a.columns.get_loc('경기')].split('vs')[0][:2]\n",
    "    jul_copy_b.iloc[i, jul_copy_a.columns.get_loc('B')] = jul_copy_b.iloc[i, jul_copy_a.columns.get_loc('경기')].split('vs')[1][-2:]"
   ]
  },
  {
   "cell_type": "code",
   "execution_count": 12,
   "metadata": {},
   "outputs": [],
   "source": [
    "for i in range(jul_copy_a.shape[0]):\n",
    "    jul_copy_a.iloc[i, jul_copy_a.columns.get_loc('날짜')] = '2020.' + jul_copy_a.iloc[i, jul_copy_a.columns.get_loc('날짜')][:5]\n",
    "    jul_copy_a.iloc[i, jul_copy_a.columns.get_loc('날짜')] = jul_copy_a.iloc[i, jul_copy_a.columns.get_loc('날짜')].replace('.', '')\n",
    "for i in range(jul_copy_b.shape[0]):\n",
    "    jul_copy_b.iloc[i, jul_copy_a.columns.get_loc('날짜')] = '2020.' + jul_copy_b.iloc[i, jul_copy_a.columns.get_loc('날짜')][:5]\n",
    "    jul_copy_b.iloc[i, jul_copy_a.columns.get_loc('날짜')] = jul_copy_b.iloc[i, jul_copy_a.columns.get_loc('날짜')].replace('.', '')"
   ]
  },
  {
   "cell_type": "code",
   "execution_count": 13,
   "metadata": {},
   "outputs": [],
   "source": [
    "name = {'NC':'NC', '두산':'OB', '키움':'WO', 'KI':'HT', 'IA':'HT', 'LG':'LG',\n",
    "       '삼성':'SS', 'KT':'KT', '롯데':'LT', 'SK':'SK', '한화':'HH'}\n",
    "\n",
    "f = lambda x: name.get(x, x)\n",
    "jul_copy_a['T'] = jul_copy_a['T'].map(f) ; jul_copy_a['B'] = jul_copy_a['B'].map(f)\n",
    "jul_copy_b['T'] = jul_copy_b['T'].map(f) ; jul_copy_b['B'] = jul_copy_b['B'].map(f)"
   ]
  },
  {
   "cell_type": "code",
   "execution_count": 14,
   "metadata": {},
   "outputs": [],
   "source": [
    "jul_copy_a['G_ID'] = jul_copy_a['날짜'] + jul_copy_a['T'] + jul_copy_a['B']\n",
    "jul_copy_b['G_ID'] = jul_copy_b['날짜'] + jul_copy_b['T'] + jul_copy_b['B']"
   ]
  },
  {
   "cell_type": "code",
   "execution_count": 15,
   "metadata": {},
   "outputs": [],
   "source": [
    "for i in jul_copy_a[jul_copy_a.duplicated(['G_ID'], keep=False) == True].index:\n",
    "    jul_copy_a.iloc[i, jul_copy_a.columns.get_loc('G_ID')] = jul_copy_a.iloc[i, jul_copy_a.columns.get_loc('G_ID')] + '1'\n",
    "for i in jul_copy_a[jul_copy_a.duplicated(['G_ID'], keep=False) == False].index:\n",
    "    jul_copy_a.iloc[i, jul_copy_a.columns.get_loc('G_ID')] = jul_copy_a.iloc[i, jul_copy_a.columns.get_loc('G_ID')] + '0'\n",
    "for i in jul_copy_b[jul_copy_b.duplicated(['G_ID'], keep=False) == True].index:\n",
    "    jul_copy_b.iloc[i, jul_copy_b.columns.get_loc('G_ID')] = jul_copy_b.iloc[i, jul_copy_b.columns.get_loc('G_ID')] + '1'\n",
    "for i in jul_copy_b[jul_copy_b.duplicated(['G_ID'], keep=False) == False].index:\n",
    "    jul_copy_b.iloc[i, jul_copy_b.columns.get_loc('G_ID')] = jul_copy_b.iloc[i, jul_copy_b.columns.get_loc('G_ID')] + '0'"
   ]
  },
  {
   "cell_type": "code",
   "execution_count": 16,
   "metadata": {},
   "outputs": [],
   "source": [
    "jul_copy_a = jul_copy_a.drop(['시간', '경기'], axis=1)\n",
    "jul_copy_b = jul_copy_b.drop(['시간', '경기'], axis=1)"
   ]
  },
  {
   "cell_type": "code",
   "execution_count": 17,
   "metadata": {},
   "outputs": [],
   "source": [
    "jul_copy_a = jul_copy_a.rename(columns={'T':'T_ID', 'B':'VS_T_ID'})\n",
    "jul_copy_b = jul_copy_b.rename(columns={'T':'VS_T_ID', 'B':'T_ID'})"
   ]
  },
  {
   "cell_type": "code",
   "execution_count": 18,
   "metadata": {},
   "outputs": [],
   "source": [
    "jul_copy_a = jul_copy_a.assign(GDAY_DS=None, HEADER_NO=None, TB_SC=None)\n",
    "jul_copy_b = jul_copy_b.assign(GDAY_DS=None, HEADER_NO=None, TB_SC=None)"
   ]
  },
  {
   "cell_type": "code",
   "execution_count": 19,
   "metadata": {},
   "outputs": [],
   "source": [
    "for i in range(jul_copy_a.shape[0]):\n",
    "    jul_copy_a.iloc[i, jul_copy_a.columns.get_loc('GDAY_DS')] = jul_copy_a.iloc[i, jul_copy_a.columns.get_loc('G_ID')][:8]\n",
    "    jul_copy_a.iloc[i, jul_copy_a.columns.get_loc('HEADER_NO')] = jul_copy_a.iloc[i, jul_copy_a.columns.get_loc('G_ID')][12]\n",
    "    jul_copy_a.iloc[i, jul_copy_a.columns.get_loc('TB_SC')] = 'T'\n",
    "for i in range(jul_copy_b.shape[0]):\n",
    "    jul_copy_b.iloc[i, jul_copy_a.columns.get_loc('GDAY_DS')] = jul_copy_b.iloc[i, jul_copy_a.columns.get_loc('G_ID')][:8]\n",
    "    jul_copy_b.iloc[i, jul_copy_a.columns.get_loc('HEADER_NO')] = jul_copy_b.iloc[i, jul_copy_a.columns.get_loc('G_ID')][12]\n",
    "    jul_copy_b.iloc[i, jul_copy_a.columns.get_loc('TB_SC')] = 'B'"
   ]
  },
  {
   "cell_type": "code",
   "execution_count": 20,
   "metadata": {},
   "outputs": [],
   "source": [
    "for i in range(jul_copy_a.shape[0]-1):\n",
    "    if (jul_copy_a.iloc[i, jul_copy_a.columns.get_loc('G_ID')][-1] == '1') & (jul_copy_a.iloc[i, jul_copy_a.columns.get_loc('G_ID')] == jul_copy_a.iloc[i+1, jul_copy_a.columns.get_loc('G_ID')]):\n",
    "        jul_copy_a.iloc[i+1, jul_copy_a.columns.get_loc('G_ID')] = jul_copy_a.iloc[i+1, jul_copy_a.columns.get_loc('G_ID')].replace('1', '2')\n",
    "        jul_copy_a.iloc[i+1, jul_copy_a.columns.get_loc('HEADER_NO')] = '2'\n",
    "    elif (jul_copy_a.iloc[i, jul_copy_a.columns.get_loc('G_ID')][-1] == '1') & (jul_copy_a.iloc[i, jul_copy_a.columns.get_loc('G_ID')] != jul_copy_a.iloc[i+1, jul_copy_a.columns.get_loc('G_ID')]):\n",
    "        jul_copy_a.iloc[i+2, jul_copy_a.columns.get_loc('G_ID')] = jul_copy_a.iloc[i+2, jul_copy_a.columns.get_loc('G_ID')].replace('1', '2')\n",
    "        jul_copy_a.iloc[i+2, jul_copy_a.columns.get_loc('HEADER_NO')] = '2'\n",
    "\n",
    "for i in range(jul_copy_b.shape[0]-1):\n",
    "    if (jul_copy_b.iloc[i, jul_copy_b.columns.get_loc('G_ID')][-1] == '1') & (jul_copy_b.iloc[i, jul_copy_b.columns.get_loc('G_ID')] == jul_copy_b.iloc[i+1, jul_copy_b.columns.get_loc('G_ID')]):\n",
    "        jul_copy_b.iloc[i+1, jul_copy_b.columns.get_loc('G_ID')] = jul_copy_b.iloc[i+1, jul_copy_b.columns.get_loc('G_ID')].replace('1', '2')\n",
    "        jul_copy_b.iloc[i+1, jul_copy_b.columns.get_loc('HEADER_NO')] = '2'\n",
    "    elif (jul_copy_b.iloc[i, jul_copy_b.columns.get_loc('G_ID')][-1] == '1') & (jul_copy_b.iloc[i, jul_copy_b.columns.get_loc('G_ID')] != jul_copy_b.iloc[i+1, jul_copy_b.columns.get_loc('G_ID')]):\n",
    "        jul_copy_b.iloc[i+2, jul_copy_b.columns.get_loc('G_ID')] = jul_copy_b.iloc[i+2, jul_copy_b.columns.get_loc('G_ID')].replace('1', '2')\n",
    "        jul_copy_b.iloc[i+2, jul_copy_b.columns.get_loc('HEADER_NO')] = '2'"
   ]
  },
  {
   "cell_type": "code",
   "execution_count": 21,
   "metadata": {},
   "outputs": [],
   "source": [
    "jul_copy = pd.concat([jul_copy_a, jul_copy_b]).sort_values('G_ID').reset_index(drop=True)"
   ]
  },
  {
   "cell_type": "code",
   "execution_count": 22,
   "metadata": {},
   "outputs": [],
   "source": [
    "jul_copy_hit = jul_copy[['G_ID', 'GDAY_DS', 'T_ID', 'VS_T_ID', 'HEADER_NO', 'TB_SC', 'PA', 'AB',\n",
    "       'RBI', 'RUN', 'HIT', 'H2', 'H3', 'HR', 'SB', 'CS', 'SH', 'SF', 'BB',\n",
    "       'IB', 'HP', 'KK', 'GD', 'ERR']]\n",
    "jul_copy_hit = jul_copy_hit.assign(LOB=None, P_HRA_RT=None, P_AB_CN=None, P_HIT_CN=None)"
   ]
  },
  {
   "cell_type": "code",
   "execution_count": 23,
   "metadata": {},
   "outputs": [],
   "source": [
    "jul_copy_pit = jul_copy[['G_ID', 'GDAY_DS', 'T_ID', 'VS_T_ID', 'HEADER_NO', 'TB_SC', 'CG_CK',\n",
    "       'WLS', 'HOLD', 'INN2', 'BF', 'PA', 'AB', 'HIT', 'H2', 'H3', 'HR', 'SB',\n",
    "       'CS', 'SH', 'SF', 'BB', 'IB', 'HP', 'KK', 'GD', 'WP', 'BK', 'ERR', 'R',\n",
    "       'ER']]\n",
    "\n",
    "jul_copy_pit = jul_copy_pit.assign(P_WHIP_RT=None, P2_WHIP_RT=None, CB_WHIP_RT=None)"
   ]
  },
  {
   "cell_type": "code",
   "execution_count": 24,
   "metadata": {},
   "outputs": [],
   "source": [
    "jul_copy_pit['INN2'] = jul_copy_pit['INN2'].astype('str')"
   ]
  },
  {
   "cell_type": "code",
   "execution_count": 25,
   "metadata": {},
   "outputs": [],
   "source": [
    "for i in range(jul_copy_pit.shape[0]):\n",
    "    if len(jul_copy_pit.iloc[i, 9].split(' ')) == 1:\n",
    "        jul_copy_pit.iloc[i, 9] = int(jul_copy_pit.iloc[i, 9])*3\n",
    "    else:\n",
    "        jul_copy_pit.iloc[i, 9] = int(jul_copy_pit.iloc[i, 9].split(' ')[0])*3 + (int(jul_copy_pit.iloc[i, 9].split(' ')[1].split('/')[0])/int(jul_copy_pit.iloc[i, 9].split(' ')[1].split('/')[1]))*3"
   ]
  },
  {
   "cell_type": "markdown",
   "metadata": {},
   "source": [
    "## Aug"
   ]
  },
  {
   "cell_type": "code",
   "execution_count": 26,
   "metadata": {},
   "outputs": [],
   "source": [
    "options = Options()\n",
    "options.headless = True\n",
    "driver = webdriver.Chrome('/Applications/chromedriver', options=options)"
   ]
  },
  {
   "cell_type": "code",
   "execution_count": 27,
   "metadata": {},
   "outputs": [],
   "source": [
    "driver.get('https://www.koreabaseball.com/Schedule/Schedule.aspx')\n",
    "driver.find_element_by_id('ddlMonth').send_keys('08')\n",
    "time.sleep(1)\n",
    "req = driver.page_source\n",
    "soup = BeautifulSoup(req, 'html.parser')"
   ]
  },
  {
   "cell_type": "code",
   "execution_count": 28,
   "metadata": {
    "scrolled": false
   },
   "outputs": [],
   "source": [
    "aug = pd.read_html(str(soup.select('div.tbl-type06')))[0].iloc[:,:3].reset_index(drop=True)"
   ]
  },
  {
   "cell_type": "code",
   "execution_count": 29,
   "metadata": {},
   "outputs": [],
   "source": [
    "a = pd.DataFrame(columns=['날짜', '시간', '경기'])\n",
    "for i in range(aug.shape[0]):\n",
    "    a = pd.concat([a, pd.DataFrame([aug.iloc[i, :]]), pd.DataFrame([aug.iloc[i, :]])])\n",
    "aug = a.reset_index(drop=True)\n",
    "aug = aug.assign(AB=0, PA=0, RBI=0, RUN=0, HIT=0, H2=0, H3=0, HR=0, SB=0, CS=0, SH=0, SF=0, BB=0, IB=0,\n",
    "           HP=0, KK=0, GD=0, ERR=0, CG_CK=0, WLS=0, HOLD=0, WP=0, BK=0, INN2=0, BF=0, ER=0, R=0)\n",
    "aug = pd.concat([aug.drop([264, 265, 274, 275]), aug.iloc[[264, 265, 274, 275],]]).reset_index(drop=True)"
   ]
  },
  {
   "cell_type": "code",
   "execution_count": 30,
   "metadata": {},
   "outputs": [],
   "source": [
    "options.headless = True\n",
    "driver = webdriver.Chrome('/Applications/chromedriver', options=options)\n",
    "driver.get('https://www.koreabaseball.com/Schedule/GameCenter/Main.aspx')\n",
    "driver.find_element_by_css_selector('#contents > div.date-select > ul > li.today > img').click()\n",
    "driver.find_element_by_css_selector('#ui-datepicker-div > div > div > select.ui-datepicker-month').send_keys('8월(AUG)')\n",
    "driver.find_element_by_css_selector('#ui-datepicker-div > table > tbody > tr:nth-child(1) > td:nth-child(7)').click()\n",
    "    \n",
    "n = 0\n",
    "\n",
    "for j in range(29):\n",
    "    time.sleep(1)\n",
    "    soup = BeautifulSoup(driver.page_source, 'html.parser')\n",
    "    x = len(list(soup.find_all('div', {'class':'game-cont'})))\n",
    "    \n",
    "    for i in range(1, x+1):\n",
    "        try:\n",
    "            driver.find_element_by_css_selector('#contents > div.today-game > div > div.bx-viewport > ul > li:nth-child(%d) > div' % i).click()\n",
    "            driver.find_element_by_css_selector('#tabDepth2 > li:nth-child(2) > a').click()\n",
    "            \n",
    "            time.sleep(1)\n",
    "            soup = BeautifulSoup(driver.page_source, 'html.parser')\n",
    "            \n",
    "            table = pd.read_html(str(soup.select('div.summary.tbl-type02.mt30.mb30')))[0]\n",
    "            table.index = table[0]\n",
    "            table = table.drop([0], axis=1)\n",
    "            table = table.T.reset_index(drop=True)\n",
    "            \n",
    "            T_hit = pd.concat([pd.read_html(str(soup.select('div.hitter-record-area')))[0],\n",
    "                               pd.read_html(str(soup.select('div.hitter-record-area')))[1],\n",
    "                               pd.read_html(str(soup.select('div.hitter-record-area')))[2]], axis=1).iloc[:, 2:]\n",
    "            \n",
    "            B_hit = pd.concat([pd.read_html(str(soup.select('div.hitter-record-area')))[3],\n",
    "                               pd.read_html(str(soup.select('div.hitter-record-area')))[4],\n",
    "                               pd.read_html(str(soup.select('div.hitter-record-area')))[5]], axis=1).iloc[:, 2:]\n",
    "            \n",
    "            T_pit = pd.read_html(str(soup.select('div.pitcher-record-area')))[0]\n",
    "            \n",
    "            B_pit = pd.read_html(str(soup.select('div.pitcher-record-area')))[1]\n",
    "         \n",
    "            aug.iloc[n, 5] = int(T_hit.loc[T_hit['선수명'].isnull(), '타점'])\n",
    "            aug.iloc[n, 6] = int(T_hit.loc[T_hit['선수명'].isnull(), '득점'])\n",
    "            aug.iloc[n, 7] = int(T_hit.loc[T_hit['선수명'].isnull(), '안타'])\n",
    "            aug.iloc[n+1, 5] = int(B_hit.loc[B_hit['선수명'].isnull(), '타점'])\n",
    "            aug.iloc[n+1, 6] = int(B_hit.loc[B_hit['선수명'].isnull(), '득점'])\n",
    "            aug.iloc[n+1, 7] = int(B_hit.loc[B_hit['선수명'].isnull(), '안타'])\n",
    "            \n",
    "            for i in range(T_hit.shape[0]):\n",
    "                for j in range(1, 10):\n",
    "                    if T_hit.iloc[i, j] == '4구':\n",
    "                        aug.iloc[n, 15] += 1\n",
    "                    elif T_hit.iloc[i, j] == '고4':\n",
    "                        aug.iloc[n+1, 16] += 1\n",
    "                    elif T_hit.iloc[i, j] == '사구':\n",
    "                        aug.iloc[n+1, 17] += 1\n",
    "                for j in range(1, 10):\n",
    "                    if re.search('[가-힣]2', str(T_hit.iloc[i,j])) != None:\n",
    "                        aug.iloc[n, aug.columns.get_loc('H2')] += 1\n",
    "                    elif re.search('[가-힣]3', str(T_hit.iloc[i,j])) != None:\n",
    "                        aug.iloc[n, aug.columns.get_loc('H3')] += 1\n",
    "                    elif re.search('[가-힣]홈', str(T_hit.iloc[i,j])) != None:\n",
    "                        aug.iloc[n, aug.columns.get_loc('HR')] += 1\n",
    "                    elif re.search('[가-힣]희번', str(T_hit.iloc[i,j])) != None:\n",
    "                        aug.iloc[n, aug.columns.get_loc('SH')] += 1\n",
    "                    elif re.search('[가-힣]희비', str(T_hit.iloc[i,j])) != None:\n",
    "                        aug.iloc[n, aug.columns.get_loc('SF')] += 1\n",
    "                    elif re.search('[가-힣]병', str(T_hit.iloc[i,j])) != None:\n",
    "                        aug.iloc[n, aug.columns.get_loc('GD')] += 1\n",
    "            \n",
    "            for i in range(B_hit.shape[0]):\n",
    "                for j in range(1, 10):\n",
    "                    if B_hit.iloc[i, j] == '4구':\n",
    "                        aug.iloc[n+1, 15] += 1\n",
    "                    elif B_hit.iloc[i, j] == '고4':\n",
    "                        aug.iloc[n+1, 16] += 1\n",
    "                    elif B_hit.iloc[i, j] == '사구':\n",
    "                        aug.iloc[n+1, 17] += 1\n",
    "                for j in range(1, 10):\n",
    "                    if re.search('[가-힣]2', str(B_hit.iloc[i,j])) != None:\n",
    "                        aug.iloc[n+1, aug.columns.get_loc('H2')] +=  1\n",
    "                    elif re.search('[가-힣]3', str(B_hit.iloc[i,j])) != None:\n",
    "                        aug.iloc[n+1, aug.columns.get_loc('H3')] +=  1\n",
    "                    elif re.search('[가-힣]홈', str(B_hit.iloc[i,j])) != None:\n",
    "                        aug.iloc[n+1, aug.columns.get_loc('HR')] += 1\n",
    "                    elif re.search('[가-힣]희번', str(B_hit.iloc[i,j])) != None:\n",
    "                        aug.iloc[n+1, aug.columns.get_loc('SH')] += 1\n",
    "                    elif re.search('[가-힣]희비', str(B_hit.iloc[i,j])) != None:\n",
    "                        aug.iloc[n+1, aug.columns.get_loc('SF')] += 1\n",
    "                    elif re.search('[가-힣]병', str(B_hit.iloc[i,j])) != None:\n",
    "                        aug.iloc[n+1, aug.columns.get_loc('GD')] += 1\n",
    "            \n",
    "            if '도루' in table.columns:\n",
    "                for i in range(len(table['도루'][0].split(' '))):\n",
    "                    if table['도루'][0].split(' ')[i][:-4] in list(T_hit['선수명']):\n",
    "                        aug.iloc[n, 11] += 1\n",
    "                    elif table['도루'][0].split(' ')[i][:-4] in list(B_hit['선수명']):\n",
    "                        aug.iloc[n+1, 11] += 1\n",
    "            else: pass\n",
    "            \n",
    "            if '도루자' in table.columns:\n",
    "                for i in range(len(table['도루자'][0].split(' '))):\n",
    "                    if table['도루자'][0].split(' ')[i][:-4] in list(T_hit['선수명']):\n",
    "                        aug.iloc[n, 12] = aug.iloc[n, 12] + 1\n",
    "                    elif table['도루자'][0].split(' ')[i][:-4] in list(B_hit['선수명']):\n",
    "                        aug.iloc[n+1, 12] = aug.iloc[n+1, 12] + 1\n",
    "            else: pass\n",
    "            \n",
    "            if '실책' in table.columns:\n",
    "                for i in range(len(table['실책'][0].split(' '))):\n",
    "                    if table['실책'][0].split(' ')[i][:-4] in list(T_hit['선수명']):\n",
    "                        aug.iloc[n, 20] += 1\n",
    "                    elif table['실책'][0].split(' ')[i][:-4] in list(B_hit['선수명']):\n",
    "                        aug.iloc[n+1, 20] += 1\n",
    "            \n",
    "            # CG_CK\n",
    "            if T_pit.shape[0] == 2:\n",
    "                aug.iloc[n, 21] = 1\n",
    "            else: pass\n",
    "            if B_pit.shape[0] == 2:\n",
    "                aug.iloc[n+1, 21] = 1\n",
    "            else: pass\n",
    "            \n",
    "            if '승' in list(T_pit.iloc[:,2]):\n",
    "                aug.iloc[n, 22] = 'W'\n",
    "                aug.iloc[n+1, 22] = 'L'\n",
    "            elif '패' in list(T_pit.iloc[:,2]):\n",
    "                aug.iloc[n, 22] = 'L'\n",
    "                aug.iloc[n+1, 22] = 'W'\n",
    "            else:\n",
    "                aug.iloc[n, 22] = 'D'\n",
    "                aug.iloc[n+1, 22] = 'D'\n",
    "            \n",
    "            if '폭투' in table.columns:\n",
    "                for i in range(len(table['폭투'][0].split(' '))):\n",
    "                    if table['폭투'][0].split(' ')[i][:-4] in list(T_pit['선수명']):\n",
    "                        aug.iloc[n, 24] += 1\n",
    "                    elif table['폭투'][0].split(' ')[i][:-4] in list(B_pit['선수명']):\n",
    "                        aug.iloc[n+1, 24] += 1\n",
    "            \n",
    "            if '보크' in table.columns:\n",
    "                for i in range(len(table['보크'][0].split(' '))):\n",
    "                    if table['보크'][0].split(' ')[i][:-4] in list(T_pit['선수명']):\n",
    "                        aug.iloc[n, 25] += 1\n",
    "                    elif table['보크'][0].split(' ')[i][:-4] in list(B_pit['선수명']):\n",
    "                        aug.iloc[n+1, 25] += 1  \n",
    "            \n",
    "            if '홀드' in list(T_pit.iloc[:,2]):\n",
    "                    aug.iloc[n, 23] = list(T_pit.iloc[:,2]).count('홀드')\n",
    "            if '홀드' in list(B_pit.iloc[:,2]):\n",
    "                aug.iloc[n+1, 23] = list(B_pit.iloc[:,2]).count('홀드')\n",
    "            \n",
    "            # KK\n",
    "            aug.iloc[n, 18] = T_pit.iloc[-1, 13]\n",
    "            aug.iloc[n+1, 18] = B_pit.iloc[-1, 13]\n",
    "            \n",
    "            # INN2\n",
    "            aug.iloc[n, 26] = T_pit.iloc[-1, 6]\n",
    "            aug.iloc[n+1, 26] = B_pit.iloc[-1, 6]\n",
    "            \n",
    "            # BF\n",
    "            aug.iloc[n, 27] = T_pit.iloc[-1, 8]\n",
    "            aug.iloc[n+1, 27] = B_pit.iloc[-1, 8]\n",
    "            \n",
    "            # ER\n",
    "            aug.iloc[n, 28] = T_pit.iloc[-1, 15]\n",
    "            aug.iloc[n+1, 28] = B_pit.iloc[-1, 15]\n",
    "            \n",
    "            # R\n",
    "            aug.iloc[n, 29] = T_pit.iloc[-1, 14]\n",
    "            aug.iloc[n+1, 29] = B_pit.iloc[-1, 14]\n",
    "            \n",
    "            # PA\n",
    "            aug.iloc[n, 4] = B_pit.iloc[-1, 7]\n",
    "            aug.iloc[n+1, 4] = T_pit.iloc[-1, 7]\n",
    "            \n",
    "            # AB\n",
    "            aug.iloc[n, 3] = B_pit.iloc[-1, 9]\n",
    "            aug.iloc[n+1, 3] = T_pit.iloc[-1, 9]\n",
    "            \n",
    "            try: \n",
    "                driver.find_element_by_css_selector('#contents > div.today-game > div > div.bx-controls.bx-has-controls-direction > div > a.bx-next').click()\n",
    "            except: pass\n",
    "            \n",
    "        except: pass\n",
    "        \n",
    "        n += 2\n",
    "\n",
    "    driver.find_element_by_css_selector('#lnkNext > img').click()"
   ]
  },
  {
   "cell_type": "code",
   "execution_count": 31,
   "metadata": {
    "scrolled": false
   },
   "outputs": [],
   "source": [
    "aug_copy = aug.copy()"
   ]
  },
  {
   "cell_type": "code",
   "execution_count": 32,
   "metadata": {},
   "outputs": [],
   "source": [
    "for i in range(aug_copy.shape[0]-10):\n",
    "    for j in range(1, 11):\n",
    "        if sum(aug_copy.iloc[i, 3:] == aug_copy.iloc[i+j, 3:]) == 27:\n",
    "            aug_copy.iloc[i+j, 3:] = 0"
   ]
  },
  {
   "cell_type": "code",
   "execution_count": 33,
   "metadata": {},
   "outputs": [],
   "source": [
    "aug_copy_a = aug_copy.iloc[[2*n for n in range(int(aug_copy.shape[0]/2))],].reset_index(drop=True)\n",
    "aug_copy_b = aug_copy.iloc[[2*n+1 for n in range(int(aug_copy.shape[0]/2))],].reset_index(drop=True)"
   ]
  },
  {
   "cell_type": "code",
   "execution_count": 34,
   "metadata": {},
   "outputs": [],
   "source": [
    "aug_copy_a = aug_copy_a.assign(T=None, B=None)\n",
    "aug_copy_b = aug_copy_b.assign(T=None, B=None)"
   ]
  },
  {
   "cell_type": "code",
   "execution_count": 35,
   "metadata": {},
   "outputs": [],
   "source": [
    "for i in range(aug_copy_a.shape[0]):\n",
    "    aug_copy_a.iloc[i, aug_copy_a.columns.get_loc('T')] = aug_copy_a.iloc[i, aug_copy_a.columns.get_loc('경기')].split('vs')[0][:2]\n",
    "    aug_copy_a.iloc[i, aug_copy_a.columns.get_loc('B')] = aug_copy_a.iloc[i, aug_copy_a.columns.get_loc('경기')].split('vs')[1][-2:]\n",
    "for i in range(aug_copy_b.shape[0]):\n",
    "    aug_copy_b.iloc[i, aug_copy_a.columns.get_loc('T')] = aug_copy_b.iloc[i, aug_copy_a.columns.get_loc('경기')].split('vs')[0][:2]\n",
    "    aug_copy_b.iloc[i, aug_copy_a.columns.get_loc('B')] = aug_copy_b.iloc[i, aug_copy_a.columns.get_loc('경기')].split('vs')[1][-2:]"
   ]
  },
  {
   "cell_type": "code",
   "execution_count": 36,
   "metadata": {},
   "outputs": [],
   "source": [
    "for i in range(aug_copy_a.shape[0]):\n",
    "    aug_copy_a.iloc[i, aug_copy_a.columns.get_loc('날짜')] = '2020.' + aug_copy_a.iloc[i, aug_copy_a.columns.get_loc('날짜')][:5]\n",
    "    aug_copy_a.iloc[i, aug_copy_a.columns.get_loc('날짜')] = aug_copy_a.iloc[i, aug_copy_a.columns.get_loc('날짜')].replace('.', '')\n",
    "for i in range(aug_copy_b.shape[0]):\n",
    "    aug_copy_b.iloc[i, aug_copy_a.columns.get_loc('날짜')] = '2020.' + aug_copy_b.iloc[i, aug_copy_a.columns.get_loc('날짜')][:5]\n",
    "    aug_copy_b.iloc[i, aug_copy_a.columns.get_loc('날짜')] = aug_copy_b.iloc[i, aug_copy_a.columns.get_loc('날짜')].replace('.', '')"
   ]
  },
  {
   "cell_type": "code",
   "execution_count": 37,
   "metadata": {},
   "outputs": [],
   "source": [
    "name = {'NC':'NC', '두산':'OB', '키움':'WO', 'KI':'HT', 'IA':'HT', 'LG':'LG',\n",
    "       '삼성':'SS', 'KT':'KT', '롯데':'LT', 'SK':'SK', '한화':'HH'}\n",
    "\n",
    "f = lambda x: name.get(x, x)\n",
    "aug_copy_a['T'] = aug_copy_a['T'].map(f) ; aug_copy_a['B'] = aug_copy_a['B'].map(f)\n",
    "aug_copy_b['T'] = aug_copy_b['T'].map(f) ; aug_copy_b['B'] = aug_copy_b['B'].map(f)"
   ]
  },
  {
   "cell_type": "code",
   "execution_count": 38,
   "metadata": {},
   "outputs": [],
   "source": [
    "aug_copy_a['G_ID'] = aug_copy_a['날짜'] + aug_copy_a['T'] + aug_copy_a['B']\n",
    "aug_copy_b['G_ID'] = aug_copy_b['날짜'] + aug_copy_b['T'] + aug_copy_b['B']"
   ]
  },
  {
   "cell_type": "code",
   "execution_count": 39,
   "metadata": {},
   "outputs": [],
   "source": [
    "for i in aug_copy_a[aug_copy_a.duplicated(['G_ID'], keep=False) == True].index:\n",
    "    aug_copy_a.iloc[i, aug_copy_a.columns.get_loc('G_ID')] = aug_copy_a.iloc[i, aug_copy_a.columns.get_loc('G_ID')] + '1'\n",
    "for i in aug_copy_a[aug_copy_a.duplicated(['G_ID'], keep=False) == False].index:\n",
    "    aug_copy_a.iloc[i, aug_copy_a.columns.get_loc('G_ID')] = aug_copy_a.iloc[i, aug_copy_a.columns.get_loc('G_ID')] + '0'\n",
    "for i in aug_copy_b[aug_copy_b.duplicated(['G_ID'], keep=False) == True].index:\n",
    "    aug_copy_b.iloc[i, aug_copy_b.columns.get_loc('G_ID')] = aug_copy_b.iloc[i, aug_copy_b.columns.get_loc('G_ID')] + '1'\n",
    "for i in aug_copy_b[aug_copy_b.duplicated(['G_ID'], keep=False) == False].index:\n",
    "    aug_copy_b.iloc[i, aug_copy_b.columns.get_loc('G_ID')] = aug_copy_b.iloc[i, aug_copy_b.columns.get_loc('G_ID')] + '0'"
   ]
  },
  {
   "cell_type": "code",
   "execution_count": 40,
   "metadata": {},
   "outputs": [],
   "source": [
    "aug_copy_a = aug_copy_a.drop(['시간', '경기'], axis=1)\n",
    "aug_copy_b = aug_copy_b.drop(['시간', '경기'], axis=1)"
   ]
  },
  {
   "cell_type": "code",
   "execution_count": 41,
   "metadata": {},
   "outputs": [],
   "source": [
    "aug_copy_a = aug_copy_a.rename(columns={'T':'T_ID', 'B':'VS_T_ID'})\n",
    "aug_copy_b = aug_copy_b.rename(columns={'T':'VS_T_ID', 'B':'T_ID'})"
   ]
  },
  {
   "cell_type": "code",
   "execution_count": 42,
   "metadata": {},
   "outputs": [],
   "source": [
    "aug_copy_a = aug_copy_a.assign(GDAY_DS=None, HEADER_NO=None, TB_SC=None)\n",
    "aug_copy_b = aug_copy_b.assign(GDAY_DS=None, HEADER_NO=None, TB_SC=None)"
   ]
  },
  {
   "cell_type": "code",
   "execution_count": 43,
   "metadata": {},
   "outputs": [],
   "source": [
    "for i in range(aug_copy_a.shape[0]):\n",
    "    aug_copy_a.iloc[i, aug_copy_a.columns.get_loc('GDAY_DS')] = aug_copy_a.iloc[i, aug_copy_a.columns.get_loc('G_ID')][:8]\n",
    "    aug_copy_a.iloc[i, aug_copy_a.columns.get_loc('HEADER_NO')] = aug_copy_a.iloc[i, aug_copy_a.columns.get_loc('G_ID')][12]\n",
    "    aug_copy_a.iloc[i, aug_copy_a.columns.get_loc('TB_SC')] = 'T'\n",
    "for i in range(aug_copy_b.shape[0]):\n",
    "    aug_copy_b.iloc[i, aug_copy_a.columns.get_loc('GDAY_DS')] = aug_copy_b.iloc[i, aug_copy_a.columns.get_loc('G_ID')][:8]\n",
    "    aug_copy_b.iloc[i, aug_copy_a.columns.get_loc('HEADER_NO')] = aug_copy_b.iloc[i, aug_copy_a.columns.get_loc('G_ID')][12]\n",
    "    aug_copy_b.iloc[i, aug_copy_a.columns.get_loc('TB_SC')] = 'B'"
   ]
  },
  {
   "cell_type": "code",
   "execution_count": 44,
   "metadata": {},
   "outputs": [],
   "source": [
    "for i in range(aug_copy_a.shape[0]):\n",
    "    if aug_copy_a.iloc[i, aug_copy_a.columns.get_loc('G_ID')][-1] == '1':\n",
    "        aug_copy_a.iloc[i+1, aug_copy_a.columns.get_loc('G_ID')] = aug_copy_a.iloc[i+1, aug_copy_a.columns.get_loc('G_ID')].replace('1', '2')\n",
    "        aug_copy_a.iloc[i+1, aug_copy_a.columns.get_loc('HEADER_NO')] = '2'\n",
    "for i in range(aug_copy_b.shape[0]):\n",
    "    if aug_copy_b.iloc[i, aug_copy_b.columns.get_loc('G_ID')][-1] == '1':\n",
    "        aug_copy_b.iloc[i+1, aug_copy_b.columns.get_loc('G_ID')] = aug_copy_b.iloc[i+1, aug_copy_b.columns.get_loc('G_ID')].replace('1', '2')\n",
    "        aug_copy_b.iloc[i+1, aug_copy_b.columns.get_loc('HEADER_NO')] = '2'"
   ]
  },
  {
   "cell_type": "code",
   "execution_count": 45,
   "metadata": {},
   "outputs": [],
   "source": [
    "aug_copy = pd.concat([aug_copy_a, aug_copy_b]).sort_values('G_ID').reset_index(drop=True)"
   ]
  },
  {
   "cell_type": "code",
   "execution_count": 46,
   "metadata": {},
   "outputs": [],
   "source": [
    "aug_copy_hit = aug_copy[['G_ID', 'GDAY_DS', 'T_ID', 'VS_T_ID', 'HEADER_NO', 'TB_SC', 'PA', 'AB',\n",
    "       'RBI', 'RUN', 'HIT', 'H2', 'H3', 'HR', 'SB', 'CS', 'SH', 'SF', 'BB',\n",
    "       'IB', 'HP', 'KK', 'GD', 'ERR']]\n",
    "aug_copy_hit = aug_copy_hit.assign(LOB=None, P_HRA_RT=None, P_AB_CN=None, P_HIT_CN=None)"
   ]
  },
  {
   "cell_type": "code",
   "execution_count": 47,
   "metadata": {},
   "outputs": [],
   "source": [
    "aug_copy_pit = aug_copy[['G_ID', 'GDAY_DS', 'T_ID', 'VS_T_ID', 'HEADER_NO', 'TB_SC', 'CG_CK',\n",
    "       'WLS', 'HOLD', 'INN2', 'BF', 'PA', 'AB', 'HIT', 'H2', 'H3', 'HR', 'SB',\n",
    "       'CS', 'SH', 'SF', 'BB', 'IB', 'HP', 'KK', 'GD', 'WP', 'BK', 'ERR', 'R',\n",
    "       'ER']]\n",
    "\n",
    "aug_copy_pit = aug_copy_pit.assign(P_WHIP_RT=None, P2_WHIP_RT=None, CB_WHIP_RT=None)"
   ]
  },
  {
   "cell_type": "code",
   "execution_count": 48,
   "metadata": {},
   "outputs": [],
   "source": [
    "aug_copy_pit['INN2'] = aug_copy_pit['INN2'].astype('str')"
   ]
  },
  {
   "cell_type": "code",
   "execution_count": 49,
   "metadata": {},
   "outputs": [],
   "source": [
    "for i in range(aug_copy_pit.shape[0]):\n",
    "    if len(aug_copy_pit.iloc[i, 9].split(' ')) == 1:\n",
    "        aug_copy_pit.iloc[i, 9] = int(aug_copy_pit.iloc[i, 9])*3\n",
    "    else:\n",
    "        aug_copy_pit.iloc[i, 9] = int(aug_copy_pit.iloc[i, 9].split(' ')[0])*3 + (int(aug_copy_pit.iloc[i, 9].split(' ')[1].split('/')[0])/int(aug_copy_pit.iloc[i, 9].split(' ')[1].split('/')[1]))*3"
   ]
  },
  {
   "cell_type": "markdown",
   "metadata": {},
   "source": [
    "## Sep"
   ]
  },
  {
   "cell_type": "code",
   "execution_count": 50,
   "metadata": {},
   "outputs": [],
   "source": [
    "options = Options()\n",
    "options.headless = True\n",
    "driver = webdriver.Chrome('/Applications/chromedriver', options=options)"
   ]
  },
  {
   "cell_type": "code",
   "execution_count": 51,
   "metadata": {},
   "outputs": [],
   "source": [
    "driver.get('https://www.koreabaseball.com/Schedule/Schedule.aspx')\n",
    "driver.find_element_by_id('ddlMonth').send_keys('09')\n",
    "time.sleep(1)\n",
    "req = driver.page_source\n",
    "soup = BeautifulSoup(req, 'html.parser')"
   ]
  },
  {
   "cell_type": "code",
   "execution_count": 52,
   "metadata": {
    "scrolled": false
   },
   "outputs": [],
   "source": [
    "sep = pd.read_html(str(soup.select('div.tbl-type06')))[0].iloc[:127,:3].reset_index(drop=True)"
   ]
  },
  {
   "cell_type": "code",
   "execution_count": 53,
   "metadata": {},
   "outputs": [],
   "source": [
    "a = pd.DataFrame(columns=['날짜', '시간', '경기'])\n",
    "for i in range(sep.shape[0]):\n",
    "    a = pd.concat([a, pd.DataFrame([sep.iloc[i, :]]), pd.DataFrame([sep.iloc[i, :]])])\n",
    "sep = a.reset_index(drop=True)\n",
    "sep = sep.assign(AB=0, PA=0, RBI=0, RUN=0, HIT=0, H2=0, H3=0, HR=0, SB=0, CS=0, SH=0, SF=0, BB=0, IB=0,\n",
    "           HP=0, KK=0, GD=0, ERR=0, CG_CK=0, WLS=0, HOLD=0, WP=0, BK=0, INN2=0, BF=0, ER=0, R=0)\n",
    "sep = sep.iloc[list(range(30))+list(range(38, 44))+list(range(30, 38))+list(range(44, 78))+list(range(82, 90))\n",
    "         +list(range(78, 82))+list(range(90, 254)),].reset_index(drop=True)"
   ]
  },
  {
   "cell_type": "code",
   "execution_count": 54,
   "metadata": {},
   "outputs": [],
   "source": [
    "options.headless = True\n",
    "driver = webdriver.Chrome('/Applications/chromedriver', options=options)\n",
    "driver.get('https://www.koreabaseball.com/Schedule/GameCenter/Main.aspx')\n",
    "driver.find_element_by_css_selector('#contents > div.date-select > ul > li.today > img').click()\n",
    "driver.find_element_by_css_selector('#ui-datepicker-div > div > div > select.ui-datepicker-month').send_keys('9월(sep)')\n",
    "driver.find_element_by_css_selector('#ui-datepicker-div > table > tbody > tr:nth-child(1) > td:nth-child(3)').click()\n",
    "\n",
    "n = 0\n",
    "\n",
    "for j in range(26):\n",
    "    time.sleep(1)\n",
    "    soup = BeautifulSoup(driver.page_source, 'html.parser')\n",
    "    x = len(list(soup.find_all('div', {'class':'game-cont'})))\n",
    "    \n",
    "    for i in range(1, x+1):\n",
    "        try:\n",
    "            driver.find_element_by_css_selector('#contents > div.today-game > div > div.bx-viewport > ul > li:nth-child(%d) > div' % i).click()\n",
    "            driver.find_element_by_css_selector('#tabDepth2 > li:nth-child(2) > a').click()\n",
    "            \n",
    "            time.sleep(1)\n",
    "            soup = BeautifulSoup(driver.page_source, 'html.parser')\n",
    "            \n",
    "            table = pd.read_html(str(soup.select('div.summary.tbl-type02.mt30.mb30')))[0]\n",
    "            table.index = table[0]\n",
    "            table = table.drop([0], axis=1)\n",
    "            table = table.T.reset_index(drop=True)\n",
    "            \n",
    "            T_hit = pd.concat([pd.read_html(str(soup.select('div.hitter-record-area')))[0],\n",
    "                               pd.read_html(str(soup.select('div.hitter-record-area')))[1],\n",
    "                               pd.read_html(str(soup.select('div.hitter-record-area')))[2]], axis=1).iloc[:, 2:]\n",
    "            \n",
    "            B_hit = pd.concat([pd.read_html(str(soup.select('div.hitter-record-area')))[3],\n",
    "                               pd.read_html(str(soup.select('div.hitter-record-area')))[4],\n",
    "                               pd.read_html(str(soup.select('div.hitter-record-area')))[5]], axis=1).iloc[:, 2:]\n",
    "            \n",
    "            T_pit = pd.read_html(str(soup.select('div.pitcher-record-area')))[0]\n",
    "            \n",
    "            B_pit = pd.read_html(str(soup.select('div.pitcher-record-area')))[1]\n",
    "         \n",
    "            sep.iloc[n, 3] = int(T_hit.loc[T_hit['선수명'].isnull(), '타수'])\n",
    "            sep.iloc[n, 5] = int(T_hit.loc[T_hit['선수명'].isnull(), '타점'])\n",
    "            sep.iloc[n, 6] = int(T_hit.loc[T_hit['선수명'].isnull(), '득점'])\n",
    "            sep.iloc[n, 7] = int(T_hit.loc[T_hit['선수명'].isnull(), '안타'])\n",
    "            sep.iloc[n+1, 3] = int(B_hit.loc[B_hit['선수명'].isnull(), '타수'])\n",
    "            sep.iloc[n+1, 5] = int(B_hit.loc[B_hit['선수명'].isnull(), '타점'])\n",
    "            sep.iloc[n+1, 6] = int(B_hit.loc[B_hit['선수명'].isnull(), '득점'])\n",
    "            sep.iloc[n+1, 7] = int(B_hit.loc[B_hit['선수명'].isnull(), '안타'])\n",
    "            \n",
    "            for i in range(T_hit.shape[0]):\n",
    "                for j in range(1, 10):\n",
    "                    if T_hit.iloc[i, j] == '4구':\n",
    "                        sep.iloc[n, 15] += 1\n",
    "                    elif T_hit.iloc[i, j] == '고4':\n",
    "                        sep.iloc[n+1, 16] += 1\n",
    "                    elif T_hit.iloc[i, j] == '사구':\n",
    "                        sep.iloc[n+1, 17] += 1\n",
    "                for j in range(1, 10):\n",
    "                    if re.search('[가-힣]2', str(T_hit.iloc[i,j])) != None:\n",
    "                        sep.iloc[n, sep.columns.get_loc('H2')] += 1\n",
    "                    elif re.search('[가-힣]3', str(T_hit.iloc[i,j])) != None:\n",
    "                        sep.iloc[n, sep.columns.get_loc('H3')] += 1\n",
    "                    elif re.search('[가-힣]홈', str(T_hit.iloc[i,j])) != None:\n",
    "                        sep.iloc[n, sep.columns.get_loc('HR')] += 1\n",
    "                    elif re.search('[가-힣]희번', str(T_hit.iloc[i,j])) != None:\n",
    "                        sep.iloc[n, sep.columns.get_loc('SH')] += 1\n",
    "                    elif re.search('[가-힣]희비', str(T_hit.iloc[i,j])) != None:\n",
    "                        sep.iloc[n, sep.columns.get_loc('SF')] += 1\n",
    "                    elif re.search('[가-힣]병', str(T_hit.iloc[i,j])) != None:\n",
    "                        sep.iloc[n, sep.columns.get_loc('GD')] += 1\n",
    "            \n",
    "            for i in range(B_hit.shape[0]):\n",
    "                for j in range(1, 10):\n",
    "                    if B_hit.iloc[i, j] == '4구':\n",
    "                        sep.iloc[n+1, 15] += 1\n",
    "                    elif B_hit.iloc[i, j] == '고4':\n",
    "                        sep.iloc[n+1, 16] += 1\n",
    "                    elif B_hit.iloc[i, j] == '사구':\n",
    "                        sep.iloc[n+1, 17] += 1\n",
    "                for j in range(1, 10):\n",
    "                    if re.search('[가-힣]2', str(B_hit.iloc[i,j])) != None:\n",
    "                        sep.iloc[n+1, sep.columns.get_loc('H2')] +=  1\n",
    "                    elif re.search('[가-힣]3', str(B_hit.iloc[i,j])) != None:\n",
    "                        sep.iloc[n+1, sep.columns.get_loc('H3')] +=  1\n",
    "                    elif re.search('[가-힣]홈', str(B_hit.iloc[i,j])) != None:\n",
    "                        sep.iloc[n+1, sep.columns.get_loc('HR')] += 1\n",
    "                    elif re.search('[가-힣]희번', str(B_hit.iloc[i,j])) != None:\n",
    "                        sep.iloc[n+1, sep.columns.get_loc('SH')] += 1\n",
    "                    elif re.search('[가-힣]희비', str(B_hit.iloc[i,j])) != None:\n",
    "                        sep.iloc[n+1, sep.columns.get_loc('SF')] += 1\n",
    "                    elif re.search('[가-힣]병', str(B_hit.iloc[i,j])) != None:\n",
    "                        sep.iloc[n+1, sep.columns.get_loc('GD')] += 1\n",
    "            \n",
    "            if '도루' in table.columns:\n",
    "                for i in range(len(table['도루'][0].split(' '))):\n",
    "                    if table['도루'][0].split(' ')[i][:-4] in list(T_hit['선수명']):\n",
    "                        sep.iloc[n, 11] += 1\n",
    "                    elif table['도루'][0].split(' ')[i][:-4] in list(B_hit['선수명']):\n",
    "                        sep.iloc[n+1, 11] += 1\n",
    "            else: pass\n",
    "            \n",
    "            if '도루자' in table.columns:\n",
    "                for i in range(len(table['도루자'][0].split(' '))):\n",
    "                    if table['도루자'][0].split(' ')[i][:-4] in list(T_hit['선수명']):\n",
    "                        sep.iloc[n, 12] = sep.iloc[n, 12] + 1\n",
    "                    elif table['도루자'][0].split(' ')[i][:-4] in list(B_hit['선수명']):\n",
    "                        sep.iloc[n+1, 12] = sep.iloc[n+1, 12] + 1\n",
    "            else: pass\n",
    "            \n",
    "            if '실책' in table.columns:\n",
    "                for i in range(len(table['실책'][0].split(' '))):\n",
    "                    if table['실책'][0].split(' ')[i][:-4] in list(T_hit['선수명']):\n",
    "                        sep.iloc[n, 20] += 1\n",
    "                    elif table['실책'][0].split(' ')[i][:-4] in list(B_hit['선수명']):\n",
    "                        sep.iloc[n+1, 20] += 1\n",
    "            \n",
    "            # CG_CK\n",
    "            if T_pit.shape[0] == 2:\n",
    "                sep.iloc[n, 21] = 1\n",
    "            else: pass\n",
    "            if B_pit.shape[0] == 2:\n",
    "                sep.iloc[n+1, 21] = 1\n",
    "            else: pass\n",
    "            \n",
    "            if '승' in list(T_pit.iloc[:,2]):\n",
    "                sep.iloc[n, 22] = 'W'\n",
    "                sep.iloc[n+1, 22] = 'L'\n",
    "            elif '패' in list(T_pit.iloc[:,2]):\n",
    "                sep.iloc[n, 22] = 'L'\n",
    "                sep.iloc[n+1, 22] = 'W'\n",
    "            else:\n",
    "                sep.iloc[n, 22] = 'D'\n",
    "                sep.iloc[n+1, 22] = 'D'\n",
    "            \n",
    "            if '폭투' in table.columns:\n",
    "                for i in range(len(table['폭투'][0].split(' '))):\n",
    "                    if table['폭투'][0].split(' ')[i][:-4] in list(T_pit['선수명']):\n",
    "                        sep.iloc[n, 24] += 1\n",
    "                    elif table['폭투'][0].split(' ')[i][:-4] in list(B_pit['선수명']):\n",
    "                        sep.iloc[n+1, 24] += 1\n",
    "            \n",
    "            if '보크' in table.columns:\n",
    "                for i in range(len(table['보크'][0].split(' '))):\n",
    "                    if table['보크'][0].split(' ')[i][:-4] in list(T_pit['선수명']):\n",
    "                        sep.iloc[n, 25] += 1\n",
    "                    elif table['보크'][0].split(' ')[i][:-4] in list(B_pit['선수명']):\n",
    "                        sep.iloc[n+1, 25] += 1  \n",
    "            \n",
    "            if '홀드' in list(T_pit.iloc[:,2]):\n",
    "                    sep.iloc[n, 23] = list(T_pit.iloc[:,2]).count('홀드')\n",
    "            if '홀드' in list(B_pit.iloc[:,2]):\n",
    "                sep.iloc[n+1, 23] = list(B_pit.iloc[:,2]).count('홀드')\n",
    "            \n",
    "            # KK\n",
    "            sep.iloc[n, 18] = T_pit.iloc[-1, 13]\n",
    "            sep.iloc[n+1, 18] = B_pit.iloc[-1, 13]\n",
    "            \n",
    "            # INN2\n",
    "            sep.iloc[n, 26] = T_pit.iloc[-1, 6]\n",
    "            sep.iloc[n+1, 26] = B_pit.iloc[-1, 6]\n",
    "            \n",
    "            # BF\n",
    "            sep.iloc[n, 27] = T_pit.iloc[-1, 8]\n",
    "            sep.iloc[n+1, 27] = B_pit.iloc[-1, 8]\n",
    "            \n",
    "            # ER\n",
    "            sep.iloc[n, 28] = T_pit.iloc[-1, 15]\n",
    "            sep.iloc[n+1, 28] = B_pit.iloc[-1, 15]\n",
    "            \n",
    "            # R\n",
    "            sep.iloc[n, 29] = T_pit.iloc[-1, 14]\n",
    "            sep.iloc[n+1, 29] = B_pit.iloc[-1, 14]\n",
    "            \n",
    "            # PA\n",
    "            sep.iloc[n, 4] = B_pit.iloc[-1, 7]\n",
    "            sep.iloc[n+1, 4] = T_pit.iloc[-1, 7]\n",
    "            \n",
    "            # AB\n",
    "            sep.iloc[n, 3] = B_pit.iloc[-1, 9]\n",
    "            sep.iloc[n+1, 3] = T_pit.iloc[-1, 9]\n",
    "            \n",
    "            try: \n",
    "                driver.find_element_by_css_selector('#contents > div.today-game > div > div.bx-controls.bx-has-controls-direction > div > a.bx-next').click()\n",
    "            except: pass\n",
    "            \n",
    "        except: pass\n",
    "        \n",
    "        n += 2\n",
    "\n",
    "    driver.find_element_by_css_selector('#lnkNext > img').click()"
   ]
  },
  {
   "cell_type": "code",
   "execution_count": 55,
   "metadata": {
    "scrolled": false
   },
   "outputs": [],
   "source": [
    "sep_copy = sep.copy()"
   ]
  },
  {
   "cell_type": "code",
   "execution_count": 56,
   "metadata": {},
   "outputs": [],
   "source": [
    "for i in range(sep_copy.shape[0]-10):\n",
    "    for j in range(1, 11):\n",
    "        if sum(sep_copy.iloc[i, 3:] == sep_copy.iloc[i+j, 3:]) == 27:\n",
    "            sep_copy.iloc[i+j, 3:] = 0"
   ]
  },
  {
   "cell_type": "code",
   "execution_count": 57,
   "metadata": {},
   "outputs": [],
   "source": [
    "sep_copy_a = sep_copy.iloc[[2*n for n in range(int(sep_copy.shape[0]/2))],].reset_index(drop=True)\n",
    "sep_copy_b = sep_copy.iloc[[2*n+1 for n in range(int(sep_copy.shape[0]/2))],].reset_index(drop=True)"
   ]
  },
  {
   "cell_type": "code",
   "execution_count": 58,
   "metadata": {},
   "outputs": [],
   "source": [
    "sep_copy_a = sep_copy_a.assign(T=None, B=None)\n",
    "sep_copy_b = sep_copy_b.assign(T=None, B=None)"
   ]
  },
  {
   "cell_type": "code",
   "execution_count": 59,
   "metadata": {},
   "outputs": [],
   "source": [
    "for i in range(sep_copy_a.shape[0]):\n",
    "    sep_copy_a.iloc[i, sep_copy_a.columns.get_loc('T')] = sep_copy_a.iloc[i, sep_copy_a.columns.get_loc('경기')].split('vs')[0][:2]\n",
    "    sep_copy_a.iloc[i, sep_copy_a.columns.get_loc('B')] = sep_copy_a.iloc[i, sep_copy_a.columns.get_loc('경기')].split('vs')[1][-2:]\n",
    "for i in range(sep_copy_b.shape[0]):\n",
    "    sep_copy_b.iloc[i, sep_copy_a.columns.get_loc('T')] = sep_copy_b.iloc[i, sep_copy_a.columns.get_loc('경기')].split('vs')[0][:2]\n",
    "    sep_copy_b.iloc[i, sep_copy_a.columns.get_loc('B')] = sep_copy_b.iloc[i, sep_copy_a.columns.get_loc('경기')].split('vs')[1][-2:]"
   ]
  },
  {
   "cell_type": "code",
   "execution_count": 60,
   "metadata": {},
   "outputs": [],
   "source": [
    "for i in range(sep_copy_a.shape[0]):\n",
    "    sep_copy_a.iloc[i, sep_copy_a.columns.get_loc('날짜')] = '2020.' + sep_copy_a.iloc[i, sep_copy_a.columns.get_loc('날짜')][:5]\n",
    "    sep_copy_a.iloc[i, sep_copy_a.columns.get_loc('날짜')] = sep_copy_a.iloc[i, sep_copy_a.columns.get_loc('날짜')].replace('.', '')\n",
    "for i in range(sep_copy_b.shape[0]):\n",
    "    sep_copy_b.iloc[i, sep_copy_a.columns.get_loc('날짜')] = '2020.' + sep_copy_b.iloc[i, sep_copy_a.columns.get_loc('날짜')][:5]\n",
    "    sep_copy_b.iloc[i, sep_copy_a.columns.get_loc('날짜')] = sep_copy_b.iloc[i, sep_copy_a.columns.get_loc('날짜')].replace('.', '')"
   ]
  },
  {
   "cell_type": "code",
   "execution_count": 61,
   "metadata": {},
   "outputs": [],
   "source": [
    "name = {'NC':'NC', '두산':'OB', '키움':'WO', 'KI':'HT', 'IA':'HT', 'LG':'LG',\n",
    "       '삼성':'SS', 'KT':'KT', '롯데':'LT', 'SK':'SK', '한화':'HH'}\n",
    "\n",
    "f = lambda x: name.get(x, x)\n",
    "sep_copy_a['T'] = sep_copy_a['T'].map(f) ; sep_copy_a['B'] = sep_copy_a['B'].map(f)\n",
    "sep_copy_b['T'] = sep_copy_b['T'].map(f) ; sep_copy_b['B'] = sep_copy_b['B'].map(f)"
   ]
  },
  {
   "cell_type": "code",
   "execution_count": 62,
   "metadata": {},
   "outputs": [],
   "source": [
    "sep_copy_a['G_ID'] = sep_copy_a['날짜'] + sep_copy_a['T'] + sep_copy_a['B']\n",
    "sep_copy_b['G_ID'] = sep_copy_b['날짜'] + sep_copy_b['T'] + sep_copy_b['B']"
   ]
  },
  {
   "cell_type": "code",
   "execution_count": 63,
   "metadata": {},
   "outputs": [],
   "source": [
    "for i in sep_copy_a[sep_copy_a.duplicated(['G_ID'], keep=False) == True].index:\n",
    "    sep_copy_a.iloc[i, sep_copy_a.columns.get_loc('G_ID')] = sep_copy_a.iloc[i, sep_copy_a.columns.get_loc('G_ID')] + '1'\n",
    "for i in sep_copy_a[sep_copy_a.duplicated(['G_ID'], keep=False) == False].index:\n",
    "    sep_copy_a.iloc[i, sep_copy_a.columns.get_loc('G_ID')] = sep_copy_a.iloc[i, sep_copy_a.columns.get_loc('G_ID')] + '0'\n",
    "for i in sep_copy_b[sep_copy_b.duplicated(['G_ID'], keep=False) == True].index:\n",
    "    sep_copy_b.iloc[i, sep_copy_b.columns.get_loc('G_ID')] = sep_copy_b.iloc[i, sep_copy_b.columns.get_loc('G_ID')] + '1'\n",
    "for i in sep_copy_b[sep_copy_b.duplicated(['G_ID'], keep=False) == False].index:\n",
    "    sep_copy_b.iloc[i, sep_copy_b.columns.get_loc('G_ID')] = sep_copy_b.iloc[i, sep_copy_b.columns.get_loc('G_ID')] + '0'"
   ]
  },
  {
   "cell_type": "code",
   "execution_count": 64,
   "metadata": {},
   "outputs": [],
   "source": [
    "sep_copy_a = sep_copy_a.drop(['시간', '경기'], axis=1)\n",
    "sep_copy_b = sep_copy_b.drop(['시간', '경기'], axis=1)"
   ]
  },
  {
   "cell_type": "code",
   "execution_count": 65,
   "metadata": {},
   "outputs": [],
   "source": [
    "sep_copy_a = sep_copy_a.rename(columns={'T':'T_ID', 'B':'VS_T_ID'})\n",
    "sep_copy_b = sep_copy_b.rename(columns={'T':'VS_T_ID', 'B':'T_ID'})"
   ]
  },
  {
   "cell_type": "code",
   "execution_count": 66,
   "metadata": {},
   "outputs": [],
   "source": [
    "sep_copy_a = sep_copy_a.assign(GDAY_DS=None, HEADER_NO=None, TB_SC=None)\n",
    "sep_copy_b = sep_copy_b.assign(GDAY_DS=None, HEADER_NO=None, TB_SC=None)"
   ]
  },
  {
   "cell_type": "code",
   "execution_count": 67,
   "metadata": {},
   "outputs": [],
   "source": [
    "for i in range(sep_copy_a.shape[0]):\n",
    "    sep_copy_a.iloc[i, sep_copy_a.columns.get_loc('GDAY_DS')] = sep_copy_a.iloc[i, sep_copy_a.columns.get_loc('G_ID')][:8]\n",
    "    sep_copy_a.iloc[i, sep_copy_a.columns.get_loc('HEADER_NO')] = sep_copy_a.iloc[i, sep_copy_a.columns.get_loc('G_ID')][12]\n",
    "    sep_copy_a.iloc[i, sep_copy_a.columns.get_loc('TB_SC')] = 'T'\n",
    "for i in range(sep_copy_b.shape[0]):\n",
    "    sep_copy_b.iloc[i, sep_copy_a.columns.get_loc('GDAY_DS')] = sep_copy_b.iloc[i, sep_copy_a.columns.get_loc('G_ID')][:8]\n",
    "    sep_copy_b.iloc[i, sep_copy_a.columns.get_loc('HEADER_NO')] = sep_copy_b.iloc[i, sep_copy_a.columns.get_loc('G_ID')][12]\n",
    "    sep_copy_b.iloc[i, sep_copy_a.columns.get_loc('TB_SC')] = 'B'"
   ]
  },
  {
   "cell_type": "code",
   "execution_count": 68,
   "metadata": {},
   "outputs": [],
   "source": [
    "for i in range(sep_copy_a.shape[0]-1):\n",
    "    if (sep_copy_a.iloc[i, sep_copy_a.columns.get_loc('G_ID')][-1] == '1') & (sep_copy_a.iloc[i, sep_copy_a.columns.get_loc('G_ID')] == sep_copy_a.iloc[i+1, sep_copy_a.columns.get_loc('G_ID')]):\n",
    "        sep_copy_a.iloc[i+1, sep_copy_a.columns.get_loc('G_ID')] = sep_copy_a.iloc[i+1, sep_copy_a.columns.get_loc('G_ID')].replace('1', '2')\n",
    "        sep_copy_a.iloc[i+1, sep_copy_a.columns.get_loc('HEADER_NO')] = '2'\n",
    "    elif (sep_copy_a.iloc[i, sep_copy_a.columns.get_loc('G_ID')][-1] == '1') & (sep_copy_a.iloc[i, sep_copy_a.columns.get_loc('G_ID')] != sep_copy_a.iloc[i+1, sep_copy_a.columns.get_loc('G_ID')]):\n",
    "        sep_copy_a.iloc[i+2, sep_copy_a.columns.get_loc('G_ID')] = sep_copy_a.iloc[i+2, sep_copy_a.columns.get_loc('G_ID')].replace('1', '2')\n",
    "        sep_copy_a.iloc[i+2, sep_copy_a.columns.get_loc('HEADER_NO')] = '2'\n",
    "\n",
    "for i in range(sep_copy_b.shape[0]-1):\n",
    "    if (sep_copy_b.iloc[i, sep_copy_b.columns.get_loc('G_ID')][-1] == '1') & (sep_copy_b.iloc[i, sep_copy_b.columns.get_loc('G_ID')] == sep_copy_b.iloc[i+1, sep_copy_b.columns.get_loc('G_ID')]):\n",
    "        sep_copy_b.iloc[i+1, sep_copy_b.columns.get_loc('G_ID')] = sep_copy_b.iloc[i+1, sep_copy_b.columns.get_loc('G_ID')].replace('1', '2')\n",
    "        sep_copy_b.iloc[i+1, sep_copy_b.columns.get_loc('HEADER_NO')] = '2'\n",
    "    elif (sep_copy_b.iloc[i, sep_copy_b.columns.get_loc('G_ID')][-1] == '1') & (sep_copy_b.iloc[i, sep_copy_b.columns.get_loc('G_ID')] != sep_copy_b.iloc[i+1, sep_copy_b.columns.get_loc('G_ID')]):\n",
    "        sep_copy_b.iloc[i+2, sep_copy_b.columns.get_loc('G_ID')] = sep_copy_b.iloc[i+2, sep_copy_b.columns.get_loc('G_ID')].replace('1', '2')\n",
    "        sep_copy_b.iloc[i+2, sep_copy_b.columns.get_loc('HEADER_NO')] = '2'"
   ]
  },
  {
   "cell_type": "code",
   "execution_count": 69,
   "metadata": {},
   "outputs": [],
   "source": [
    "sep_copy = pd.concat([sep_copy_a, sep_copy_b]).sort_values('G_ID').reset_index(drop=True)"
   ]
  },
  {
   "cell_type": "code",
   "execution_count": 70,
   "metadata": {},
   "outputs": [],
   "source": [
    "sep_copy_hit = sep_copy[['G_ID', 'GDAY_DS', 'T_ID', 'VS_T_ID', 'HEADER_NO', 'TB_SC', 'PA', 'AB',\n",
    "       'RBI', 'RUN', 'HIT', 'H2', 'H3', 'HR', 'SB', 'CS', 'SH', 'SF', 'BB',\n",
    "       'IB', 'HP', 'KK', 'GD', 'ERR']]\n",
    "sep_copy_hit = sep_copy_hit.assign(LOB=None, P_HRA_RT=None, P_AB_CN=None, P_HIT_CN=None)"
   ]
  },
  {
   "cell_type": "code",
   "execution_count": 71,
   "metadata": {},
   "outputs": [],
   "source": [
    "sep_copy_pit = sep_copy[['G_ID', 'GDAY_DS', 'T_ID', 'VS_T_ID', 'HEADER_NO', 'TB_SC', 'CG_CK',\n",
    "       'WLS', 'HOLD', 'INN2', 'BF', 'PA', 'AB', 'HIT', 'H2', 'H3', 'HR', 'SB',\n",
    "       'CS', 'SH', 'SF', 'BB', 'IB', 'HP', 'KK', 'GD', 'WP', 'BK', 'ERR', 'R',\n",
    "       'ER']]\n",
    "\n",
    "sep_copy_pit = sep_copy_pit.assign(P_WHIP_RT=None, P2_WHIP_RT=None, CB_WHIP_RT=None)"
   ]
  },
  {
   "cell_type": "code",
   "execution_count": 72,
   "metadata": {},
   "outputs": [],
   "source": [
    "sep_copy_pit['INN2'] = sep_copy_pit['INN2'].astype('str')"
   ]
  },
  {
   "cell_type": "code",
   "execution_count": 73,
   "metadata": {},
   "outputs": [],
   "source": [
    "for i in range(sep_copy_pit.shape[0]):\n",
    "    if len(sep_copy_pit.iloc[i, 9].split(' ')) == 1:\n",
    "        sep_copy_pit.iloc[i, 9] = int(sep_copy_pit.iloc[i, 9])*3\n",
    "    else:\n",
    "        sep_copy_pit.iloc[i, 9] = int(sep_copy_pit.iloc[i, 9].split(' ')[0])*3 + (int(sep_copy_pit.iloc[i, 9].split(' ')[1].split('/')[0])/int(sep_copy_pit.iloc[i, 9].split(' ')[1].split('/')[1]))*3"
   ]
  },
  {
   "cell_type": "markdown",
   "metadata": {},
   "source": [
    "## Total"
   ]
  },
  {
   "cell_type": "code",
   "execution_count": 74,
   "metadata": {},
   "outputs": [],
   "source": [
    "chit20 = pd.concat([jul_copy_hit, aug_copy_hit, sep_copy_hit]).sort_values('G_ID').reset_index(drop=True)\n",
    "cpit20 = pd.concat([jul_copy_pit, aug_copy_pit, sep_copy_pit]).sort_values('G_ID').reset_index(drop=True) ; cpit20.INN2 = cpit20.INN2.astype('int')"
   ]
  },
  {
   "cell_type": "code",
   "execution_count": 75,
   "metadata": {},
   "outputs": [],
   "source": [
    "chit20.to_csv('chit20.csv', index=False)\n",
    "cpit20.to_csv('cpit20.csv', index=False)"
   ]
  }
 ],
 "metadata": {
  "kernelspec": {
   "display_name": "Python 3",
   "language": "python",
   "name": "python3"
  },
  "language_info": {
   "codemirror_mode": {
    "name": "ipython",
    "version": 3
   },
   "file_extension": ".py",
   "mimetype": "text/x-python",
   "name": "python",
   "nbconvert_exporter": "python",
   "pygments_lexer": "ipython3",
   "version": "3.7.6"
  }
 },
 "nbformat": 4,
 "nbformat_minor": 4
}
