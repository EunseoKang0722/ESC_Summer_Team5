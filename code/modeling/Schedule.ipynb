{
 "cells": [
  {
   "cell_type": "code",
   "execution_count": 1,
   "metadata": {},
   "outputs": [],
   "source": [
    "import pandas as pd"
   ]
  },
  {
   "cell_type": "code",
   "execution_count": 2,
   "metadata": {},
   "outputs": [],
   "source": [
    "schedule = pd.read_csv('schedule.csv')"
   ]
  },
  {
   "cell_type": "code",
   "execution_count": 3,
   "metadata": {},
   "outputs": [],
   "source": [
    "schedule['T'] = None\n",
    "schedule['B'] = None"
   ]
  },
  {
   "cell_type": "code",
   "execution_count": 4,
   "metadata": {},
   "outputs": [],
   "source": [
    "for i in range(schedule.shape[0]):\n",
    "    schedule.iloc[i, 4] = schedule.iloc[i, 2].split('vs')[0]\n",
    "    schedule.iloc[i, 5] = schedule.iloc[i, 2].split('vs')[1]"
   ]
  },
  {
   "cell_type": "code",
   "execution_count": 5,
   "metadata": {},
   "outputs": [],
   "source": [
    "for i in range(schedule.shape[0]):\n",
    "    schedule.iloc[i, 0] = '2020.' + schedule.iloc[i, 0][:5]\n",
    "    schedule.iloc[i, 0] = schedule.iloc[i, 0].replace('.', '')"
   ]
  },
  {
   "cell_type": "code",
   "execution_count": 6,
   "metadata": {},
   "outputs": [],
   "source": [
    "name = {'NC':'NC', '두산':'OB', '키움':'WO', 'KIA':'HT', 'LG':'LG',\n",
    "       '삼성':'SS', 'KT':'KT', '롯데':'LT', 'SK':'SK', '한화':'HH'}\n",
    "\n",
    "f = lambda x: name.get(x, x)\n",
    "schedule['T'] = schedule['T'].map(f)\n",
    "schedule['B'] = schedule['B'].map(f)"
   ]
  },
  {
   "cell_type": "code",
   "execution_count": 7,
   "metadata": {},
   "outputs": [],
   "source": [
    "schedule = pd.DataFrame(schedule['date'] + schedule['T'] + schedule['B'], columns=['G_ID'])"
   ]
  },
  {
   "cell_type": "code",
   "execution_count": 8,
   "metadata": {},
   "outputs": [],
   "source": [
    "for i in schedule[schedule.duplicated(['G_ID'], keep=False) == True].index:\n",
    "    schedule.iloc[i, 0] = schedule.iloc[i, 0] + '1'\n",
    "for i in schedule[schedule.duplicated(['G_ID'], keep=False) == False].index:\n",
    "    schedule.iloc[i, 0] = schedule.iloc[i, 0] + '0'"
   ]
  },
  {
   "cell_type": "code",
   "execution_count": 9,
   "metadata": {},
   "outputs": [],
   "source": [
    "schedule['TEAM'] = None\n",
    "schedule['TB_SC'] = None"
   ]
  },
  {
   "cell_type": "code",
   "execution_count": 10,
   "metadata": {},
   "outputs": [],
   "source": [
    "schedule_B  = schedule.copy()"
   ]
  },
  {
   "cell_type": "code",
   "execution_count": 11,
   "metadata": {},
   "outputs": [],
   "source": [
    "for i in range(schedule.shape[0]):\n",
    "    schedule.iloc[i, 1] = schedule.iloc[i, 0][8:10]\n",
    "    schedule.iloc[i, 2] = 'T'\n",
    "for i in range(schedule_B.shape[0]):\n",
    "    schedule_B.iloc[i, 1] = schedule_B.iloc[i, 0][10:12]\n",
    "    schedule_B.iloc[i, 2] = 'B'"
   ]
  },
  {
   "cell_type": "code",
   "execution_count": 12,
   "metadata": {},
   "outputs": [],
   "source": [
    "schedule_m = pd.concat([schedule, schedule_B]).reset_index(drop=True)"
   ]
  },
  {
   "cell_type": "code",
   "execution_count": 13,
   "metadata": {},
   "outputs": [
    {
     "data": {
      "text/html": [
       "<div>\n",
       "<style scoped>\n",
       "    .dataframe tbody tr th:only-of-type {\n",
       "        vertical-align: middle;\n",
       "    }\n",
       "\n",
       "    .dataframe tbody tr th {\n",
       "        vertical-align: top;\n",
       "    }\n",
       "\n",
       "    .dataframe thead th {\n",
       "        text-align: right;\n",
       "    }\n",
       "</style>\n",
       "<table border=\"1\" class=\"dataframe\">\n",
       "  <thead>\n",
       "    <tr style=\"text-align: right;\">\n",
       "      <th></th>\n",
       "      <th>G_ID</th>\n",
       "      <th>TEAM</th>\n",
       "      <th>TB_SC</th>\n",
       "    </tr>\n",
       "  </thead>\n",
       "  <tbody>\n",
       "    <tr>\n",
       "      <th>0</th>\n",
       "      <td>20200929LTLG0</td>\n",
       "      <td>LT</td>\n",
       "      <td>T</td>\n",
       "    </tr>\n",
       "    <tr>\n",
       "      <th>1</th>\n",
       "      <td>20200929KTSS0</td>\n",
       "      <td>KT</td>\n",
       "      <td>T</td>\n",
       "    </tr>\n",
       "    <tr>\n",
       "      <th>2</th>\n",
       "      <td>20200929SKNC0</td>\n",
       "      <td>SK</td>\n",
       "      <td>T</td>\n",
       "    </tr>\n",
       "    <tr>\n",
       "      <th>3</th>\n",
       "      <td>20200929HTWO0</td>\n",
       "      <td>HT</td>\n",
       "      <td>T</td>\n",
       "    </tr>\n",
       "    <tr>\n",
       "      <th>4</th>\n",
       "      <td>20200929OBHH0</td>\n",
       "      <td>OB</td>\n",
       "      <td>T</td>\n",
       "    </tr>\n",
       "    <tr>\n",
       "      <th>...</th>\n",
       "      <td>...</td>\n",
       "      <td>...</td>\n",
       "      <td>...</td>\n",
       "    </tr>\n",
       "    <tr>\n",
       "      <th>183</th>\n",
       "      <td>20201018HTLG0</td>\n",
       "      <td>LG</td>\n",
       "      <td>B</td>\n",
       "    </tr>\n",
       "    <tr>\n",
       "      <th>184</th>\n",
       "      <td>20201018KTSK0</td>\n",
       "      <td>SK</td>\n",
       "      <td>B</td>\n",
       "    </tr>\n",
       "    <tr>\n",
       "      <th>185</th>\n",
       "      <td>20201018LTNC0</td>\n",
       "      <td>NC</td>\n",
       "      <td>B</td>\n",
       "    </tr>\n",
       "    <tr>\n",
       "      <th>186</th>\n",
       "      <td>20201018OBWO0</td>\n",
       "      <td>WO</td>\n",
       "      <td>B</td>\n",
       "    </tr>\n",
       "    <tr>\n",
       "      <th>187</th>\n",
       "      <td>20201018SSHH0</td>\n",
       "      <td>HH</td>\n",
       "      <td>B</td>\n",
       "    </tr>\n",
       "  </tbody>\n",
       "</table>\n",
       "<p>188 rows × 3 columns</p>\n",
       "</div>"
      ],
      "text/plain": [
       "              G_ID TEAM TB_SC\n",
       "0    20200929LTLG0   LT     T\n",
       "1    20200929KTSS0   KT     T\n",
       "2    20200929SKNC0   SK     T\n",
       "3    20200929HTWO0   HT     T\n",
       "4    20200929OBHH0   OB     T\n",
       "..             ...  ...   ...\n",
       "183  20201018HTLG0   LG     B\n",
       "184  20201018KTSK0   SK     B\n",
       "185  20201018LTNC0   NC     B\n",
       "186  20201018OBWO0   WO     B\n",
       "187  20201018SSHH0   HH     B\n",
       "\n",
       "[188 rows x 3 columns]"
      ]
     },
     "execution_count": 13,
     "metadata": {},
     "output_type": "execute_result"
    }
   ],
   "source": [
    "schedule_m"
   ]
  },
  {
   "cell_type": "code",
   "execution_count": 14,
   "metadata": {},
   "outputs": [],
   "source": [
    "schedule_m.to_csv('schedule_m.csv', index=False)"
   ]
  }
 ],
 "metadata": {
  "kernelspec": {
   "display_name": "Python 3",
   "language": "python",
   "name": "python3"
  },
  "language_info": {
   "codemirror_mode": {
    "name": "ipython",
    "version": 3
   },
   "file_extension": ".py",
   "mimetype": "text/x-python",
   "name": "python",
   "nbconvert_exporter": "python",
   "pygments_lexer": "ipython3",
   "version": "3.8.2"
  }
 },
 "nbformat": 4,
 "nbformat_minor": 4
}
