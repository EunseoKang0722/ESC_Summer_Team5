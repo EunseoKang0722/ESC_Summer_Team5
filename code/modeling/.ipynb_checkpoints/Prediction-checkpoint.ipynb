{
 "cells": [
  {
   "cell_type": "code",
   "execution_count": 1,
   "metadata": {},
   "outputs": [],
   "source": [
    "import pandas as pd"
   ]
  },
  {
   "cell_type": "code",
   "execution_count": 2,
   "metadata": {},
   "outputs": [],
   "source": [
    "data = pd.read_csv('cluster.csv')"
   ]
  },
  {
   "cell_type": "code",
   "execution_count": 3,
   "metadata": {},
   "outputs": [],
   "source": [
    "data = data.sort_values(['G_ID']).reset_index(drop=True)"
   ]
  },
  {
   "cell_type": "code",
   "execution_count": 4,
   "metadata": {
    "scrolled": false
   },
   "outputs": [
    {
     "data": {
      "text/html": [
       "<div>\n",
       "<style scoped>\n",
       "    .dataframe tbody tr th:only-of-type {\n",
       "        vertical-align: middle;\n",
       "    }\n",
       "\n",
       "    .dataframe tbody tr th {\n",
       "        vertical-align: top;\n",
       "    }\n",
       "\n",
       "    .dataframe thead th {\n",
       "        text-align: right;\n",
       "    }\n",
       "</style>\n",
       "<table border=\"1\" class=\"dataframe\">\n",
       "  <thead>\n",
       "    <tr style=\"text-align: right;\">\n",
       "      <th></th>\n",
       "      <th>G_ID</th>\n",
       "      <th>T_ID</th>\n",
       "      <th>TB_SC</th>\n",
       "      <th>WLS</th>\n",
       "      <th>cluster_team_hit</th>\n",
       "      <th>cluster_team_pit</th>\n",
       "      <th>hit_f1</th>\n",
       "      <th>hit_f2</th>\n",
       "      <th>hit_f3</th>\n",
       "      <th>pit_f1</th>\n",
       "      <th>pit_f2</th>\n",
       "      <th>pit_f3</th>\n",
       "      <th>pit_f4</th>\n",
       "    </tr>\n",
       "  </thead>\n",
       "  <tbody>\n",
       "    <tr>\n",
       "      <th>0</th>\n",
       "      <td>20160401HHLG0</td>\n",
       "      <td>HH</td>\n",
       "      <td>T</td>\n",
       "      <td>L</td>\n",
       "      <td>1</td>\n",
       "      <td>2</td>\n",
       "      <td>3.246649</td>\n",
       "      <td>-0.672442</td>\n",
       "      <td>0.381691</td>\n",
       "      <td>3.257575</td>\n",
       "      <td>1.922055</td>\n",
       "      <td>-0.487703</td>\n",
       "      <td>0.570372</td>\n",
       "    </tr>\n",
       "    <tr>\n",
       "      <th>1</th>\n",
       "      <td>20160401HHLG0</td>\n",
       "      <td>LG</td>\n",
       "      <td>B</td>\n",
       "      <td>W</td>\n",
       "      <td>1</td>\n",
       "      <td>2</td>\n",
       "      <td>3.911625</td>\n",
       "      <td>3.908232</td>\n",
       "      <td>0.584086</td>\n",
       "      <td>1.628395</td>\n",
       "      <td>-1.852215</td>\n",
       "      <td>-4.780953</td>\n",
       "      <td>0.165376</td>\n",
       "    </tr>\n",
       "    <tr>\n",
       "      <th>2</th>\n",
       "      <td>20160401HTNC0</td>\n",
       "      <td>HT</td>\n",
       "      <td>T</td>\n",
       "      <td>L</td>\n",
       "      <td>0</td>\n",
       "      <td>2</td>\n",
       "      <td>1.241272</td>\n",
       "      <td>3.745046</td>\n",
       "      <td>-0.019960</td>\n",
       "      <td>-1.833570</td>\n",
       "      <td>2.154450</td>\n",
       "      <td>2.406045</td>\n",
       "      <td>-0.540537</td>\n",
       "    </tr>\n",
       "    <tr>\n",
       "      <th>3</th>\n",
       "      <td>20160401HTNC0</td>\n",
       "      <td>NC</td>\n",
       "      <td>B</td>\n",
       "      <td>W</td>\n",
       "      <td>0</td>\n",
       "      <td>1</td>\n",
       "      <td>-4.395091</td>\n",
       "      <td>1.595850</td>\n",
       "      <td>-0.651251</td>\n",
       "      <td>2.606790</td>\n",
       "      <td>0.850158</td>\n",
       "      <td>0.117356</td>\n",
       "      <td>0.240472</td>\n",
       "    </tr>\n",
       "    <tr>\n",
       "      <th>4</th>\n",
       "      <td>20160401KTSK0</td>\n",
       "      <td>KT</td>\n",
       "      <td>T</td>\n",
       "      <td>W</td>\n",
       "      <td>1</td>\n",
       "      <td>2</td>\n",
       "      <td>-1.585208</td>\n",
       "      <td>-0.252571</td>\n",
       "      <td>0.096828</td>\n",
       "      <td>3.459719</td>\n",
       "      <td>-5.017508</td>\n",
       "      <td>0.694972</td>\n",
       "      <td>0.116226</td>\n",
       "    </tr>\n",
       "  </tbody>\n",
       "</table>\n",
       "</div>"
      ],
      "text/plain": [
       "            G_ID T_ID TB_SC WLS  cluster_team_hit  cluster_team_pit    hit_f1  \\\n",
       "0  20160401HHLG0   HH     T   L                 1                 2  3.246649   \n",
       "1  20160401HHLG0   LG     B   W                 1                 2  3.911625   \n",
       "2  20160401HTNC0   HT     T   L                 0                 2  1.241272   \n",
       "3  20160401HTNC0   NC     B   W                 0                 1 -4.395091   \n",
       "4  20160401KTSK0   KT     T   W                 1                 2 -1.585208   \n",
       "\n",
       "     hit_f2    hit_f3    pit_f1    pit_f2    pit_f3    pit_f4  \n",
       "0 -0.672442  0.381691  3.257575  1.922055 -0.487703  0.570372  \n",
       "1  3.908232  0.584086  1.628395 -1.852215 -4.780953  0.165376  \n",
       "2  3.745046 -0.019960 -1.833570  2.154450  2.406045 -0.540537  \n",
       "3  1.595850 -0.651251  2.606790  0.850158  0.117356  0.240472  \n",
       "4 -0.252571  0.096828  3.459719 -5.017508  0.694972  0.116226  "
      ]
     },
     "execution_count": 4,
     "metadata": {},
     "output_type": "execute_result"
    }
   ],
   "source": [
    "data.head()"
   ]
  },
  {
   "cell_type": "code",
   "execution_count": 5,
   "metadata": {},
   "outputs": [],
   "source": [
    "data['T'] = None\n",
    "data['B'] = None"
   ]
  },
  {
   "cell_type": "code",
   "execution_count": 6,
   "metadata": {},
   "outputs": [],
   "source": [
    "for i in range(data.shape[0]):\n",
    "    data.iloc[i, 13] = data.iloc[i, 0][8:10]\n",
    "    data.iloc[i, 14] = data.iloc[i, 0][10:12]"
   ]
  },
  {
   "cell_type": "code",
   "execution_count": 7,
   "metadata": {},
   "outputs": [],
   "source": [
    "data = pd.concat([data, pd.get_dummies(data['T'], prefix='T', drop_first=True)], axis=1)\n",
    "data = pd.concat([data, pd.get_dummies(data['B'], prefix='B', drop_first=True)], axis=1)\n",
    "data = pd.concat([data, pd.get_dummies(data['TB_SC'], drop_first=True)], axis=1)\n",
    "data = pd.concat([data, pd.get_dummies(data['cluster_team_hit'], prefix='HIT', drop_first=True)], axis=1)\n",
    "data = pd.concat([data, pd.get_dummies(data['cluster_team_pit'], prefix='PIT', drop_first=True)], axis=1)"
   ]
  },
  {
   "cell_type": "code",
   "execution_count": 8,
   "metadata": {},
   "outputs": [],
   "source": [
    "data = data.drop(['G_ID', 'T_ID', 'TB_SC', 'cluster_team_hit', 'cluster_team_pit', 'T', 'B'], axis=1)"
   ]
  },
  {
   "cell_type": "code",
   "execution_count": 9,
   "metadata": {},
   "outputs": [
    {
     "data": {
      "text/html": [
       "<div>\n",
       "<style scoped>\n",
       "    .dataframe tbody tr th:only-of-type {\n",
       "        vertical-align: middle;\n",
       "    }\n",
       "\n",
       "    .dataframe tbody tr th {\n",
       "        vertical-align: top;\n",
       "    }\n",
       "\n",
       "    .dataframe thead th {\n",
       "        text-align: right;\n",
       "    }\n",
       "</style>\n",
       "<table border=\"1\" class=\"dataframe\">\n",
       "  <thead>\n",
       "    <tr style=\"text-align: right;\">\n",
       "      <th></th>\n",
       "      <th>WLS</th>\n",
       "      <th>hit_f1</th>\n",
       "      <th>hit_f2</th>\n",
       "      <th>hit_f3</th>\n",
       "      <th>pit_f1</th>\n",
       "      <th>pit_f2</th>\n",
       "      <th>pit_f3</th>\n",
       "      <th>pit_f4</th>\n",
       "      <th>T_HT</th>\n",
       "      <th>T_KT</th>\n",
       "      <th>...</th>\n",
       "      <th>B_KT</th>\n",
       "      <th>B_LG</th>\n",
       "      <th>B_LT</th>\n",
       "      <th>B_NC</th>\n",
       "      <th>B_OB</th>\n",
       "      <th>B_SK</th>\n",
       "      <th>B_SS</th>\n",
       "      <th>B_WO</th>\n",
       "      <th>HIT_1</th>\n",
       "      <th>PIT_2</th>\n",
       "    </tr>\n",
       "  </thead>\n",
       "  <tbody>\n",
       "    <tr>\n",
       "      <th>0</th>\n",
       "      <td>L</td>\n",
       "      <td>3.246649</td>\n",
       "      <td>-0.672442</td>\n",
       "      <td>0.381691</td>\n",
       "      <td>3.257575</td>\n",
       "      <td>1.922055</td>\n",
       "      <td>-0.487703</td>\n",
       "      <td>0.570372</td>\n",
       "      <td>0</td>\n",
       "      <td>0</td>\n",
       "      <td>...</td>\n",
       "      <td>0</td>\n",
       "      <td>1</td>\n",
       "      <td>0</td>\n",
       "      <td>0</td>\n",
       "      <td>0</td>\n",
       "      <td>0</td>\n",
       "      <td>0</td>\n",
       "      <td>0</td>\n",
       "      <td>1</td>\n",
       "      <td>1</td>\n",
       "    </tr>\n",
       "    <tr>\n",
       "      <th>1</th>\n",
       "      <td>W</td>\n",
       "      <td>3.911625</td>\n",
       "      <td>3.908232</td>\n",
       "      <td>0.584086</td>\n",
       "      <td>1.628395</td>\n",
       "      <td>-1.852215</td>\n",
       "      <td>-4.780953</td>\n",
       "      <td>0.165376</td>\n",
       "      <td>0</td>\n",
       "      <td>0</td>\n",
       "      <td>...</td>\n",
       "      <td>0</td>\n",
       "      <td>1</td>\n",
       "      <td>0</td>\n",
       "      <td>0</td>\n",
       "      <td>0</td>\n",
       "      <td>0</td>\n",
       "      <td>0</td>\n",
       "      <td>0</td>\n",
       "      <td>1</td>\n",
       "      <td>1</td>\n",
       "    </tr>\n",
       "    <tr>\n",
       "      <th>2</th>\n",
       "      <td>L</td>\n",
       "      <td>1.241272</td>\n",
       "      <td>3.745046</td>\n",
       "      <td>-0.019960</td>\n",
       "      <td>-1.833570</td>\n",
       "      <td>2.154450</td>\n",
       "      <td>2.406045</td>\n",
       "      <td>-0.540537</td>\n",
       "      <td>1</td>\n",
       "      <td>0</td>\n",
       "      <td>...</td>\n",
       "      <td>0</td>\n",
       "      <td>0</td>\n",
       "      <td>0</td>\n",
       "      <td>1</td>\n",
       "      <td>0</td>\n",
       "      <td>0</td>\n",
       "      <td>0</td>\n",
       "      <td>0</td>\n",
       "      <td>0</td>\n",
       "      <td>1</td>\n",
       "    </tr>\n",
       "    <tr>\n",
       "      <th>3</th>\n",
       "      <td>W</td>\n",
       "      <td>-4.395091</td>\n",
       "      <td>1.595850</td>\n",
       "      <td>-0.651251</td>\n",
       "      <td>2.606790</td>\n",
       "      <td>0.850158</td>\n",
       "      <td>0.117356</td>\n",
       "      <td>0.240472</td>\n",
       "      <td>1</td>\n",
       "      <td>0</td>\n",
       "      <td>...</td>\n",
       "      <td>0</td>\n",
       "      <td>0</td>\n",
       "      <td>0</td>\n",
       "      <td>1</td>\n",
       "      <td>0</td>\n",
       "      <td>0</td>\n",
       "      <td>0</td>\n",
       "      <td>0</td>\n",
       "      <td>0</td>\n",
       "      <td>0</td>\n",
       "    </tr>\n",
       "    <tr>\n",
       "      <th>4</th>\n",
       "      <td>W</td>\n",
       "      <td>-1.585208</td>\n",
       "      <td>-0.252571</td>\n",
       "      <td>0.096828</td>\n",
       "      <td>3.459719</td>\n",
       "      <td>-5.017508</td>\n",
       "      <td>0.694972</td>\n",
       "      <td>0.116226</td>\n",
       "      <td>0</td>\n",
       "      <td>1</td>\n",
       "      <td>...</td>\n",
       "      <td>0</td>\n",
       "      <td>0</td>\n",
       "      <td>0</td>\n",
       "      <td>0</td>\n",
       "      <td>0</td>\n",
       "      <td>1</td>\n",
       "      <td>0</td>\n",
       "      <td>0</td>\n",
       "      <td>1</td>\n",
       "      <td>1</td>\n",
       "    </tr>\n",
       "  </tbody>\n",
       "</table>\n",
       "<p>5 rows × 28 columns</p>\n",
       "</div>"
      ],
      "text/plain": [
       "  WLS    hit_f1    hit_f2    hit_f3    pit_f1    pit_f2    pit_f3    pit_f4  \\\n",
       "0   L  3.246649 -0.672442  0.381691  3.257575  1.922055 -0.487703  0.570372   \n",
       "1   W  3.911625  3.908232  0.584086  1.628395 -1.852215 -4.780953  0.165376   \n",
       "2   L  1.241272  3.745046 -0.019960 -1.833570  2.154450  2.406045 -0.540537   \n",
       "3   W -4.395091  1.595850 -0.651251  2.606790  0.850158  0.117356  0.240472   \n",
       "4   W -1.585208 -0.252571  0.096828  3.459719 -5.017508  0.694972  0.116226   \n",
       "\n",
       "   T_HT  T_KT  ...  B_KT  B_LG  B_LT  B_NC  B_OB  B_SK  B_SS  B_WO  HIT_1  \\\n",
       "0     0     0  ...     0     1     0     0     0     0     0     0      1   \n",
       "1     0     0  ...     0     1     0     0     0     0     0     0      1   \n",
       "2     1     0  ...     0     0     0     1     0     0     0     0      0   \n",
       "3     1     0  ...     0     0     0     1     0     0     0     0      0   \n",
       "4     0     1  ...     0     0     0     0     0     1     0     0      1   \n",
       "\n",
       "   PIT_2  \n",
       "0      1  \n",
       "1      1  \n",
       "2      1  \n",
       "3      0  \n",
       "4      1  \n",
       "\n",
       "[5 rows x 28 columns]"
      ]
     },
     "execution_count": 9,
     "metadata": {},
     "output_type": "execute_result"
    }
   ],
   "source": [
    "data.head()"
   ]
  },
  {
   "cell_type": "code",
   "execution_count": 10,
   "metadata": {},
   "outputs": [],
   "source": [
    "X_train = data.iloc[:1250, 1:]\n",
    "y_train = data.iloc[:1250, 0]\n",
    "X_test = data.iloc[1250:, 1:]\n",
    "y_test = data.iloc[1250:, 0]"
   ]
  },
  {
   "cell_type": "code",
   "execution_count": 11,
   "metadata": {},
   "outputs": [],
   "source": [
    "from sklearn.ensemble import RandomForestClassifier"
   ]
  },
  {
   "cell_type": "code",
   "execution_count": 12,
   "metadata": {},
   "outputs": [],
   "source": [
    "model = RandomForestClassifier(random_state=0)"
   ]
  },
  {
   "cell_type": "code",
   "execution_count": 13,
   "metadata": {},
   "outputs": [
    {
     "data": {
      "text/plain": [
       "RandomForestClassifier(random_state=0)"
      ]
     },
     "execution_count": 13,
     "metadata": {},
     "output_type": "execute_result"
    }
   ],
   "source": [
    "model.fit(X_train, y_train)"
   ]
  },
  {
   "cell_type": "code",
   "execution_count": 14,
   "metadata": {},
   "outputs": [],
   "source": [
    "y_pred = model.predict(X_test)"
   ]
  },
  {
   "cell_type": "code",
   "execution_count": 15,
   "metadata": {},
   "outputs": [
    {
     "name": "stdout",
     "output_type": "stream",
     "text": [
      "예측 정확도: 0.853\n"
     ]
    }
   ],
   "source": [
    "print('예측 정확도:', round(sum(y_pred == y_test)/len(y_pred == y_test), 3))"
   ]
  }
 ],
 "metadata": {
  "kernelspec": {
   "display_name": "Python 3",
   "language": "python",
   "name": "python3"
  },
  "language_info": {
   "codemirror_mode": {
    "name": "ipython",
    "version": 3
   },
   "file_extension": ".py",
   "mimetype": "text/x-python",
   "name": "python",
   "nbconvert_exporter": "python",
   "pygments_lexer": "ipython3",
   "version": "3.7.6"
  }
 },
 "nbformat": 4,
 "nbformat_minor": 4
}
