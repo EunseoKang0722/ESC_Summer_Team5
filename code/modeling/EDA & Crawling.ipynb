{
 "cells": [
  {
   "cell_type": "code",
   "execution_count": 1,
   "metadata": {},
   "outputs": [],
   "source": [
    "import pandas as pd\n",
    "import matplotlib.pyplot as plt\n",
    "import seaborn as sns"
   ]
  },
  {
   "cell_type": "code",
   "execution_count": 2,
   "metadata": {},
   "outputs": [],
   "source": [
    "data = pd.read_csv('cluster.csv')"
   ]
  },
  {
   "cell_type": "code",
   "execution_count": 3,
   "metadata": {},
   "outputs": [
    {
     "data": {
      "text/html": [
       "<div>\n",
       "<style scoped>\n",
       "    .dataframe tbody tr th:only-of-type {\n",
       "        vertical-align: middle;\n",
       "    }\n",
       "\n",
       "    .dataframe tbody tr th {\n",
       "        vertical-align: top;\n",
       "    }\n",
       "\n",
       "    .dataframe thead th {\n",
       "        text-align: right;\n",
       "    }\n",
       "</style>\n",
       "<table border=\"1\" class=\"dataframe\">\n",
       "  <thead>\n",
       "    <tr style=\"text-align: right;\">\n",
       "      <th></th>\n",
       "      <th>G_ID</th>\n",
       "      <th>TEAM</th>\n",
       "      <th>TB_SC</th>\n",
       "      <th>WLS</th>\n",
       "      <th>cluster_team</th>\n",
       "      <th>hit_f1</th>\n",
       "      <th>hit_f2</th>\n",
       "      <th>hit_f3</th>\n",
       "      <th>pit_f1</th>\n",
       "      <th>pit_f2</th>\n",
       "      <th>pit_f3</th>\n",
       "      <th>pit_f4</th>\n",
       "    </tr>\n",
       "  </thead>\n",
       "  <tbody>\n",
       "    <tr>\n",
       "      <th>0</th>\n",
       "      <td>20160401HHLG0</td>\n",
       "      <td>HH</td>\n",
       "      <td>T</td>\n",
       "      <td>L</td>\n",
       "      <td>0</td>\n",
       "      <td>3.246649</td>\n",
       "      <td>-0.672442</td>\n",
       "      <td>0.381691</td>\n",
       "      <td>3.257575</td>\n",
       "      <td>1.922055</td>\n",
       "      <td>-0.487703</td>\n",
       "      <td>0.570372</td>\n",
       "    </tr>\n",
       "    <tr>\n",
       "      <th>1</th>\n",
       "      <td>20160402HHLG0</td>\n",
       "      <td>HH</td>\n",
       "      <td>T</td>\n",
       "      <td>L</td>\n",
       "      <td>0</td>\n",
       "      <td>1.916625</td>\n",
       "      <td>-1.703314</td>\n",
       "      <td>0.501447</td>\n",
       "      <td>-0.109634</td>\n",
       "      <td>2.675800</td>\n",
       "      <td>-1.352436</td>\n",
       "      <td>0.990402</td>\n",
       "    </tr>\n",
       "    <tr>\n",
       "      <th>2</th>\n",
       "      <td>20160408HHNC0</td>\n",
       "      <td>HH</td>\n",
       "      <td>T</td>\n",
       "      <td>L</td>\n",
       "      <td>0</td>\n",
       "      <td>-0.015081</td>\n",
       "      <td>0.896037</td>\n",
       "      <td>-0.576470</td>\n",
       "      <td>-0.059819</td>\n",
       "      <td>4.637674</td>\n",
       "      <td>-0.527072</td>\n",
       "      <td>0.122953</td>\n",
       "    </tr>\n",
       "    <tr>\n",
       "      <th>3</th>\n",
       "      <td>20160409HHNC0</td>\n",
       "      <td>HH</td>\n",
       "      <td>T</td>\n",
       "      <td>L</td>\n",
       "      <td>0</td>\n",
       "      <td>0.673044</td>\n",
       "      <td>0.726039</td>\n",
       "      <td>-1.306066</td>\n",
       "      <td>-0.556478</td>\n",
       "      <td>3.412919</td>\n",
       "      <td>0.158875</td>\n",
       "      <td>1.391084</td>\n",
       "    </tr>\n",
       "    <tr>\n",
       "      <th>4</th>\n",
       "      <td>20160410HHNC0</td>\n",
       "      <td>HH</td>\n",
       "      <td>T</td>\n",
       "      <td>W</td>\n",
       "      <td>0</td>\n",
       "      <td>1.162881</td>\n",
       "      <td>0.291856</td>\n",
       "      <td>-0.617290</td>\n",
       "      <td>0.533719</td>\n",
       "      <td>3.826195</td>\n",
       "      <td>0.139266</td>\n",
       "      <td>-1.126466</td>\n",
       "    </tr>\n",
       "  </tbody>\n",
       "</table>\n",
       "</div>"
      ],
      "text/plain": [
       "            G_ID TEAM TB_SC WLS  cluster_team    hit_f1    hit_f2    hit_f3  \\\n",
       "0  20160401HHLG0   HH     T   L             0  3.246649 -0.672442  0.381691   \n",
       "1  20160402HHLG0   HH     T   L             0  1.916625 -1.703314  0.501447   \n",
       "2  20160408HHNC0   HH     T   L             0 -0.015081  0.896037 -0.576470   \n",
       "3  20160409HHNC0   HH     T   L             0  0.673044  0.726039 -1.306066   \n",
       "4  20160410HHNC0   HH     T   W             0  1.162881  0.291856 -0.617290   \n",
       "\n",
       "     pit_f1    pit_f2    pit_f3    pit_f4  \n",
       "0  3.257575  1.922055 -0.487703  0.570372  \n",
       "1 -0.109634  2.675800 -1.352436  0.990402  \n",
       "2 -0.059819  4.637674 -0.527072  0.122953  \n",
       "3 -0.556478  3.412919  0.158875  1.391084  \n",
       "4  0.533719  3.826195  0.139266 -1.126466  "
      ]
     },
     "execution_count": 3,
     "metadata": {},
     "output_type": "execute_result"
    }
   ],
   "source": [
    "data.head()"
   ]
  },
  {
   "cell_type": "markdown",
   "metadata": {},
   "source": [
    "## EDA"
   ]
  },
  {
   "cell_type": "code",
   "execution_count": 4,
   "metadata": {},
   "outputs": [],
   "source": [
    "data0 = data[data['cluster_team']==0]\n",
    "data2 = data[data['cluster_team']==2]"
   ]
  },
  {
   "cell_type": "code",
   "execution_count": 5,
   "metadata": {},
   "outputs": [
    {
     "data": {
      "image/png": "[encoded data removed]",
      "text/plain": [
       "<Figure size 720x360 with 3 Axes>"
      ]
     },
     "metadata": {
      "needs_background": "light"
     },
     "output_type": "display_data"
    }
   ],
   "source": [
    "fig, ax = plt.subplots(1, 3, figsize=(10, 5))\n",
    "ax[0].boxplot([data0['hit_f1'], data2['hit_f1']])\n",
    "ax[0].set_xticklabels(['cluster 1', 'cluster 2'])\n",
    "ax[0].set_xlabel('HIT F1')\n",
    "ax[1].boxplot([data0['hit_f2'], data2['hit_f2']])\n",
    "ax[1].set_xticklabels(['cluster 1', 'cluster 2'])\n",
    "ax[1].set_xlabel('HIT F2')\n",
    "ax[2].boxplot([data0['hit_f3'], data2['hit_f3']])\n",
    "ax[2].set_xticklabels(['cluster 1', 'cluster 2'])\n",
    "ax[2].set_xlabel('HIT F3')\n",
    "plt.show()"
   ]
  },
  {
   "cell_type": "code",
   "execution_count": 6,
   "metadata": {},
   "outputs": [],
   "source": [
    "from mpl_toolkits import mplot3d"
   ]
  },
  {
   "cell_type": "code",
   "execution_count": 7,
   "metadata": {},
   "outputs": [
    {
     "data": {
      "image/png": "[encoded data removed]",
      "text/plain": [
       "<Figure size 576x576 with 1 Axes>"
      ]
     },
     "metadata": {
      "needs_background": "light"
     },
     "output_type": "display_data"
    }
   ],
   "source": [
    "fig = plt.figure(figsize=(8, 8))\n",
    "ax = plt.axes(projection='3d')\n",
    "ax.scatter3D(data['hit_f1'], data['hit_f2'], data['hit_f3'], c=data['cluster_team'])\n",
    "ax.set_xlabel('HIT F1')\n",
    "ax.set_ylabel('HIT F2')\n",
    "ax.set_zlabel('HIT F3')\n",
    "plt.show()"
   ]
  },
  {
   "cell_type": "code",
   "execution_count": 8,
   "metadata": {},
   "outputs": [
    {
     "data": {
      "image/png": "[encoded data removed]",
      "text/plain": [
       "<Figure size 1008x360 with 4 Axes>"
      ]
     },
     "metadata": {
      "needs_background": "light"
     },
     "output_type": "display_data"
    }
   ],
   "source": [
    "fig, ax = plt.subplots(1, 4, figsize=(14, 5))\n",
    "ax[0].boxplot([data0['pit_f1'], data2['pit_f1']])\n",
    "ax[0].set_xticklabels(['cluster 1', 'cluster 2'])\n",
    "ax[0].set_xlabel('PIT F1')\n",
    "ax[1].boxplot([data0['pit_f2'], data2['pit_f2']])\n",
    "ax[1].set_xticklabels(['cluster 1', 'cluster 2'])\n",
    "ax[1].set_xlabel('PIT F2')\n",
    "ax[2].boxplot([data0['pit_f3'], data2['pit_f3']])\n",
    "ax[2].set_xticklabels(['cluster 1', 'cluster 2'])\n",
    "ax[2].set_xlabel('PIT F3')\n",
    "ax[3].boxplot([data0['pit_f4'], data2['pit_f4']])\n",
    "ax[3].set_xticklabels(['cluster 1', 'cluster 2'])\n",
    "ax[3].set_xlabel('PIT F4')\n",
    "plt.show()"
   ]
  },
  {
   "cell_type": "markdown",
   "metadata": {},
   "source": [
    "## Schedule Table Crawling"
   ]
  },
  {
   "cell_type": "markdown",
   "metadata": {},
   "source": [
    "**September**"
   ]
  },
  {
   "cell_type": "code",
   "execution_count": 9,
   "metadata": {
    "scrolled": false
   },
   "outputs": [],
   "source": [
    "from selenium import webdriver\n",
    "from selenium.webdriver.chrome.options import Options\n",
    "\n",
    "options = Options()\n",
    "options.headless = True\n",
    "driver = webdriver.Chrome('/Applications/chromedriver', options=options)"
   ]
  },
  {
   "cell_type": "code",
   "execution_count": 10,
   "metadata": {
    "scrolled": false
   },
   "outputs": [],
   "source": [
    "driver.get('https://www.koreabaseball.com/Schedule/Schedule.aspx')\n",
    "driver.find_element_by_id('ddlMonth').send_keys('09')\n",
    "\n",
    "table = driver.find_element_by_xpath('//*[@id=\"tblSchedule\"]/tbody')\n",
    "schedule = table.text"
   ]
  },
  {
   "cell_type": "code",
   "execution_count": 11,
   "metadata": {},
   "outputs": [],
   "source": [
    "a = []"
   ]
  },
  {
   "cell_type": "code",
   "execution_count": 12,
   "metadata": {},
   "outputs": [],
   "source": [
    "for i in range(len(schedule.split('\\n'))):\n",
    "    if len(schedule.split('\\n')[i].split(' ')) == 5:\n",
    "        a.append(i)"
   ]
  },
  {
   "cell_type": "code",
   "execution_count": 13,
   "metadata": {},
   "outputs": [],
   "source": [
    "b = []"
   ]
  },
  {
   "cell_type": "code",
   "execution_count": 14,
   "metadata": {},
   "outputs": [],
   "source": [
    "for i in range(len(schedule.split('\\n'))):\n",
    "    b.append(schedule.split('\\n')[i].split(' '))"
   ]
  },
  {
   "cell_type": "code",
   "execution_count": 15,
   "metadata": {},
   "outputs": [],
   "source": [
    "for i in a:\n",
    "    del b[i][0]"
   ]
  },
  {
   "cell_type": "code",
   "execution_count": 16,
   "metadata": {},
   "outputs": [],
   "source": [
    "schedule_sep = pd.DataFrame(b).drop([3], axis=1)\n",
    "schedule_sep.columns = ['time', 'game', 'stadium']\n",
    "schedule_sep['date'] = None\n",
    "schedule_sep = schedule_sep[['date', 'time', 'game', 'stadium']]"
   ]
  },
  {
   "cell_type": "code",
   "execution_count": 17,
   "metadata": {},
   "outputs": [],
   "source": [
    "a.append(len(schedule.split('\\n')))"
   ]
  },
  {
   "cell_type": "code",
   "execution_count": 18,
   "metadata": {},
   "outputs": [],
   "source": [
    "for i in range(len(a)-1):\n",
    "    schedule_sep.iloc[a[i]:a[i+1], 0] = schedule.split('\\n')[a[i]].split(' ')[0]"
   ]
  },
  {
   "cell_type": "code",
   "execution_count": 19,
   "metadata": {
    "scrolled": false
   },
   "outputs": [
    {
     "data": {
      "text/html": [
       "<div>\n",
       "<style scoped>\n",
       "    .dataframe tbody tr th:only-of-type {\n",
       "        vertical-align: middle;\n",
       "    }\n",
       "\n",
       "    .dataframe tbody tr th {\n",
       "        vertical-align: top;\n",
       "    }\n",
       "\n",
       "    .dataframe thead th {\n",
       "        text-align: right;\n",
       "    }\n",
       "</style>\n",
       "<table border=\"1\" class=\"dataframe\">\n",
       "  <thead>\n",
       "    <tr style=\"text-align: right;\">\n",
       "      <th></th>\n",
       "      <th>date</th>\n",
       "      <th>time</th>\n",
       "      <th>game</th>\n",
       "      <th>stadium</th>\n",
       "    </tr>\n",
       "  </thead>\n",
       "  <tbody>\n",
       "    <tr>\n",
       "      <th>0</th>\n",
       "      <td>09.01(화)</td>\n",
       "      <td>18:30</td>\n",
       "      <td>한화vs두산</td>\n",
       "      <td>잠실</td>\n",
       "    </tr>\n",
       "    <tr>\n",
       "      <th>1</th>\n",
       "      <td>09.01(화)</td>\n",
       "      <td>18:30</td>\n",
       "      <td>LGvsSK</td>\n",
       "      <td>문학</td>\n",
       "    </tr>\n",
       "    <tr>\n",
       "      <th>2</th>\n",
       "      <td>09.01(화)</td>\n",
       "      <td>18:30</td>\n",
       "      <td>롯데vsKT</td>\n",
       "      <td>수원</td>\n",
       "    </tr>\n",
       "    <tr>\n",
       "      <th>3</th>\n",
       "      <td>09.01(화)</td>\n",
       "      <td>18:30</td>\n",
       "      <td>삼성vsKIA</td>\n",
       "      <td>광주</td>\n",
       "    </tr>\n",
       "    <tr>\n",
       "      <th>4</th>\n",
       "      <td>09.01(화)</td>\n",
       "      <td>18:30</td>\n",
       "      <td>NCvs키움</td>\n",
       "      <td>고척</td>\n",
       "    </tr>\n",
       "    <tr>\n",
       "      <th>...</th>\n",
       "      <td>...</td>\n",
       "      <td>...</td>\n",
       "      <td>...</td>\n",
       "      <td>...</td>\n",
       "    </tr>\n",
       "    <tr>\n",
       "      <th>130</th>\n",
       "      <td>09.30(수)</td>\n",
       "      <td>14:00</td>\n",
       "      <td>롯데vsLG</td>\n",
       "      <td>잠실</td>\n",
       "    </tr>\n",
       "    <tr>\n",
       "      <th>131</th>\n",
       "      <td>09.30(수)</td>\n",
       "      <td>14:00</td>\n",
       "      <td>KTvs삼성</td>\n",
       "      <td>대구</td>\n",
       "    </tr>\n",
       "    <tr>\n",
       "      <th>132</th>\n",
       "      <td>09.30(수)</td>\n",
       "      <td>14:00</td>\n",
       "      <td>SKvsNC</td>\n",
       "      <td>창원</td>\n",
       "    </tr>\n",
       "    <tr>\n",
       "      <th>133</th>\n",
       "      <td>09.30(수)</td>\n",
       "      <td>14:00</td>\n",
       "      <td>KIAvs키움</td>\n",
       "      <td>고척</td>\n",
       "    </tr>\n",
       "    <tr>\n",
       "      <th>134</th>\n",
       "      <td>09.30(수)</td>\n",
       "      <td>14:00</td>\n",
       "      <td>두산vs한화</td>\n",
       "      <td>대전</td>\n",
       "    </tr>\n",
       "  </tbody>\n",
       "</table>\n",
       "<p>135 rows × 4 columns</p>\n",
       "</div>"
      ],
      "text/plain": [
       "         date   time     game stadium\n",
       "0    09.01(화)  18:30   한화vs두산      잠실\n",
       "1    09.01(화)  18:30   LGvsSK      문학\n",
       "2    09.01(화)  18:30   롯데vsKT      수원\n",
       "3    09.01(화)  18:30  삼성vsKIA      광주\n",
       "4    09.01(화)  18:30   NCvs키움      고척\n",
       "..        ...    ...      ...     ...\n",
       "130  09.30(수)  14:00   롯데vsLG      잠실\n",
       "131  09.30(수)  14:00   KTvs삼성      대구\n",
       "132  09.30(수)  14:00   SKvsNC      창원\n",
       "133  09.30(수)  14:00  KIAvs키움      고척\n",
       "134  09.30(수)  14:00   두산vs한화      대전\n",
       "\n",
       "[135 rows x 4 columns]"
      ]
     },
     "execution_count": 19,
     "metadata": {},
     "output_type": "execute_result"
    }
   ],
   "source": [
    "schedule_sep"
   ]
  },
  {
   "cell_type": "markdown",
   "metadata": {},
   "source": [
    "**October**"
   ]
  },
  {
   "cell_type": "code",
   "execution_count": 20,
   "metadata": {
    "scrolled": false
   },
   "outputs": [],
   "source": [
    "driver.get('https://www.koreabaseball.com/Schedule/Schedule.aspx')\n",
    "driver.find_element_by_id('ddlMonth').send_keys('10')\n",
    "\n",
    "table = driver.find_element_by_xpath('//*[@id=\"tblSchedule\"]/tbody')\n",
    "schedule = table.text"
   ]
  },
  {
   "cell_type": "code",
   "execution_count": 21,
   "metadata": {},
   "outputs": [],
   "source": [
    "a = []"
   ]
  },
  {
   "cell_type": "code",
   "execution_count": 22,
   "metadata": {},
   "outputs": [],
   "source": [
    "for i in range(len(schedule.split('\\n'))):\n",
    "    if len(schedule.split('\\n')[i].split(' ')) == 5:\n",
    "        a.append(i)"
   ]
  },
  {
   "cell_type": "code",
   "execution_count": 23,
   "metadata": {},
   "outputs": [],
   "source": [
    "b = []"
   ]
  },
  {
   "cell_type": "code",
   "execution_count": 24,
   "metadata": {},
   "outputs": [],
   "source": [
    "for i in range(len(schedule.split('\\n'))):\n",
    "    b.append(schedule.split('\\n')[i].split(' '))"
   ]
  },
  {
   "cell_type": "code",
   "execution_count": 25,
   "metadata": {},
   "outputs": [],
   "source": [
    "for i in a:\n",
    "    del b[i][0]"
   ]
  },
  {
   "cell_type": "code",
   "execution_count": 26,
   "metadata": {},
   "outputs": [],
   "source": [
    "schedule_oct = pd.DataFrame(b).drop([3], axis=1)\n",
    "schedule_oct.columns = ['time', 'game', 'stadium']\n",
    "schedule_oct['date'] = None\n",
    "schedule_oct = schedule_oct[['date', 'time', 'game', 'stadium']]"
   ]
  },
  {
   "cell_type": "code",
   "execution_count": 27,
   "metadata": {},
   "outputs": [],
   "source": [
    "a.append(len(schedule.split('\\n')))"
   ]
  },
  {
   "cell_type": "code",
   "execution_count": 28,
   "metadata": {},
   "outputs": [],
   "source": [
    "for i in range(len(a)-1):\n",
    "    schedule_oct.iloc[a[i]:a[i+1], 0] = schedule.split('\\n')[a[i]].split(' ')[0]"
   ]
  },
  {
   "cell_type": "code",
   "execution_count": 29,
   "metadata": {},
   "outputs": [
    {
     "data": {
      "text/html": [
       "<div>\n",
       "<style scoped>\n",
       "    .dataframe tbody tr th:only-of-type {\n",
       "        vertical-align: middle;\n",
       "    }\n",
       "\n",
       "    .dataframe tbody tr th {\n",
       "        vertical-align: top;\n",
       "    }\n",
       "\n",
       "    .dataframe thead th {\n",
       "        text-align: right;\n",
       "    }\n",
       "</style>\n",
       "<table border=\"1\" class=\"dataframe\">\n",
       "  <thead>\n",
       "    <tr style=\"text-align: right;\">\n",
       "      <th></th>\n",
       "      <th>date</th>\n",
       "      <th>time</th>\n",
       "      <th>game</th>\n",
       "      <th>stadium</th>\n",
       "    </tr>\n",
       "  </thead>\n",
       "  <tbody>\n",
       "    <tr>\n",
       "      <th>0</th>\n",
       "      <td>10.01(목)</td>\n",
       "      <td>14:00</td>\n",
       "      <td>롯데vsLG</td>\n",
       "      <td>잠실</td>\n",
       "    </tr>\n",
       "    <tr>\n",
       "      <th>1</th>\n",
       "      <td>10.01(목)</td>\n",
       "      <td>14:00</td>\n",
       "      <td>KTvs삼성</td>\n",
       "      <td>대구</td>\n",
       "    </tr>\n",
       "    <tr>\n",
       "      <th>2</th>\n",
       "      <td>10.01(목)</td>\n",
       "      <td>14:00</td>\n",
       "      <td>SKvsNC</td>\n",
       "      <td>창원</td>\n",
       "    </tr>\n",
       "    <tr>\n",
       "      <th>3</th>\n",
       "      <td>10.01(목)</td>\n",
       "      <td>14:00</td>\n",
       "      <td>KIAvs키움</td>\n",
       "      <td>고척</td>\n",
       "    </tr>\n",
       "    <tr>\n",
       "      <th>4</th>\n",
       "      <td>10.01(목)</td>\n",
       "      <td>14:00</td>\n",
       "      <td>두산vs한화</td>\n",
       "      <td>대전</td>\n",
       "    </tr>\n",
       "    <tr>\n",
       "      <th>...</th>\n",
       "      <td>...</td>\n",
       "      <td>...</td>\n",
       "      <td>...</td>\n",
       "      <td>...</td>\n",
       "    </tr>\n",
       "    <tr>\n",
       "      <th>79</th>\n",
       "      <td>10.18(일)</td>\n",
       "      <td>14:00</td>\n",
       "      <td>KIAvsLG</td>\n",
       "      <td>잠실</td>\n",
       "    </tr>\n",
       "    <tr>\n",
       "      <th>80</th>\n",
       "      <td>10.18(일)</td>\n",
       "      <td>14:00</td>\n",
       "      <td>KTvsSK</td>\n",
       "      <td>문학</td>\n",
       "    </tr>\n",
       "    <tr>\n",
       "      <th>81</th>\n",
       "      <td>10.18(일)</td>\n",
       "      <td>14:00</td>\n",
       "      <td>롯데vsNC</td>\n",
       "      <td>창원</td>\n",
       "    </tr>\n",
       "    <tr>\n",
       "      <th>82</th>\n",
       "      <td>10.18(일)</td>\n",
       "      <td>14:00</td>\n",
       "      <td>두산vs키움</td>\n",
       "      <td>고척</td>\n",
       "    </tr>\n",
       "    <tr>\n",
       "      <th>83</th>\n",
       "      <td>10.18(일)</td>\n",
       "      <td>14:00</td>\n",
       "      <td>삼성vs한화</td>\n",
       "      <td>대전</td>\n",
       "    </tr>\n",
       "  </tbody>\n",
       "</table>\n",
       "<p>84 rows × 4 columns</p>\n",
       "</div>"
      ],
      "text/plain": [
       "        date   time     game stadium\n",
       "0   10.01(목)  14:00   롯데vsLG      잠실\n",
       "1   10.01(목)  14:00   KTvs삼성      대구\n",
       "2   10.01(목)  14:00   SKvsNC      창원\n",
       "3   10.01(목)  14:00  KIAvs키움      고척\n",
       "4   10.01(목)  14:00   두산vs한화      대전\n",
       "..       ...    ...      ...     ...\n",
       "79  10.18(일)  14:00  KIAvsLG      잠실\n",
       "80  10.18(일)  14:00   KTvsSK      문학\n",
       "81  10.18(일)  14:00   롯데vsNC      창원\n",
       "82  10.18(일)  14:00   두산vs키움      고척\n",
       "83  10.18(일)  14:00   삼성vs한화      대전\n",
       "\n",
       "[84 rows x 4 columns]"
      ]
     },
     "execution_count": 29,
     "metadata": {},
     "output_type": "execute_result"
    }
   ],
   "source": [
    "schedule_oct"
   ]
  },
  {
   "cell_type": "code",
   "execution_count": 30,
   "metadata": {},
   "outputs": [],
   "source": [
    "schedule = pd.concat([schedule_sep, schedule_oct])"
   ]
  },
  {
   "cell_type": "code",
   "execution_count": 31,
   "metadata": {},
   "outputs": [],
   "source": [
    "schedule = schedule.iloc[125:,]\n",
    "schedule = schedule.reset_index(drop=True)"
   ]
  },
  {
   "cell_type": "code",
   "execution_count": 32,
   "metadata": {},
   "outputs": [
    {
     "data": {
      "text/html": [
       "<div>\n",
       "<style scoped>\n",
       "    .dataframe tbody tr th:only-of-type {\n",
       "        vertical-align: middle;\n",
       "    }\n",
       "\n",
       "    .dataframe tbody tr th {\n",
       "        vertical-align: top;\n",
       "    }\n",
       "\n",
       "    .dataframe thead th {\n",
       "        text-align: right;\n",
       "    }\n",
       "</style>\n",
       "<table border=\"1\" class=\"dataframe\">\n",
       "  <thead>\n",
       "    <tr style=\"text-align: right;\">\n",
       "      <th></th>\n",
       "      <th>date</th>\n",
       "      <th>time</th>\n",
       "      <th>game</th>\n",
       "      <th>stadium</th>\n",
       "    </tr>\n",
       "  </thead>\n",
       "  <tbody>\n",
       "    <tr>\n",
       "      <th>0</th>\n",
       "      <td>09.29(화)</td>\n",
       "      <td>18:30</td>\n",
       "      <td>롯데vsLG</td>\n",
       "      <td>잠실</td>\n",
       "    </tr>\n",
       "    <tr>\n",
       "      <th>1</th>\n",
       "      <td>09.29(화)</td>\n",
       "      <td>18:30</td>\n",
       "      <td>KTvs삼성</td>\n",
       "      <td>대구</td>\n",
       "    </tr>\n",
       "    <tr>\n",
       "      <th>2</th>\n",
       "      <td>09.29(화)</td>\n",
       "      <td>18:30</td>\n",
       "      <td>SKvsNC</td>\n",
       "      <td>창원</td>\n",
       "    </tr>\n",
       "    <tr>\n",
       "      <th>3</th>\n",
       "      <td>09.29(화)</td>\n",
       "      <td>18:30</td>\n",
       "      <td>KIAvs키움</td>\n",
       "      <td>고척</td>\n",
       "    </tr>\n",
       "    <tr>\n",
       "      <th>4</th>\n",
       "      <td>09.29(화)</td>\n",
       "      <td>18:30</td>\n",
       "      <td>두산vs한화</td>\n",
       "      <td>대전</td>\n",
       "    </tr>\n",
       "    <tr>\n",
       "      <th>...</th>\n",
       "      <td>...</td>\n",
       "      <td>...</td>\n",
       "      <td>...</td>\n",
       "      <td>...</td>\n",
       "    </tr>\n",
       "    <tr>\n",
       "      <th>89</th>\n",
       "      <td>10.18(일)</td>\n",
       "      <td>14:00</td>\n",
       "      <td>KIAvsLG</td>\n",
       "      <td>잠실</td>\n",
       "    </tr>\n",
       "    <tr>\n",
       "      <th>90</th>\n",
       "      <td>10.18(일)</td>\n",
       "      <td>14:00</td>\n",
       "      <td>KTvsSK</td>\n",
       "      <td>문학</td>\n",
       "    </tr>\n",
       "    <tr>\n",
       "      <th>91</th>\n",
       "      <td>10.18(일)</td>\n",
       "      <td>14:00</td>\n",
       "      <td>롯데vsNC</td>\n",
       "      <td>창원</td>\n",
       "    </tr>\n",
       "    <tr>\n",
       "      <th>92</th>\n",
       "      <td>10.18(일)</td>\n",
       "      <td>14:00</td>\n",
       "      <td>두산vs키움</td>\n",
       "      <td>고척</td>\n",
       "    </tr>\n",
       "    <tr>\n",
       "      <th>93</th>\n",
       "      <td>10.18(일)</td>\n",
       "      <td>14:00</td>\n",
       "      <td>삼성vs한화</td>\n",
       "      <td>대전</td>\n",
       "    </tr>\n",
       "  </tbody>\n",
       "</table>\n",
       "<p>94 rows × 4 columns</p>\n",
       "</div>"
      ],
      "text/plain": [
       "        date   time     game stadium\n",
       "0   09.29(화)  18:30   롯데vsLG      잠실\n",
       "1   09.29(화)  18:30   KTvs삼성      대구\n",
       "2   09.29(화)  18:30   SKvsNC      창원\n",
       "3   09.29(화)  18:30  KIAvs키움      고척\n",
       "4   09.29(화)  18:30   두산vs한화      대전\n",
       "..       ...    ...      ...     ...\n",
       "89  10.18(일)  14:00  KIAvsLG      잠실\n",
       "90  10.18(일)  14:00   KTvsSK      문학\n",
       "91  10.18(일)  14:00   롯데vsNC      창원\n",
       "92  10.18(일)  14:00   두산vs키움      고척\n",
       "93  10.18(일)  14:00   삼성vs한화      대전\n",
       "\n",
       "[94 rows x 4 columns]"
      ]
     },
     "execution_count": 32,
     "metadata": {},
     "output_type": "execute_result"
    }
   ],
   "source": [
    "schedule"
   ]
  },
  {
   "cell_type": "code",
   "execution_count": 33,
   "metadata": {},
   "outputs": [],
   "source": [
    "schedule.to_csv('schedule.csv', index=False)"
   ]
  }
 ],
 "metadata": {
  "kernelspec": {
   "display_name": "Python 3",
   "language": "python",
   "name": "python3"
  },
  "language_info": {
   "codemirror_mode": {
    "name": "ipython",
    "version": 3
   },
   "file_extension": ".py",
   "mimetype": "text/x-python",
   "name": "python",
   "nbconvert_exporter": "python",
   "pygments_lexer": "ipython3",
   "version": "3.8.2"
  }
 },
 "nbformat": 4,
 "nbformat_minor": 4
}
