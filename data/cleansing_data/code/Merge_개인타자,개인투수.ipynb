{
 "cells": [
  {
   "cell_type": "code",
   "execution_count": 1,
   "metadata": {},
   "outputs": [],
   "source": [
    "import pandas as pd\n",
    "import numpy as np"
   ]
  },
  {
   "cell_type": "code",
   "execution_count": 45,
   "metadata": {},
   "outputs": [],
   "source": [
    "player = pd.read_csv('C:/Users/USER/kbo/data/raw_data/선수.csv',index_col = 0)\n",
    "game = pd.read_csv('C:/Users/USER/kbo/data/raw_data/경기.csv',index_col = 0)\n",
    "batter = pd.read_csv('C:/Users/USER/kbo/data/raw_data/개인타자.csv',index_col = 0)\n",
    "pitcher = pd.read_csv('C:/Users/USER/kbo/data/raw_data/개인투수.csv',index_col = 0)\n",
    "player.rename(columns = {\"PCODE\":\"P_ID\"}, inplace=True)"
   ]
  },
  {
   "cell_type": "code",
   "execution_count": 46,
   "metadata": {},
   "outputs": [
    {
     "data": {
      "text/plain": [
       "0"
      ]
     },
     "execution_count": 46,
     "metadata": {},
     "output_type": "execute_result"
    }
   ],
   "source": [
    "m1 = player.groupby(['GYEAR','P_ID']).count()\n",
    "m2 = (check['MONEY']>1)\n",
    "m2.sum() # 같은 해에 연봉변동은 없음."
   ]
  },
  {
   "cell_type": "code",
   "execution_count": 47,
   "metadata": {},
   "outputs": [],
   "source": [
    "player['GYEAR'] = player['GYEAR'].astype('str')\n",
    "game['GDAY_DS'] = game['GDAY_DS'].astype('str')\n",
    "pitcher['GDAY_DS'] = pitcher['GDAY_DS'].astype('str')\n",
    "pitcher['GYEAR'] = pitcher['GDAY_DS'].str.slice(start=0,stop=4)\n",
    "\n",
    "batter['GDAY_DS'] = batter['GDAY_DS'].astype('str')\n",
    "batter['GYEAR'] = batter['GDAY_DS'].str.slice(start=0,stop=4)"
   ]
  },
  {
   "cell_type": "code",
   "execution_count": 48,
   "metadata": {},
   "outputs": [],
   "source": [
    "batter = pd.merge(batter, player, on=[\"P_ID\",\"T_ID\",\"GYEAR\"], how=\"left\")\n",
    "batter = pd.merge(batter, game, on=[\"G_ID\",\"GDAY_DS\",\"HEADER_NO\"],how=\"left\")\n",
    "batter['HOME'] = np.where(batter['T_ID']==batter['HOME_KEY'],1,0)\n",
    "batter.drop(['VISIT_KEY','HOME_KEY'],axis=1, inplace=True)"
   ]
  },
  {
   "cell_type": "code",
   "execution_count": 49,
   "metadata": {},
   "outputs": [],
   "source": [
    "pitcher = pd.merge(pitcher, player, on=[\"P_ID\",\"T_ID\",\"GYEAR\"], how=\"left\")\n",
    "pitcher = pd.merge(pitcher, game, on=[\"G_ID\",\"GDAY_DS\",\"HEADER_NO\"],how=\"left\")\n",
    "pitcher['HOME'] = np.where(pitcher['T_ID']==pitcher['HOME_KEY'],1,0)\n",
    "pitcher.drop(['VISIT_KEY','HOME_KEY'],axis=1, inplace=True)"
   ]
  },
  {
   "cell_type": "code",
   "execution_count": 54,
   "metadata": {},
   "outputs": [],
   "source": [
    "batter.to_csv('개인타자.csv')\n",
    "pitcher.to_csv('개인투수.csv')"
   ]
  }
 ],
 "metadata": {
  "kernelspec": {
   "display_name": "Python 3",
   "language": "python",
   "name": "python3"
  },
  "language_info": {
   "codemirror_mode": {
    "name": "ipython",
    "version": 3
   },
   "file_extension": ".py",
   "mimetype": "text/x-python",
   "name": "python",
   "nbconvert_exporter": "python",
   "pygments_lexer": "ipython3",
   "version": "3.6.10"
  }
 },
 "nbformat": 4,
 "nbformat_minor": 4
}
