{
 "cells": [
  {
   "cell_type": "code",
   "execution_count": 1,
   "metadata": {},
   "outputs": [],
   "source": [
    "import numpy as np\n",
    "import pandas as pd"
   ]
  },
  {
   "cell_type": "code",
   "execution_count": 2,
   "metadata": {},
   "outputs": [],
   "source": [
    "# FIP계산에 쓰일 계수인 C는 STATIZ사이트에서 cFIP 크롤링해서 사용\n",
    "import requests\n",
    "from bs4 import BeautifulSoup\n",
    "\n",
    "req = requests.get('http://www.statiz.co.kr/constant.php')\n",
    "html = req.text\n",
    "soup = BeautifulSoup(html, 'html.parser')\n",
    "tables = soup.select('body > div.wrapper > div.content-wrapper > div > section.content > div > div.col-md-12.col-xs-12.col-sm-12.col-lg-9 > div > div > div > div.box-body.no-padding.table-responsive > table')\n",
    "table = tables[0]\n",
    "\n",
    "table_html=str(table)\n",
    "table_df_list=pd.read_html(table_html)\n",
    "table_df = table_df_list[0]\n",
    "\n",
    "idx = table_df.loc[0:4, ['연도', 'cFIP']]\n",
    "idx.rename(columns = {'연도':'GYEAR'}, inplace = True)"
   ]
  },
  {
   "cell_type": "code",
   "execution_count": 3,
   "metadata": {},
   "outputs": [],
   "source": [
    "def add_variables(data, year):\n",
    "    data = pd.read_csv(data)\n",
    "    data['H1']= data['HIT']-data['H2']-data['H3']-data['HR']\n",
    "    \n",
    "    data['CUM_ER'] = None\n",
    "    data['CUM_INN2'] = None\n",
    "    data['CUM_KK'] = None\n",
    "    data['CUM_BB'] = None\n",
    "    data['CUM_HIT'] = None\n",
    "    data['CUM_HR'] = None\n",
    "    data['CUM_AB'] = None\n",
    "    data['CUM_SF'] = None\n",
    "    data['CUM_HP'] = None\n",
    "    data['CUM_R'] = None\n",
    "    data['CUM_H1']= None\n",
    "    data['CUM_H2']= None\n",
    "    data['CUM_H3']= None\n",
    "    data['GYEAR']=None\n",
    "    \n",
    "    data.loc[data['G_ID'].str.contains('%d' % year), 'GYEAR'] = year\n",
    "    data = pd.merge(data, idx, on='GYEAR')\n",
    "    \n",
    "    data = data.sort_values(by=['T_ID', 'GDAY_DS'])\n",
    "    data= data.drop('GYEAR', axis=1 )\n",
    "    \n",
    "    temp = []\n",
    "    \n",
    "    for i in range(len(data['T_ID'].unique())):\n",
    "        temp.append(list(data['T_ID']).index(data['T_ID'].unique()[i]))\n",
    "    \n",
    "    temp.append(len(data))\n",
    "\n",
    "    for i in range(len(data['T_ID'].unique())):\n",
    "        for j in range(temp[i], temp[i+1]):\n",
    "            if j == temp[i]:\n",
    "                data.iloc[j, 35] = data.iloc[j, 30]\n",
    "                data.iloc[j, 36] = data.iloc[j, 9]\n",
    "                data.iloc[j, 37] = data.iloc[j, 24]\n",
    "                data.iloc[j, 38] = data.iloc[j, 21]\n",
    "                data.iloc[j, 39] = data.iloc[j, 13]\n",
    "                data.iloc[j, 40] = data.iloc[j, 16]\n",
    "                data.iloc[j, 41] = data.iloc[j, 12]\n",
    "                data.iloc[j, 42] = data.iloc[j, 20]\n",
    "                data.iloc[j, 43] = data.iloc[j, 23]\n",
    "                data.iloc[j, 44] = data.iloc[j, 29]\n",
    "                data.iloc[j, 45] = data.iloc[j, 34]\n",
    "                data.iloc[j, 46] = data.iloc[j, 14]\n",
    "                data.iloc[j, 47] = data.iloc[j, 15]\n",
    "\n",
    "            else :\n",
    "                data.iloc[j, 35] = data.iloc[j, 30]+ data.iloc[j-1,35]\n",
    "                data.iloc[j, 36] = data.iloc[j, 9]+ data.iloc[j-1, 36]\n",
    "                data.iloc[j, 37] = data.iloc[j, 24] + data.iloc[j-1, 37]\n",
    "                data.iloc[j, 38] = data.iloc[j, 21] + data.iloc[j-1, 38]\n",
    "                data.iloc[j, 39] = data.iloc[j, 13] + data.iloc[j-1, 39]\n",
    "                data.iloc[j, 40] = data.iloc[j, 16] + data.iloc[j-1, 40]\n",
    "                data.iloc[j, 41] = data.iloc[j, 12] + data.iloc[j-1, 41]\n",
    "                data.iloc[j, 42] = data.iloc[j, 20] + data.iloc[j-1, 42]\n",
    "                data.iloc[j, 43] = data.iloc[j, 23] + data.iloc[j-1, 43]\n",
    "                data.iloc[j, 44] = data.iloc[j, 29] + data.iloc[j-1, 44]\n",
    "                data.iloc[j, 45] = data.iloc[j, 34] + data.iloc[j-1, 45]\n",
    "                data.iloc[j, 46] = data.iloc[j, 14] + data.iloc[j-1, 46]\n",
    "                data.iloc[j, 47] = data.iloc[j, 15] + data.iloc[j-1, 47]\n",
    "\n",
    "    \n",
    "    data = data.sort_index()\n",
    "    \n",
    "    \n",
    "    data['K/9'] = 9*data['CUM_KK']/(data['CUM_INN2']/3)\n",
    "    data['BB/9'] = 9*data['CUM_BB']/(data['CUM_INN2']/3)\n",
    "    data['K/BB'] = data['CUM_KK']/data['CUM_BB']\n",
    "    data['OAVG'] = data['CUM_HIT']/data['CUM_AB']\n",
    "    data['OOBP'] = (data['CUM_HIT'] + data['CUM_BB'] + data['CUM_HP'])/(data['CUM_AB'] + data['CUM_BB'] +data['CUM_HP'] + data['CUM_SF'])\n",
    "    data['OSLG'] = (data['CUM_H1'] + 2*data['CUM_H2'] + 3*data['CUM_H3'] + 4*data['CUM_HR'])/data['CUM_AB']\n",
    "    data['OOPS'] = data['OOBP'] + data['OSLG']\n",
    "    data['WHIP'] = (data['CUM_HIT'] + data['CUM_BB'])/(data['CUM_INN2']/3)\n",
    "    data['BABIP'] = (data['CUM_HIT'] - data['CUM_HR'])/(data['CUM_AB'] - data['CUM_KK'] - data['CUM_HR'] + data['CUM_SF'])\n",
    "    data['DICE']= 3.00 + (13*data['CUM_HR'] + 3*(data['CUM_BB'] + data['HP']) - 2*data['CUM_KK'])/(data['CUM_INN2']/3)\n",
    "    data['ERA'] = 9*data['CUM_ER']/(data['CUM_INN2']/3)\n",
    "    data['RA9'] = 9 * data['CUM_R']/(data['CUM_INN2']/3)\n",
    "    data['FIP'] = data['cFIP'] + (13*data['CUM_HR'] + 3*(data['CUM_BB'] + data['CUM_HP']) - 2*data['CUM_KK'])/(data['CUM_INN2']/3)\n",
    "    data['kFIP'] = data['cFIP'] + (14* data['CUM_HR'] + 3*(data['CUM_BB'] + data['CUM_HP']) - data['CUM_KK'])/(data['CUM_INN2']/3)\n",
    "    data['HR/9'] = 9 * data['CUM_HR']/(data['CUM_INN2']/3)\n",
    "    data['H/9'] = 9 * data['CUM_HIT']/(data['CUM_INN2']/3)\n",
    "\n",
    "\n",
    "\n",
    "    data = data.replace([np.nan, np.inf, -np.inf], 0)\n",
    "    data.to_csv('team_pitcher_%d.csv' % year, index=False)"
   ]
  },
  {
   "cell_type": "code",
   "execution_count": 4,
   "metadata": {},
   "outputs": [],
   "source": [
    "add_variables('2020빅콘테스트_스포츠투아이_제공데이터_팀투수_2016.csv', 2016)"
   ]
  },
  {
   "cell_type": "code",
   "execution_count": 5,
   "metadata": {},
   "outputs": [],
   "source": [
    "add_variables('2020빅콘테스트_스포츠투아이_제공데이터_팀투수_2017.csv', 2017)"
   ]
  },
  {
   "cell_type": "code",
   "execution_count": 6,
   "metadata": {},
   "outputs": [],
   "source": [
    "add_variables('2020빅콘테스트_스포츠투아이_제공데이터_팀투수_2018.csv', 2018)"
   ]
  },
  {
   "cell_type": "code",
   "execution_count": 7,
   "metadata": {},
   "outputs": [],
   "source": [
    "add_variables('2020빅콘테스트_스포츠투아이_제공데이터_팀투수_2019.csv', 2019)"
   ]
  },
  {
   "cell_type": "code",
   "execution_count": 8,
   "metadata": {},
   "outputs": [],
   "source": [
    "add_variables('2020빅콘테스트_스포츠투아이_제공데이터_팀투수_2020.csv', 2020)"
   ]
  }
 ],
 "metadata": {
  "kernelspec": {
   "display_name": "Python 3",
   "language": "python",
   "name": "python3"
  },
  "language_info": {
   "codemirror_mode": {
    "name": "ipython",
    "version": 3
   },
   "file_extension": ".py",
   "mimetype": "text/x-python",
   "name": "python",
   "nbconvert_exporter": "python",
   "pygments_lexer": "ipython3",
   "version": "3.7.6"
  }
 },
 "nbformat": 4,
 "nbformat_minor": 4
}
