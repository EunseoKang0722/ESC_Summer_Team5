{
 "cells": [
  {
   "cell_type": "code",
   "execution_count": 1,
   "metadata": {},
   "outputs": [],
   "source": [
    "import numpy as np\n",
    "import pandas as pd"
   ]
  },
  {
   "cell_type": "code",
   "execution_count": 2,
   "metadata": {},
   "outputs": [],
   "source": [
    "def add_variables(data, year):\n",
    "    data = pd.read_csv(data)\n",
    "    \n",
    "    data['CUM_ER'] = None\n",
    "    data['CUM_INN2'] = None\n",
    "    data['CUM_KK'] = None\n",
    "    data['CUM_BB'] = None\n",
    "    data['CUM_HIT'] = None\n",
    "    data['CUM_HR'] = None\n",
    "    data['CUM_AB'] = None\n",
    "    data['CUM_SF'] = None\n",
    "    \n",
    "    data = data.sort_values(by=['P_ID', 'GDAY_DS'])\n",
    "    \n",
    "    temp = []\n",
    "    \n",
    "    for i in range(250):\n",
    "        temp.append(list(data['P_ID']).index(data['P_ID'].unique()[i]))\n",
    "    \n",
    "    temp.append(len(data))\n",
    "    \n",
    "    for i in range(250):\n",
    "        for j in range(temp[i], temp[i+1]):\n",
    "            data.iloc[j, 38] = np.cumsum(data.iloc[j, 34])\n",
    "            data.iloc[j, 39] = np.cumsum(data.iloc[j, 13])\n",
    "            data.iloc[j, 40] = np.cumsum(data.iloc[j, 28])\n",
    "            data.iloc[j, 41] = np.cumsum(data.iloc[j, 25])\n",
    "            data.iloc[j, 42] = np.cumsum(data.iloc[j, 17])\n",
    "            data.iloc[j, 43] = np.cumsum(data.iloc[j, 20])\n",
    "            data.iloc[j, 44] = np.cumsum(data.iloc[j, 16])\n",
    "            data.iloc[j, 45] = np.cumsum(data.iloc[j, 24])\n",
    "    \n",
    "    data = data.sort_index()\n",
    "    \n",
    "    data['ERA'] = 9*data['CUM_ER']/(data['CUM_INN2']/3)\n",
    "    data['K/9'] = 9*data['CUM_KK']/(data['CUM_INN2']/3)\n",
    "    data['BB/9'] = 9*data['CUM_BB']/(data['CUM_INN2']/3)\n",
    "    data['K/BB'] = data['CUM_KK']/data['CUM_BB']\n",
    "    data['WHIP'] = (data['CUM_HIT']+data['CUM_BB'])/(data['CUM_INN2']/3)\n",
    "    data['BABIP'] = (data['CUM_HIT']-data['CUM_HR'])/(data['CUM_AB']-data['CUM_KK']-data['CUM_HR']+data['CUM_SF'])\n",
    "    \n",
    "    data = data.replace([np.nan, np.inf, -np.inf], 0)\n",
    "    data.to_csv('data_%d.csv' % year)"
   ]
  },
  {
   "cell_type": "code",
   "execution_count": 3,
   "metadata": {},
   "outputs": [],
   "source": [
    "add_variables('2020빅콘테스트_스포츠투아이_제공데이터_개인투수_2016.csv', 2016)"
   ]
  },
  {
   "cell_type": "code",
   "execution_count": 4,
   "metadata": {},
   "outputs": [],
   "source": [
    "add_variables('2020빅콘테스트_스포츠투아이_제공데이터_개인투수_2016.csv', 2017)"
   ]
  },
  {
   "cell_type": "code",
   "execution_count": 5,
   "metadata": {},
   "outputs": [],
   "source": [
    "add_variables('2020빅콘테스트_스포츠투아이_제공데이터_개인투수_2016.csv', 2018)"
   ]
  },
  {
   "cell_type": "code",
   "execution_count": 6,
   "metadata": {},
   "outputs": [],
   "source": [
    "add_variables('2020빅콘테스트_스포츠투아이_제공데이터_개인투수_2016.csv', 2019)"
   ]
  },
  {
   "cell_type": "code",
   "execution_count": 7,
   "metadata": {},
   "outputs": [],
   "source": [
    "add_variables('2020빅콘테스트_스포츠투아이_제공데이터_개인투수_2016.csv', 2020)"
   ]
  }
 ],
 "metadata": {
  "kernelspec": {
   "display_name": "Python 3",
   "language": "python",
   "name": "python3"
  },
  "language_info": {
   "codemirror_mode": {
    "name": "ipython",
    "version": 3
   },
   "file_extension": ".py",
   "mimetype": "text/x-python",
   "name": "python",
   "nbconvert_exporter": "python",
   "pygments_lexer": "ipython3",
   "version": "3.8.2"
  }
 },
 "nbformat": 4,
 "nbformat_minor": 4
}
