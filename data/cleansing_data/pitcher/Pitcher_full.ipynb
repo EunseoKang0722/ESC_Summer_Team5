{
 "cells": [
  {
   "cell_type": "code",
   "execution_count": 1,
   "metadata": {},
   "outputs": [],
   "source": [
    "import numpy as np\n",
    "import pandas as pd"
   ]
  },
  {
   "cell_type": "markdown",
   "metadata": {},
   "source": [
    "FIP계산에 쓰일 계수인 C는 STATIZ사이트에서 cFIP 크롤링해서 사용"
   ]
  },
  {
   "cell_type": "code",
   "execution_count": 2,
   "metadata": {},
   "outputs": [],
   "source": [
    "import requests\n",
    "from bs4 import BeautifulSoup\n",
    "\n",
    "req = requests.get('http://www.statiz.co.kr/constant.php')\n",
    "html = req.text\n",
    "soup = BeautifulSoup(html, 'html.parser')\n",
    "tables = soup.select('body > div.wrapper > div.content-wrapper > div > section.content > div > div.col-md-12.col-xs-12.col-sm-12.col-lg-9 > div > div > div > div.box-body.no-padding.table-responsive > table')\n",
    "table = tables[0]"
   ]
  },
  {
   "cell_type": "code",
   "execution_count": 3,
   "metadata": {},
   "outputs": [],
   "source": [
    "table_html=str(table)\n",
    "table_df_list=pd.read_html(table_html)\n",
    "table_df = table_df_list[0]"
   ]
  },
  {
   "cell_type": "code",
   "execution_count": 4,
   "metadata": {},
   "outputs": [
    {
     "data": {
      "text/html": [
       "<div>\n",
       "<style scoped>\n",
       "    .dataframe tbody tr th:only-of-type {\n",
       "        vertical-align: middle;\n",
       "    }\n",
       "\n",
       "    .dataframe tbody tr th {\n",
       "        vertical-align: top;\n",
       "    }\n",
       "\n",
       "    .dataframe thead th {\n",
       "        text-align: right;\n",
       "    }\n",
       "</style>\n",
       "<table border=\"1\" class=\"dataframe\">\n",
       "  <thead>\n",
       "    <tr style=\"text-align: right;\">\n",
       "      <th></th>\n",
       "      <th>연도</th>\n",
       "      <th>wOBA</th>\n",
       "      <th>Scale</th>\n",
       "      <th>wBB</th>\n",
       "      <th>wHBP</th>\n",
       "      <th>w1B</th>\n",
       "      <th>w2B</th>\n",
       "      <th>w3B</th>\n",
       "      <th>wHR</th>\n",
       "      <th>runSB</th>\n",
       "      <th>runCS</th>\n",
       "      <th>R/PA</th>\n",
       "      <th>R/W</th>\n",
       "      <th>cFIP</th>\n",
       "    </tr>\n",
       "  </thead>\n",
       "  <tbody>\n",
       "    <tr>\n",
       "      <th>0</th>\n",
       "      <td>2020</td>\n",
       "      <td>0.345</td>\n",
       "      <td>1.145</td>\n",
       "      <td>0.730</td>\n",
       "      <td>0.759</td>\n",
       "      <td>0.936</td>\n",
       "      <td>1.279</td>\n",
       "      <td>1.588</td>\n",
       "      <td>1.947</td>\n",
       "      <td>0.2</td>\n",
       "      <td>0.467</td>\n",
       "      <td>0.134</td>\n",
       "      <td>10.837</td>\n",
       "      <td>3.630</td>\n",
       "    </tr>\n",
       "    <tr>\n",
       "      <th>1</th>\n",
       "      <td>2019</td>\n",
       "      <td>0.335</td>\n",
       "      <td>1.242</td>\n",
       "      <td>0.721</td>\n",
       "      <td>0.752</td>\n",
       "      <td>0.945</td>\n",
       "      <td>1.317</td>\n",
       "      <td>1.653</td>\n",
       "      <td>2.074</td>\n",
       "      <td>0.2</td>\n",
       "      <td>0.417</td>\n",
       "      <td>0.118</td>\n",
       "      <td>9.821</td>\n",
       "      <td>3.403</td>\n",
       "    </tr>\n",
       "    <tr>\n",
       "      <th>2</th>\n",
       "      <td>2018</td>\n",
       "      <td>0.351</td>\n",
       "      <td>1.075</td>\n",
       "      <td>0.726</td>\n",
       "      <td>0.753</td>\n",
       "      <td>0.920</td>\n",
       "      <td>1.242</td>\n",
       "      <td>1.533</td>\n",
       "      <td>1.857</td>\n",
       "      <td>0.2</td>\n",
       "      <td>0.492</td>\n",
       "      <td>0.141</td>\n",
       "      <td>11.327</td>\n",
       "      <td>3.833</td>\n",
       "    </tr>\n",
       "    <tr>\n",
       "      <th>3</th>\n",
       "      <td>2017</td>\n",
       "      <td>0.351</td>\n",
       "      <td>1.107</td>\n",
       "      <td>0.728</td>\n",
       "      <td>0.756</td>\n",
       "      <td>0.927</td>\n",
       "      <td>1.259</td>\n",
       "      <td>1.558</td>\n",
       "      <td>1.901</td>\n",
       "      <td>0.2</td>\n",
       "      <td>0.476</td>\n",
       "      <td>0.135</td>\n",
       "      <td>11.001</td>\n",
       "      <td>3.735</td>\n",
       "    </tr>\n",
       "    <tr>\n",
       "      <th>4</th>\n",
       "      <td>2016</td>\n",
       "      <td>0.362</td>\n",
       "      <td>1.097</td>\n",
       "      <td>0.747</td>\n",
       "      <td>0.774</td>\n",
       "      <td>0.944</td>\n",
       "      <td>1.273</td>\n",
       "      <td>1.569</td>\n",
       "      <td>1.898</td>\n",
       "      <td>0.2</td>\n",
       "      <td>0.495</td>\n",
       "      <td>0.140</td>\n",
       "      <td>11.410</td>\n",
       "      <td>3.792</td>\n",
       "    </tr>\n",
       "  </tbody>\n",
       "</table>\n",
       "</div>"
      ],
      "text/plain": [
       "     연도   wOBA  Scale    wBB   wHBP    w1B    w2B    w3B    wHR  runSB  runCS  \\\n",
       "0  2020  0.345  1.145  0.730  0.759  0.936  1.279  1.588  1.947    0.2  0.467   \n",
       "1  2019  0.335  1.242  0.721  0.752  0.945  1.317  1.653  2.074    0.2  0.417   \n",
       "2  2018  0.351  1.075  0.726  0.753  0.920  1.242  1.533  1.857    0.2  0.492   \n",
       "3  2017  0.351  1.107  0.728  0.756  0.927  1.259  1.558  1.901    0.2  0.476   \n",
       "4  2016  0.362  1.097  0.747  0.774  0.944  1.273  1.569  1.898    0.2  0.495   \n",
       "\n",
       "    R/PA     R/W   cFIP  \n",
       "0  0.134  10.837  3.630  \n",
       "1  0.118   9.821  3.403  \n",
       "2  0.141  11.327  3.833  \n",
       "3  0.135  11.001  3.735  \n",
       "4  0.140  11.410  3.792  "
      ]
     },
     "execution_count": 4,
     "metadata": {},
     "output_type": "execute_result"
    }
   ],
   "source": [
    "idx=table_df[0:5]\n",
    "idx"
   ]
  },
  {
   "cell_type": "code",
   "execution_count": 5,
   "metadata": {},
   "outputs": [
    {
     "data": {
      "text/html": [
       "<div>\n",
       "<style scoped>\n",
       "    .dataframe tbody tr th:only-of-type {\n",
       "        vertical-align: middle;\n",
       "    }\n",
       "\n",
       "    .dataframe tbody tr th {\n",
       "        vertical-align: top;\n",
       "    }\n",
       "\n",
       "    .dataframe thead th {\n",
       "        text-align: right;\n",
       "    }\n",
       "</style>\n",
       "<table border=\"1\" class=\"dataframe\">\n",
       "  <thead>\n",
       "    <tr style=\"text-align: right;\">\n",
       "      <th></th>\n",
       "      <th>연도</th>\n",
       "      <th>cFIP</th>\n",
       "    </tr>\n",
       "  </thead>\n",
       "  <tbody>\n",
       "    <tr>\n",
       "      <th>0</th>\n",
       "      <td>2020</td>\n",
       "      <td>3.630</td>\n",
       "    </tr>\n",
       "    <tr>\n",
       "      <th>1</th>\n",
       "      <td>2019</td>\n",
       "      <td>3.403</td>\n",
       "    </tr>\n",
       "    <tr>\n",
       "      <th>2</th>\n",
       "      <td>2018</td>\n",
       "      <td>3.833</td>\n",
       "    </tr>\n",
       "    <tr>\n",
       "      <th>3</th>\n",
       "      <td>2017</td>\n",
       "      <td>3.735</td>\n",
       "    </tr>\n",
       "    <tr>\n",
       "      <th>4</th>\n",
       "      <td>2016</td>\n",
       "      <td>3.792</td>\n",
       "    </tr>\n",
       "  </tbody>\n",
       "</table>\n",
       "</div>"
      ],
      "text/plain": [
       "     연도   cFIP\n",
       "0  2020  3.630\n",
       "1  2019  3.403\n",
       "2  2018  3.833\n",
       "3  2017  3.735\n",
       "4  2016  3.792"
      ]
     },
     "execution_count": 5,
     "metadata": {},
     "output_type": "execute_result"
    }
   ],
   "source": [
    "idx=idx[['연도','cFIP']]\n",
    "idx"
   ]
  },
  {
   "cell_type": "code",
   "execution_count": 6,
   "metadata": {},
   "outputs": [
    {
     "name": "stderr",
     "output_type": "stream",
     "text": [
      "C:\\ProgramData\\Anaconda3\\lib\\site-packages\\pandas\\core\\frame.py:4133: SettingWithCopyWarning: \n",
      "A value is trying to be set on a copy of a slice from a DataFrame\n",
      "\n",
      "See the caveats in the documentation: https://pandas.pydata.org/pandas-docs/stable/user_guide/indexing.html#returning-a-view-versus-a-copy\n",
      "  errors=errors,\n"
     ]
    },
    {
     "data": {
      "text/html": [
       "<div>\n",
       "<style scoped>\n",
       "    .dataframe tbody tr th:only-of-type {\n",
       "        vertical-align: middle;\n",
       "    }\n",
       "\n",
       "    .dataframe tbody tr th {\n",
       "        vertical-align: top;\n",
       "    }\n",
       "\n",
       "    .dataframe thead th {\n",
       "        text-align: right;\n",
       "    }\n",
       "</style>\n",
       "<table border=\"1\" class=\"dataframe\">\n",
       "  <thead>\n",
       "    <tr style=\"text-align: right;\">\n",
       "      <th></th>\n",
       "      <th>GYEAR</th>\n",
       "      <th>cFIP</th>\n",
       "    </tr>\n",
       "  </thead>\n",
       "  <tbody>\n",
       "    <tr>\n",
       "      <th>0</th>\n",
       "      <td>2020</td>\n",
       "      <td>3.630</td>\n",
       "    </tr>\n",
       "    <tr>\n",
       "      <th>1</th>\n",
       "      <td>2019</td>\n",
       "      <td>3.403</td>\n",
       "    </tr>\n",
       "    <tr>\n",
       "      <th>2</th>\n",
       "      <td>2018</td>\n",
       "      <td>3.833</td>\n",
       "    </tr>\n",
       "    <tr>\n",
       "      <th>3</th>\n",
       "      <td>2017</td>\n",
       "      <td>3.735</td>\n",
       "    </tr>\n",
       "    <tr>\n",
       "      <th>4</th>\n",
       "      <td>2016</td>\n",
       "      <td>3.792</td>\n",
       "    </tr>\n",
       "  </tbody>\n",
       "</table>\n",
       "</div>"
      ],
      "text/plain": [
       "   GYEAR   cFIP\n",
       "0   2020  3.630\n",
       "1   2019  3.403\n",
       "2   2018  3.833\n",
       "3   2017  3.735\n",
       "4   2016  3.792"
      ]
     },
     "execution_count": 6,
     "metadata": {},
     "output_type": "execute_result"
    }
   ],
   "source": [
    "idx.rename(columns = {'연도':'GYEAR'}, inplace = True)\n",
    "idx"
   ]
  },
  {
   "cell_type": "code",
   "execution_count": 14,
   "metadata": {},
   "outputs": [],
   "source": [
    "def add_variables(data, year):\n",
    "    data = pd.read_csv(data, encoding='CP949')\n",
    "    \n",
    "    data['CUM_ER'] = None\n",
    "    data['CUM_INN2'] = None\n",
    "    data['CUM_KK'] = None\n",
    "    data['CUM_BB'] = None\n",
    "    data['CUM_HIT'] = None\n",
    "    data['CUM_HR'] = None\n",
    "    data['CUM_AB'] = None\n",
    "    data['CUM_SF'] = None\n",
    "    data['CUM_HP'] = None\n",
    "    data['CUM_R'] = None\n",
    "    data['CUM_H2']= None\n",
    "    data['CUM_H3']= None\n",
    "    data['GYEAR']=None\n",
    "    \n",
    "    data.loc[data['G_ID'].str.contains('2016'),'GYEAR']=2016\n",
    "    data.loc[data['G_ID'].str.contains('2017'),'GYEAR']=2017\n",
    "    data.loc[data['G_ID'].str.contains('2018'),'GYEAR']=2018\n",
    "    data.loc[data['G_ID'].str.contains('2019'),'GYEAR']=2019\n",
    "    data.loc[data['G_ID'].str.contains('2020'),'GYEAR']=2020\n",
    "    data=pd.merge(data,idx,on='GYEAR')\n",
    "    \n",
    "    data = data.sort_values(by=['P_ID', 'GDAY_DS'])\n",
    "    data= data.drop('GYEAR', axis=1 )\n",
    "    \n",
    "    temp = []\n",
    "    \n",
    "    for i in range(250):\n",
    "        temp.append(list(data['P_ID']).index(data['P_ID'].unique()[i]))\n",
    "    \n",
    "    temp.append(len(data))\n",
    "    \n",
    "    for i in range(250):\n",
    "        for j in range(temp[i], temp[i+1]):\n",
    "            data.iloc[j, 38] = np.cumsum(data.iloc[j, 34])\n",
    "            data.iloc[j, 39] = np.cumsum(data.iloc[j, 13])\n",
    "            data.iloc[j, 40] = np.cumsum(data.iloc[j, 28])\n",
    "            data.iloc[j, 41] = np.cumsum(data.iloc[j, 25])\n",
    "            data.iloc[j, 42] = np.cumsum(data.iloc[j, 17])\n",
    "            data.iloc[j, 43] = np.cumsum(data.iloc[j, 20])\n",
    "            data.iloc[j, 44] = np.cumsum(data.iloc[j, 16])\n",
    "            data.iloc[j, 45] = np.cumsum(data.iloc[j, 24])\n",
    "            data.iloc[j, 46] = np.cumsum(data.iloc[j, 27])\n",
    "            data.iloc[j, 47] = np.cumsum(data.iloc[j, 33])\n",
    "            data.iloc[j, 48] = np.cumsum(data.iloc[j, 18])\n",
    "            data.iloc[j, 49] = np.cumsum(data.iloc[j, 19])\n",
    "    \n",
    "    data = data.sort_index()\n",
    "    \n",
    "    data['ERA'] = 9*data['CUM_ER']/(data['CUM_INN2']/3)\n",
    "    data['K/9'] = 9*data['CUM_KK']/(data['CUM_INN2']/3)\n",
    "    data['BB/9'] = 9*data['CUM_BB']/(data['CUM_INN2']/3)\n",
    "    data['K/BB'] = data['CUM_KK']/data['CUM_BB']\n",
    "    data['WHIP'] = (data['CUM_HIT']+data['CUM_BB'])/(data['CUM_INN2']/3)\n",
    "    data['BABIP'] = (data['CUM_HIT']-data['CUM_HR'])/(data['CUM_AB']-data['CUM_KK']-data['CUM_HR']+data['CUM_SF'])\n",
    "    data['DICE']= 3.00 + (13* data['CUM_HR'] + 3*(data['CUM_BB']+ data['HP'])-2* data['CUM_KK'])/(data['CUM_INN2'] /3 )\n",
    "    data['FIP'] = data['cFIP'] + (13* data['CUM_HR'] + 3*(data['CUM_BB']+data['CUM_HP']) - 2* data['CUM_KK'])/ (data['CUM_INN2']/3)\n",
    "    data['kFIP'] = data['cFIP']+ (14* data['CUM_HR'] + 3*(data['CUM_BB']+data['CUM_HP']) -data['CUM_KK'])/ (data['CUM_INN2']/3)\n",
    "    data['RA9'] = 9 * data['CUM_R'] / (data['CUM_INN2'] / 3)\n",
    "    data['HR/9'] = 9 * data['CUM_HR'] / (data['CUM_INN2'] / 3)\n",
    "    data['H/9'] = 9 * data['CUM_HIT'] / (data['CUM_INN2'] / 3)\n",
    "    data['OAVG'] = data['CUM_HIT']/ data['CUM_AB']\n",
    "    data['OOBP'] = (data['CUM_HIT'] + data['CUM_BB'] + data['CUM_HP'] ) / (data['CUM_AB'] + data['CUM_BB'] +data['CUM_HP'] + data['CUM_SF'])\n",
    "    data['OSLG'] = ( data['CUM_HIT'] + 2*data['CUM_H2'] + 3*data['CUM_H3']+ 4*data['CUM_HR'])/data['CUM_AB']\n",
    "    data['OOPS'] = data['OOBP']+ data['OSLG']\n",
    "\n",
    "    \n",
    "    data = data.replace([np.nan, np.inf, -np.inf], 0)\n",
    "    data.to_csv('data_%d.csv' % year)"
   ]
  },
  {
   "cell_type": "code",
   "execution_count": 15,
   "metadata": {},
   "outputs": [],
   "source": [
    "add_variables('2020빅콘테스트_스포츠투아이_제공데이터_개인투수_2016.csv', 2016)"
   ]
  },
  {
   "cell_type": "code",
   "execution_count": 16,
   "metadata": {},
   "outputs": [
    {
     "ename": "IndexError",
     "evalue": "index 239 is out of bounds for axis 0 with size 239",
     "output_type": "error",
     "traceback": [
      "\u001b[1;31m---------------------------------------------------------------------------\u001b[0m",
      "\u001b[1;31mIndexError\u001b[0m                                Traceback (most recent call last)",
      "\u001b[1;32m<ipython-input-16-cd01950696b3>\u001b[0m in \u001b[0;36m<module>\u001b[1;34m\u001b[0m\n\u001b[1;32m----> 1\u001b[1;33m \u001b[0madd_variables\u001b[0m\u001b[1;33m(\u001b[0m\u001b[1;34m'2020빅콘테스트_스포츠투아이_제공데이터_개인투수_2017.csv'\u001b[0m\u001b[1;33m,\u001b[0m \u001b[1;36m2017\u001b[0m\u001b[1;33m)\u001b[0m\u001b[1;33m\u001b[0m\u001b[1;33m\u001b[0m\u001b[0m\n\u001b[0m",
      "\u001b[1;32m<ipython-input-14-0d813ee7423f>\u001b[0m in \u001b[0;36madd_variables\u001b[1;34m(data, year)\u001b[0m\n\u001b[0;32m     29\u001b[0m \u001b[1;33m\u001b[0m\u001b[0m\n\u001b[0;32m     30\u001b[0m     \u001b[1;32mfor\u001b[0m \u001b[0mi\u001b[0m \u001b[1;32min\u001b[0m \u001b[0mrange\u001b[0m\u001b[1;33m(\u001b[0m\u001b[1;36m250\u001b[0m\u001b[1;33m)\u001b[0m\u001b[1;33m:\u001b[0m\u001b[1;33m\u001b[0m\u001b[1;33m\u001b[0m\u001b[0m\n\u001b[1;32m---> 31\u001b[1;33m         \u001b[0mtemp\u001b[0m\u001b[1;33m.\u001b[0m\u001b[0mappend\u001b[0m\u001b[1;33m(\u001b[0m\u001b[0mlist\u001b[0m\u001b[1;33m(\u001b[0m\u001b[0mdata\u001b[0m\u001b[1;33m[\u001b[0m\u001b[1;34m'P_ID'\u001b[0m\u001b[1;33m]\u001b[0m\u001b[1;33m)\u001b[0m\u001b[1;33m.\u001b[0m\u001b[0mindex\u001b[0m\u001b[1;33m(\u001b[0m\u001b[0mdata\u001b[0m\u001b[1;33m[\u001b[0m\u001b[1;34m'P_ID'\u001b[0m\u001b[1;33m]\u001b[0m\u001b[1;33m.\u001b[0m\u001b[0munique\u001b[0m\u001b[1;33m(\u001b[0m\u001b[1;33m)\u001b[0m\u001b[1;33m[\u001b[0m\u001b[0mi\u001b[0m\u001b[1;33m]\u001b[0m\u001b[1;33m)\u001b[0m\u001b[1;33m)\u001b[0m\u001b[1;33m\u001b[0m\u001b[1;33m\u001b[0m\u001b[0m\n\u001b[0m\u001b[0;32m     32\u001b[0m \u001b[1;33m\u001b[0m\u001b[0m\n\u001b[0;32m     33\u001b[0m     \u001b[0mtemp\u001b[0m\u001b[1;33m.\u001b[0m\u001b[0mappend\u001b[0m\u001b[1;33m(\u001b[0m\u001b[0mlen\u001b[0m\u001b[1;33m(\u001b[0m\u001b[0mdata\u001b[0m\u001b[1;33m)\u001b[0m\u001b[1;33m)\u001b[0m\u001b[1;33m\u001b[0m\u001b[1;33m\u001b[0m\u001b[0m\n",
      "\u001b[1;31mIndexError\u001b[0m: index 239 is out of bounds for axis 0 with size 239"
     ]
    }
   ],
   "source": [
    "add_variables('2020빅콘테스트_스포츠투아이_제공데이터_개인투수_2017.csv', 2017)"
   ]
  },
  {
   "cell_type": "code",
   "execution_count": 17,
   "metadata": {},
   "outputs": [],
   "source": [
    "add_variables('2020빅콘테스트_스포츠투아이_제공데이터_개인투수_2018.csv', 2018)"
   ]
  },
  {
   "cell_type": "code",
   "execution_count": 18,
   "metadata": {},
   "outputs": [],
   "source": [
    "add_variables('2020빅콘테스트_스포츠투아이_제공데이터_개인투수_2019.csv', 2019)"
   ]
  },
  {
   "cell_type": "code",
   "execution_count": 19,
   "metadata": {},
   "outputs": [
    {
     "ename": "IndexError",
     "evalue": "index 234 is out of bounds for axis 0 with size 234",
     "output_type": "error",
     "traceback": [
      "\u001b[1;31m---------------------------------------------------------------------------\u001b[0m",
      "\u001b[1;31mIndexError\u001b[0m                                Traceback (most recent call last)",
      "\u001b[1;32m<ipython-input-19-9475df793652>\u001b[0m in \u001b[0;36m<module>\u001b[1;34m\u001b[0m\n\u001b[1;32m----> 1\u001b[1;33m \u001b[0madd_variables\u001b[0m\u001b[1;33m(\u001b[0m\u001b[1;34m'2020빅콘테스트_스포츠투아이_제공데이터_개인투수_2020.csv'\u001b[0m\u001b[1;33m,\u001b[0m \u001b[1;36m2020\u001b[0m\u001b[1;33m)\u001b[0m\u001b[1;33m\u001b[0m\u001b[1;33m\u001b[0m\u001b[0m\n\u001b[0m",
      "\u001b[1;32m<ipython-input-14-0d813ee7423f>\u001b[0m in \u001b[0;36madd_variables\u001b[1;34m(data, year)\u001b[0m\n\u001b[0;32m     29\u001b[0m \u001b[1;33m\u001b[0m\u001b[0m\n\u001b[0;32m     30\u001b[0m     \u001b[1;32mfor\u001b[0m \u001b[0mi\u001b[0m \u001b[1;32min\u001b[0m \u001b[0mrange\u001b[0m\u001b[1;33m(\u001b[0m\u001b[1;36m250\u001b[0m\u001b[1;33m)\u001b[0m\u001b[1;33m:\u001b[0m\u001b[1;33m\u001b[0m\u001b[1;33m\u001b[0m\u001b[0m\n\u001b[1;32m---> 31\u001b[1;33m         \u001b[0mtemp\u001b[0m\u001b[1;33m.\u001b[0m\u001b[0mappend\u001b[0m\u001b[1;33m(\u001b[0m\u001b[0mlist\u001b[0m\u001b[1;33m(\u001b[0m\u001b[0mdata\u001b[0m\u001b[1;33m[\u001b[0m\u001b[1;34m'P_ID'\u001b[0m\u001b[1;33m]\u001b[0m\u001b[1;33m)\u001b[0m\u001b[1;33m.\u001b[0m\u001b[0mindex\u001b[0m\u001b[1;33m(\u001b[0m\u001b[0mdata\u001b[0m\u001b[1;33m[\u001b[0m\u001b[1;34m'P_ID'\u001b[0m\u001b[1;33m]\u001b[0m\u001b[1;33m.\u001b[0m\u001b[0munique\u001b[0m\u001b[1;33m(\u001b[0m\u001b[1;33m)\u001b[0m\u001b[1;33m[\u001b[0m\u001b[0mi\u001b[0m\u001b[1;33m]\u001b[0m\u001b[1;33m)\u001b[0m\u001b[1;33m)\u001b[0m\u001b[1;33m\u001b[0m\u001b[1;33m\u001b[0m\u001b[0m\n\u001b[0m\u001b[0;32m     32\u001b[0m \u001b[1;33m\u001b[0m\u001b[0m\n\u001b[0;32m     33\u001b[0m     \u001b[0mtemp\u001b[0m\u001b[1;33m.\u001b[0m\u001b[0mappend\u001b[0m\u001b[1;33m(\u001b[0m\u001b[0mlen\u001b[0m\u001b[1;33m(\u001b[0m\u001b[0mdata\u001b[0m\u001b[1;33m)\u001b[0m\u001b[1;33m)\u001b[0m\u001b[1;33m\u001b[0m\u001b[1;33m\u001b[0m\u001b[0m\n",
      "\u001b[1;31mIndexError\u001b[0m: index 234 is out of bounds for axis 0 with size 234"
     ]
    }
   ],
   "source": [
    "add_variables('2020빅콘테스트_스포츠투아이_제공데이터_개인투수_2020.csv', 2020)"
   ]
  },
  {
   "cell_type": "code",
   "execution_count": null,
   "metadata": {},
   "outputs": [],
   "source": []
  }
 ],
 "metadata": {
  "kernelspec": {
   "display_name": "Python 3",
   "language": "python",
   "name": "python3"
  },
  "language_info": {
   "codemirror_mode": {
    "name": "ipython",
    "version": 3
   },
   "file_extension": ".py",
   "mimetype": "text/x-python",
   "name": "python",
   "nbconvert_exporter": "python",
   "pygments_lexer": "ipython3",
   "version": "3.7.6"
  }
 },
 "nbformat": 4,
 "nbformat_minor": 4
}
