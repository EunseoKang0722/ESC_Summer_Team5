{
 "cells": [
  {
   "cell_type": "code",
   "execution_count": 73,
   "metadata": {},
   "outputs": [],
   "source": [
    "import pandas as pd\n",
    "import numpy as np"
   ]
  },
  {
   "cell_type": "code",
   "execution_count": 74,
   "metadata": {},
   "outputs": [],
   "source": [
    "player = pd.read_csv('선수.csv',index_col = 0)\n",
    "game = pd.read_csv('경기.csv',index_col = 0)\n",
    "batter = pd.read_csv('개인타자.csv',index_col = 0)\n",
    "pitcher = pd.read_csv('개인투수.csv',index_col = 0)\n",
    "player.rename(columns = {\"PCODE\":\"P_ID\"}, inplace=True)"
   ]
  },
  {
   "cell_type": "code",
   "execution_count": 75,
   "metadata": {},
   "outputs": [],
   "source": [
    "batter = pd.merge(batter, player, on=[\"P_ID\",\"T_ID\"], how=\"left\")\n",
    "batter = pd.merge(batter, game, on=[\"G_ID\",\"GDAY_DS\",\"HEADER_NO\"],how=\"left\")\n",
    "batter['HOME'] = np.where(batter['T_ID']==batter['HOME_KEY'],1,0)\n",
    "batter.drop(['VISIT_KEY','HOME_KEY'],axis=1, inplace=True)"
   ]
  },
  {
   "cell_type": "code",
   "execution_count": 76,
   "metadata": {},
   "outputs": [],
   "source": [
    "pitcher = pd.merge(pitcher, player, on=[\"P_ID\",\"T_ID\"], how=\"left\")\n",
    "pitcher = pd.merge(pitcher, game, on=[\"G_ID\",\"GDAY_DS\",\"HEADER_NO\"],how=\"left\")\n",
    "pitcher['HOME'] = np.where(pitcher['T_ID']==pitcher['HOME_KEY'],1,0)\n",
    "pitcher.drop(['VISIT_KEY','HOME_KEY'],axis=1, inplace=True)"
   ]
  },
  {
   "cell_type": "code",
   "execution_count": null,
   "metadata": {},
   "outputs": [],
   "source": [
    "batter.to_csv(batter,'개인타자.csv')\n",
    "pitcer.to_csv(pitcher"
   ]
  }
 ],
 "metadata": {
  "kernelspec": {
   "display_name": "Python 3",
   "language": "python",
   "name": "python3"
  },
  "language_info": {
   "codemirror_mode": {
    "name": "ipython",
    "version": 3
   },
   "file_extension": ".py",
   "mimetype": "text/x-python",
   "name": "python",
   "nbconvert_exporter": "python",
   "pygments_lexer": "ipython3",
   "version": "3.6.10"
  }
 },
 "nbformat": 4,
 "nbformat_minor": 4
}
