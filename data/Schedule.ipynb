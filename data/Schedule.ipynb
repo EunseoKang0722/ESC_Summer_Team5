{
 "cells": [
  {
   "cell_type": "markdown",
   "metadata": {},
   "source": [
    "## Schedule Table Crawling"
   ]
  },
  {
   "cell_type": "markdown",
   "metadata": {},
   "source": [
    "**September**"
   ]
  },
  {
   "cell_type": "code",
   "execution_count": 1,
   "metadata": {
    "scrolled": false
   },
   "outputs": [],
   "source": [
    "import pandas as pd\n",
    "from selenium import webdriver\n",
    "from selenium.webdriver.chrome.options import Options\n",
    "\n",
    "options = Options()\n",
    "options.headless = True\n",
    "driver = webdriver.Chrome('/Applications/chromedriver', options=options)"
   ]
  },
  {
   "cell_type": "code",
   "execution_count": 2,
   "metadata": {
    "scrolled": false
   },
   "outputs": [],
   "source": [
    "driver.get('https://www.koreabaseball.com/Schedule/Schedule.aspx')\n",
    "driver.find_element_by_id('ddlMonth').send_keys('09')\n",
    "\n",
    "table = driver.find_element_by_xpath('//*[@id=\"tblSchedule\"]/tbody')\n",
    "schedule = table.text"
   ]
  },
  {
   "cell_type": "code",
   "execution_count": 3,
   "metadata": {},
   "outputs": [],
   "source": [
    "a = []"
   ]
  },
  {
   "cell_type": "code",
   "execution_count": 4,
   "metadata": {},
   "outputs": [],
   "source": [
    "for i in range(len(schedule.split('\\n'))):\n",
    "    if len(schedule.split('\\n')[i].split(' ')) == 5:\n",
    "        a.append(i)"
   ]
  },
  {
   "cell_type": "code",
   "execution_count": 5,
   "metadata": {},
   "outputs": [],
   "source": [
    "b = []"
   ]
  },
  {
   "cell_type": "code",
   "execution_count": 6,
   "metadata": {},
   "outputs": [],
   "source": [
    "for i in range(len(schedule.split('\\n'))):\n",
    "    b.append(schedule.split('\\n')[i].split(' '))"
   ]
  },
  {
   "cell_type": "code",
   "execution_count": 7,
   "metadata": {},
   "outputs": [],
   "source": [
    "for i in a:\n",
    "    del b[i][0]"
   ]
  },
  {
   "cell_type": "code",
   "execution_count": 8,
   "metadata": {},
   "outputs": [],
   "source": [
    "schedule_sep = pd.DataFrame(b).drop([3], axis=1)\n",
    "schedule_sep.columns = ['time', 'game', 'stadium']\n",
    "schedule_sep['date'] = None\n",
    "schedule_sep = schedule_sep[['date', 'time', 'game', 'stadium']]"
   ]
  },
  {
   "cell_type": "code",
   "execution_count": 9,
   "metadata": {},
   "outputs": [],
   "source": [
    "a.append(len(schedule.split('\\n')))"
   ]
  },
  {
   "cell_type": "code",
   "execution_count": 10,
   "metadata": {},
   "outputs": [],
   "source": [
    "for i in range(len(a)-1):\n",
    "    schedule_sep.iloc[a[i]:a[i+1], 0] = schedule.split('\\n')[a[i]].split(' ')[0]"
   ]
  },
  {
   "cell_type": "code",
   "execution_count": 11,
   "metadata": {
    "scrolled": false
   },
   "outputs": [
    {
     "data": {
      "text/html": [
       "<div>\n",
       "<style scoped>\n",
       "    .dataframe tbody tr th:only-of-type {\n",
       "        vertical-align: middle;\n",
       "    }\n",
       "\n",
       "    .dataframe tbody tr th {\n",
       "        vertical-align: top;\n",
       "    }\n",
       "\n",
       "    .dataframe thead th {\n",
       "        text-align: right;\n",
       "    }\n",
       "</style>\n",
       "<table border=\"1\" class=\"dataframe\">\n",
       "  <thead>\n",
       "    <tr style=\"text-align: right;\">\n",
       "      <th></th>\n",
       "      <th>date</th>\n",
       "      <th>time</th>\n",
       "      <th>game</th>\n",
       "      <th>stadium</th>\n",
       "    </tr>\n",
       "  </thead>\n",
       "  <tbody>\n",
       "    <tr>\n",
       "      <th>0</th>\n",
       "      <td>09.01(화)</td>\n",
       "      <td>18:30</td>\n",
       "      <td>한화vs두산</td>\n",
       "      <td>잠실</td>\n",
       "    </tr>\n",
       "    <tr>\n",
       "      <th>1</th>\n",
       "      <td>09.01(화)</td>\n",
       "      <td>18:30</td>\n",
       "      <td>LGvsSK</td>\n",
       "      <td>문학</td>\n",
       "    </tr>\n",
       "    <tr>\n",
       "      <th>2</th>\n",
       "      <td>09.01(화)</td>\n",
       "      <td>18:30</td>\n",
       "      <td>롯데vsKT</td>\n",
       "      <td>수원</td>\n",
       "    </tr>\n",
       "    <tr>\n",
       "      <th>3</th>\n",
       "      <td>09.01(화)</td>\n",
       "      <td>18:30</td>\n",
       "      <td>삼성vsKIA</td>\n",
       "      <td>광주</td>\n",
       "    </tr>\n",
       "    <tr>\n",
       "      <th>4</th>\n",
       "      <td>09.01(화)</td>\n",
       "      <td>18:30</td>\n",
       "      <td>NCvs키움</td>\n",
       "      <td>고척</td>\n",
       "    </tr>\n",
       "    <tr>\n",
       "      <th>...</th>\n",
       "      <td>...</td>\n",
       "      <td>...</td>\n",
       "      <td>...</td>\n",
       "      <td>...</td>\n",
       "    </tr>\n",
       "    <tr>\n",
       "      <th>130</th>\n",
       "      <td>09.30(수)</td>\n",
       "      <td>14:00</td>\n",
       "      <td>롯데vsLG</td>\n",
       "      <td>잠실</td>\n",
       "    </tr>\n",
       "    <tr>\n",
       "      <th>131</th>\n",
       "      <td>09.30(수)</td>\n",
       "      <td>14:00</td>\n",
       "      <td>KTvs삼성</td>\n",
       "      <td>대구</td>\n",
       "    </tr>\n",
       "    <tr>\n",
       "      <th>132</th>\n",
       "      <td>09.30(수)</td>\n",
       "      <td>14:00</td>\n",
       "      <td>SKvsNC</td>\n",
       "      <td>창원</td>\n",
       "    </tr>\n",
       "    <tr>\n",
       "      <th>133</th>\n",
       "      <td>09.30(수)</td>\n",
       "      <td>14:00</td>\n",
       "      <td>KIAvs키움</td>\n",
       "      <td>고척</td>\n",
       "    </tr>\n",
       "    <tr>\n",
       "      <th>134</th>\n",
       "      <td>09.30(수)</td>\n",
       "      <td>14:00</td>\n",
       "      <td>두산vs한화</td>\n",
       "      <td>대전</td>\n",
       "    </tr>\n",
       "  </tbody>\n",
       "</table>\n",
       "<p>135 rows × 4 columns</p>\n",
       "</div>"
      ],
      "text/plain": [
       "         date   time     game stadium\n",
       "0    09.01(화)  18:30   한화vs두산      잠실\n",
       "1    09.01(화)  18:30   LGvsSK      문학\n",
       "2    09.01(화)  18:30   롯데vsKT      수원\n",
       "3    09.01(화)  18:30  삼성vsKIA      광주\n",
       "4    09.01(화)  18:30   NCvs키움      고척\n",
       "..        ...    ...      ...     ...\n",
       "130  09.30(수)  14:00   롯데vsLG      잠실\n",
       "131  09.30(수)  14:00   KTvs삼성      대구\n",
       "132  09.30(수)  14:00   SKvsNC      창원\n",
       "133  09.30(수)  14:00  KIAvs키움      고척\n",
       "134  09.30(수)  14:00   두산vs한화      대전\n",
       "\n",
       "[135 rows x 4 columns]"
      ]
     },
     "execution_count": 11,
     "metadata": {},
     "output_type": "execute_result"
    }
   ],
   "source": [
    "schedule_sep"
   ]
  },
  {
   "cell_type": "markdown",
   "metadata": {},
   "source": [
    "**October**"
   ]
  },
  {
   "cell_type": "code",
   "execution_count": 12,
   "metadata": {
    "scrolled": false
   },
   "outputs": [],
   "source": [
    "driver.get('https://www.koreabaseball.com/Schedule/Schedule.aspx')\n",
    "driver.find_element_by_id('ddlMonth').send_keys('10')\n",
    "\n",
    "table = driver.find_element_by_xpath('//*[@id=\"tblSchedule\"]/tbody')\n",
    "schedule = table.text"
   ]
  },
  {
   "cell_type": "code",
   "execution_count": 13,
   "metadata": {},
   "outputs": [],
   "source": [
    "a = []"
   ]
  },
  {
   "cell_type": "code",
   "execution_count": 14,
   "metadata": {},
   "outputs": [],
   "source": [
    "for i in range(len(schedule.split('\\n'))):\n",
    "    if len(schedule.split('\\n')[i].split(' ')) == 5:\n",
    "        a.append(i)"
   ]
  },
  {
   "cell_type": "code",
   "execution_count": 15,
   "metadata": {},
   "outputs": [],
   "source": [
    "b = []"
   ]
  },
  {
   "cell_type": "code",
   "execution_count": 16,
   "metadata": {},
   "outputs": [],
   "source": [
    "for i in range(len(schedule.split('\\n'))):\n",
    "    b.append(schedule.split('\\n')[i].split(' '))"
   ]
  },
  {
   "cell_type": "code",
   "execution_count": 17,
   "metadata": {},
   "outputs": [],
   "source": [
    "for i in a:\n",
    "    del b[i][0]"
   ]
  },
  {
   "cell_type": "code",
   "execution_count": 18,
   "metadata": {},
   "outputs": [],
   "source": [
    "schedule_oct = pd.DataFrame(b).drop([3], axis=1)\n",
    "schedule_oct.columns = ['time', 'game', 'stadium']\n",
    "schedule_oct['date'] = None\n",
    "schedule_oct = schedule_oct[['date', 'time', 'game', 'stadium']]"
   ]
  },
  {
   "cell_type": "code",
   "execution_count": 19,
   "metadata": {},
   "outputs": [],
   "source": [
    "a.append(len(schedule.split('\\n')))"
   ]
  },
  {
   "cell_type": "code",
   "execution_count": 20,
   "metadata": {},
   "outputs": [],
   "source": [
    "for i in range(len(a)-1):\n",
    "    schedule_oct.iloc[a[i]:a[i+1], 0] = schedule.split('\\n')[a[i]].split(' ')[0]"
   ]
  },
  {
   "cell_type": "code",
   "execution_count": 21,
   "metadata": {},
   "outputs": [
    {
     "data": {
      "text/html": [
       "<div>\n",
       "<style scoped>\n",
       "    .dataframe tbody tr th:only-of-type {\n",
       "        vertical-align: middle;\n",
       "    }\n",
       "\n",
       "    .dataframe tbody tr th {\n",
       "        vertical-align: top;\n",
       "    }\n",
       "\n",
       "    .dataframe thead th {\n",
       "        text-align: right;\n",
       "    }\n",
       "</style>\n",
       "<table border=\"1\" class=\"dataframe\">\n",
       "  <thead>\n",
       "    <tr style=\"text-align: right;\">\n",
       "      <th></th>\n",
       "      <th>date</th>\n",
       "      <th>time</th>\n",
       "      <th>game</th>\n",
       "      <th>stadium</th>\n",
       "    </tr>\n",
       "  </thead>\n",
       "  <tbody>\n",
       "    <tr>\n",
       "      <th>0</th>\n",
       "      <td>10.01(목)</td>\n",
       "      <td>14:00</td>\n",
       "      <td>롯데vsLG</td>\n",
       "      <td>잠실</td>\n",
       "    </tr>\n",
       "    <tr>\n",
       "      <th>1</th>\n",
       "      <td>10.01(목)</td>\n",
       "      <td>14:00</td>\n",
       "      <td>KTvs삼성</td>\n",
       "      <td>대구</td>\n",
       "    </tr>\n",
       "    <tr>\n",
       "      <th>2</th>\n",
       "      <td>10.01(목)</td>\n",
       "      <td>14:00</td>\n",
       "      <td>SKvsNC</td>\n",
       "      <td>창원</td>\n",
       "    </tr>\n",
       "    <tr>\n",
       "      <th>3</th>\n",
       "      <td>10.01(목)</td>\n",
       "      <td>14:00</td>\n",
       "      <td>KIAvs키움</td>\n",
       "      <td>고척</td>\n",
       "    </tr>\n",
       "    <tr>\n",
       "      <th>4</th>\n",
       "      <td>10.01(목)</td>\n",
       "      <td>14:00</td>\n",
       "      <td>두산vs한화</td>\n",
       "      <td>대전</td>\n",
       "    </tr>\n",
       "    <tr>\n",
       "      <th>...</th>\n",
       "      <td>...</td>\n",
       "      <td>...</td>\n",
       "      <td>...</td>\n",
       "      <td>...</td>\n",
       "    </tr>\n",
       "    <tr>\n",
       "      <th>79</th>\n",
       "      <td>10.18(일)</td>\n",
       "      <td>14:00</td>\n",
       "      <td>KIAvsLG</td>\n",
       "      <td>잠실</td>\n",
       "    </tr>\n",
       "    <tr>\n",
       "      <th>80</th>\n",
       "      <td>10.18(일)</td>\n",
       "      <td>14:00</td>\n",
       "      <td>KTvsSK</td>\n",
       "      <td>문학</td>\n",
       "    </tr>\n",
       "    <tr>\n",
       "      <th>81</th>\n",
       "      <td>10.18(일)</td>\n",
       "      <td>14:00</td>\n",
       "      <td>롯데vsNC</td>\n",
       "      <td>창원</td>\n",
       "    </tr>\n",
       "    <tr>\n",
       "      <th>82</th>\n",
       "      <td>10.18(일)</td>\n",
       "      <td>14:00</td>\n",
       "      <td>두산vs키움</td>\n",
       "      <td>고척</td>\n",
       "    </tr>\n",
       "    <tr>\n",
       "      <th>83</th>\n",
       "      <td>10.18(일)</td>\n",
       "      <td>14:00</td>\n",
       "      <td>삼성vs한화</td>\n",
       "      <td>대전</td>\n",
       "    </tr>\n",
       "  </tbody>\n",
       "</table>\n",
       "<p>84 rows × 4 columns</p>\n",
       "</div>"
      ],
      "text/plain": [
       "        date   time     game stadium\n",
       "0   10.01(목)  14:00   롯데vsLG      잠실\n",
       "1   10.01(목)  14:00   KTvs삼성      대구\n",
       "2   10.01(목)  14:00   SKvsNC      창원\n",
       "3   10.01(목)  14:00  KIAvs키움      고척\n",
       "4   10.01(목)  14:00   두산vs한화      대전\n",
       "..       ...    ...      ...     ...\n",
       "79  10.18(일)  14:00  KIAvsLG      잠실\n",
       "80  10.18(일)  14:00   KTvsSK      문학\n",
       "81  10.18(일)  14:00   롯데vsNC      창원\n",
       "82  10.18(일)  14:00   두산vs키움      고척\n",
       "83  10.18(일)  14:00   삼성vs한화      대전\n",
       "\n",
       "[84 rows x 4 columns]"
      ]
     },
     "execution_count": 21,
     "metadata": {},
     "output_type": "execute_result"
    }
   ],
   "source": [
    "schedule_oct"
   ]
  },
  {
   "cell_type": "code",
   "execution_count": 22,
   "metadata": {},
   "outputs": [],
   "source": [
    "schedule = pd.concat([schedule_sep, schedule_oct])"
   ]
  },
  {
   "cell_type": "code",
   "execution_count": 23,
   "metadata": {},
   "outputs": [],
   "source": [
    "schedule = schedule.iloc[125:,]\n",
    "schedule = schedule.reset_index(drop=True)"
   ]
  },
  {
   "cell_type": "code",
   "execution_count": 24,
   "metadata": {},
   "outputs": [
    {
     "data": {
      "text/html": [
       "<div>\n",
       "<style scoped>\n",
       "    .dataframe tbody tr th:only-of-type {\n",
       "        vertical-align: middle;\n",
       "    }\n",
       "\n",
       "    .dataframe tbody tr th {\n",
       "        vertical-align: top;\n",
       "    }\n",
       "\n",
       "    .dataframe thead th {\n",
       "        text-align: right;\n",
       "    }\n",
       "</style>\n",
       "<table border=\"1\" class=\"dataframe\">\n",
       "  <thead>\n",
       "    <tr style=\"text-align: right;\">\n",
       "      <th></th>\n",
       "      <th>date</th>\n",
       "      <th>time</th>\n",
       "      <th>game</th>\n",
       "      <th>stadium</th>\n",
       "    </tr>\n",
       "  </thead>\n",
       "  <tbody>\n",
       "    <tr>\n",
       "      <th>0</th>\n",
       "      <td>09.29(화)</td>\n",
       "      <td>18:30</td>\n",
       "      <td>롯데vsLG</td>\n",
       "      <td>잠실</td>\n",
       "    </tr>\n",
       "    <tr>\n",
       "      <th>1</th>\n",
       "      <td>09.29(화)</td>\n",
       "      <td>18:30</td>\n",
       "      <td>KTvs삼성</td>\n",
       "      <td>대구</td>\n",
       "    </tr>\n",
       "    <tr>\n",
       "      <th>2</th>\n",
       "      <td>09.29(화)</td>\n",
       "      <td>18:30</td>\n",
       "      <td>SKvsNC</td>\n",
       "      <td>창원</td>\n",
       "    </tr>\n",
       "    <tr>\n",
       "      <th>3</th>\n",
       "      <td>09.29(화)</td>\n",
       "      <td>18:30</td>\n",
       "      <td>KIAvs키움</td>\n",
       "      <td>고척</td>\n",
       "    </tr>\n",
       "    <tr>\n",
       "      <th>4</th>\n",
       "      <td>09.29(화)</td>\n",
       "      <td>18:30</td>\n",
       "      <td>두산vs한화</td>\n",
       "      <td>대전</td>\n",
       "    </tr>\n",
       "    <tr>\n",
       "      <th>...</th>\n",
       "      <td>...</td>\n",
       "      <td>...</td>\n",
       "      <td>...</td>\n",
       "      <td>...</td>\n",
       "    </tr>\n",
       "    <tr>\n",
       "      <th>89</th>\n",
       "      <td>10.18(일)</td>\n",
       "      <td>14:00</td>\n",
       "      <td>KIAvsLG</td>\n",
       "      <td>잠실</td>\n",
       "    </tr>\n",
       "    <tr>\n",
       "      <th>90</th>\n",
       "      <td>10.18(일)</td>\n",
       "      <td>14:00</td>\n",
       "      <td>KTvsSK</td>\n",
       "      <td>문학</td>\n",
       "    </tr>\n",
       "    <tr>\n",
       "      <th>91</th>\n",
       "      <td>10.18(일)</td>\n",
       "      <td>14:00</td>\n",
       "      <td>롯데vsNC</td>\n",
       "      <td>창원</td>\n",
       "    </tr>\n",
       "    <tr>\n",
       "      <th>92</th>\n",
       "      <td>10.18(일)</td>\n",
       "      <td>14:00</td>\n",
       "      <td>두산vs키움</td>\n",
       "      <td>고척</td>\n",
       "    </tr>\n",
       "    <tr>\n",
       "      <th>93</th>\n",
       "      <td>10.18(일)</td>\n",
       "      <td>14:00</td>\n",
       "      <td>삼성vs한화</td>\n",
       "      <td>대전</td>\n",
       "    </tr>\n",
       "  </tbody>\n",
       "</table>\n",
       "<p>94 rows × 4 columns</p>\n",
       "</div>"
      ],
      "text/plain": [
       "        date   time     game stadium\n",
       "0   09.29(화)  18:30   롯데vsLG      잠실\n",
       "1   09.29(화)  18:30   KTvs삼성      대구\n",
       "2   09.29(화)  18:30   SKvsNC      창원\n",
       "3   09.29(화)  18:30  KIAvs키움      고척\n",
       "4   09.29(화)  18:30   두산vs한화      대전\n",
       "..       ...    ...      ...     ...\n",
       "89  10.18(일)  14:00  KIAvsLG      잠실\n",
       "90  10.18(일)  14:00   KTvsSK      문학\n",
       "91  10.18(일)  14:00   롯데vsNC      창원\n",
       "92  10.18(일)  14:00   두산vs키움      고척\n",
       "93  10.18(일)  14:00   삼성vs한화      대전\n",
       "\n",
       "[94 rows x 4 columns]"
      ]
     },
     "execution_count": 24,
     "metadata": {},
     "output_type": "execute_result"
    }
   ],
   "source": [
    "schedule"
   ]
  },
  {
   "cell_type": "markdown",
   "metadata": {},
   "source": [
    "**Tansform**"
   ]
  },
  {
   "cell_type": "code",
   "execution_count": 25,
   "metadata": {},
   "outputs": [],
   "source": [
    "schedule['T'] = None\n",
    "schedule['B'] = None"
   ]
  },
  {
   "cell_type": "code",
   "execution_count": 26,
   "metadata": {},
   "outputs": [],
   "source": [
    "for i in range(schedule.shape[0]):\n",
    "    schedule.iloc[i, 4] = schedule.iloc[i, 2].split('vs')[0]\n",
    "    schedule.iloc[i, 5] = schedule.iloc[i, 2].split('vs')[1]"
   ]
  },
  {
   "cell_type": "code",
   "execution_count": 27,
   "metadata": {},
   "outputs": [],
   "source": [
    "for i in range(schedule.shape[0]):\n",
    "    schedule.iloc[i, 0] = '2020.' + schedule.iloc[i, 0][:5]\n",
    "    schedule.iloc[i, 0] = schedule.iloc[i, 0].replace('.', '')"
   ]
  },
  {
   "cell_type": "code",
   "execution_count": 28,
   "metadata": {},
   "outputs": [],
   "source": [
    "name = {'NC':'NC', '두산':'OB', '키움':'WO', 'KIA':'HT', 'LG':'LG',\n",
    "       '삼성':'SS', 'KT':'KT', '롯데':'LT', 'SK':'SK', '한화':'HH'}\n",
    "\n",
    "f = lambda x: name.get(x, x)\n",
    "schedule['T'] = schedule['T'].map(f)\n",
    "schedule['B'] = schedule['B'].map(f)"
   ]
  },
  {
   "cell_type": "code",
   "execution_count": 29,
   "metadata": {},
   "outputs": [],
   "source": [
    "schedule = pd.DataFrame(schedule['date'] + schedule['T'] + schedule['B'], columns=['G_ID'])"
   ]
  },
  {
   "cell_type": "code",
   "execution_count": 30,
   "metadata": {},
   "outputs": [],
   "source": [
    "for i in schedule[schedule.duplicated(['G_ID'], keep=False) == True].index:\n",
    "    schedule.iloc[i, 0] = schedule.iloc[i, 0] + '1'\n",
    "for i in schedule[schedule.duplicated(['G_ID'], keep=False) == False].index:\n",
    "    schedule.iloc[i, 0] = schedule.iloc[i, 0] + '0'"
   ]
  },
  {
   "cell_type": "code",
   "execution_count": 31,
   "metadata": {},
   "outputs": [],
   "source": [
    "schedule['TEAM'] = None\n",
    "schedule['TB_SC'] = None"
   ]
  },
  {
   "cell_type": "code",
   "execution_count": 32,
   "metadata": {},
   "outputs": [],
   "source": [
    "schedule_B = schedule.copy()"
   ]
  },
  {
   "cell_type": "code",
   "execution_count": 33,
   "metadata": {},
   "outputs": [],
   "source": [
    "for i in range(schedule.shape[0]):\n",
    "    schedule.iloc[i, 1] = schedule.iloc[i, 0][8:10]\n",
    "    schedule.iloc[i, 2] = 'T'\n",
    "for i in range(schedule_B.shape[0]):\n",
    "    schedule_B.iloc[i, 1] = schedule_B.iloc[i, 0][10:12]\n",
    "    schedule_B.iloc[i, 2] = 'B'"
   ]
  },
  {
   "cell_type": "code",
   "execution_count": 34,
   "metadata": {},
   "outputs": [],
   "source": [
    "schedule = pd.concat([schedule, schedule_B]).reset_index(drop=True)"
   ]
  },
  {
   "cell_type": "code",
   "execution_count": 35,
   "metadata": {},
   "outputs": [
    {
     "data": {
      "text/html": [
       "<div>\n",
       "<style scoped>\n",
       "    .dataframe tbody tr th:only-of-type {\n",
       "        vertical-align: middle;\n",
       "    }\n",
       "\n",
       "    .dataframe tbody tr th {\n",
       "        vertical-align: top;\n",
       "    }\n",
       "\n",
       "    .dataframe thead th {\n",
       "        text-align: right;\n",
       "    }\n",
       "</style>\n",
       "<table border=\"1\" class=\"dataframe\">\n",
       "  <thead>\n",
       "    <tr style=\"text-align: right;\">\n",
       "      <th></th>\n",
       "      <th>G_ID</th>\n",
       "      <th>TEAM</th>\n",
       "      <th>TB_SC</th>\n",
       "    </tr>\n",
       "  </thead>\n",
       "  <tbody>\n",
       "    <tr>\n",
       "      <th>0</th>\n",
       "      <td>20200929LTLG0</td>\n",
       "      <td>LT</td>\n",
       "      <td>T</td>\n",
       "    </tr>\n",
       "    <tr>\n",
       "      <th>1</th>\n",
       "      <td>20200929KTSS0</td>\n",
       "      <td>KT</td>\n",
       "      <td>T</td>\n",
       "    </tr>\n",
       "    <tr>\n",
       "      <th>2</th>\n",
       "      <td>20200929SKNC0</td>\n",
       "      <td>SK</td>\n",
       "      <td>T</td>\n",
       "    </tr>\n",
       "    <tr>\n",
       "      <th>3</th>\n",
       "      <td>20200929HTWO0</td>\n",
       "      <td>HT</td>\n",
       "      <td>T</td>\n",
       "    </tr>\n",
       "    <tr>\n",
       "      <th>4</th>\n",
       "      <td>20200929OBHH0</td>\n",
       "      <td>OB</td>\n",
       "      <td>T</td>\n",
       "    </tr>\n",
       "    <tr>\n",
       "      <th>...</th>\n",
       "      <td>...</td>\n",
       "      <td>...</td>\n",
       "      <td>...</td>\n",
       "    </tr>\n",
       "    <tr>\n",
       "      <th>183</th>\n",
       "      <td>20201018HTLG0</td>\n",
       "      <td>LG</td>\n",
       "      <td>B</td>\n",
       "    </tr>\n",
       "    <tr>\n",
       "      <th>184</th>\n",
       "      <td>20201018KTSK0</td>\n",
       "      <td>SK</td>\n",
       "      <td>B</td>\n",
       "    </tr>\n",
       "    <tr>\n",
       "      <th>185</th>\n",
       "      <td>20201018LTNC0</td>\n",
       "      <td>NC</td>\n",
       "      <td>B</td>\n",
       "    </tr>\n",
       "    <tr>\n",
       "      <th>186</th>\n",
       "      <td>20201018OBWO0</td>\n",
       "      <td>WO</td>\n",
       "      <td>B</td>\n",
       "    </tr>\n",
       "    <tr>\n",
       "      <th>187</th>\n",
       "      <td>20201018SSHH0</td>\n",
       "      <td>HH</td>\n",
       "      <td>B</td>\n",
       "    </tr>\n",
       "  </tbody>\n",
       "</table>\n",
       "<p>188 rows × 3 columns</p>\n",
       "</div>"
      ],
      "text/plain": [
       "              G_ID TEAM TB_SC\n",
       "0    20200929LTLG0   LT     T\n",
       "1    20200929KTSS0   KT     T\n",
       "2    20200929SKNC0   SK     T\n",
       "3    20200929HTWO0   HT     T\n",
       "4    20200929OBHH0   OB     T\n",
       "..             ...  ...   ...\n",
       "183  20201018HTLG0   LG     B\n",
       "184  20201018KTSK0   SK     B\n",
       "185  20201018LTNC0   NC     B\n",
       "186  20201018OBWO0   WO     B\n",
       "187  20201018SSHH0   HH     B\n",
       "\n",
       "[188 rows x 3 columns]"
      ]
     },
     "execution_count": 35,
     "metadata": {},
     "output_type": "execute_result"
    }
   ],
   "source": [
    "schedule"
   ]
  },
  {
   "cell_type": "code",
   "execution_count": 36,
   "metadata": {},
   "outputs": [],
   "source": [
    "schedule.to_csv('schedule.csv', index=False)"
   ]
  }
 ],
 "metadata": {
  "kernelspec": {
   "display_name": "Python 3",
   "language": "python",
   "name": "python3"
  },
  "language_info": {
   "codemirror_mode": {
    "name": "ipython",
    "version": 3
   },
   "file_extension": ".py",
   "mimetype": "text/x-python",
   "name": "python",
   "nbconvert_exporter": "python",
   "pygments_lexer": "ipython3",
   "version": "3.8.2"
  }
 },
 "nbformat": 4,
 "nbformat_minor": 4
}
