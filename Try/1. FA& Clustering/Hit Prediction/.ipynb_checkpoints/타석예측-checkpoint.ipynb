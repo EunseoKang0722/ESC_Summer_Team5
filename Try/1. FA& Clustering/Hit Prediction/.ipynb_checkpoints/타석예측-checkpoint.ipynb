{
 "cells": [
  {
   "cell_type": "code",
   "execution_count": 1,
   "metadata": {},
   "outputs": [],
   "source": [
    "import pandas as pd\n",
    "import numpy as np\n",
    "import matplotlib.pyplot as plt\n",
    "import seaborn as sns"
   ]
  },
  {
   "cell_type": "code",
   "execution_count": 2,
   "metadata": {},
   "outputs": [],
   "source": [
    "df_16 = pd.read_csv('hitter_wanted_2016.csv', header=0)\n",
    "df_17 = pd.read_csv('hitter_wanted_2017.csv', header=0)\n",
    "df_18 = pd.read_csv('hitter_wanted_2018.csv', header=0)\n",
    "df_19 = pd.read_csv('hitter_wanted_2019.csv', header=0)\n",
    "df_20 = pd.read_csv('hitter_wanted_2020.csv', header=0)"
   ]
  },
  {
   "cell_type": "code",
   "execution_count": 3,
   "metadata": {},
   "outputs": [],
   "source": [
    "df_16.drop(['Unnamed: 0'], axis=1, inplace=True)\n",
    "df_17.drop(['Unnamed: 0'], axis=1, inplace=True)\n",
    "df_18.drop(['Unnamed: 0'], axis=1, inplace=True)\n",
    "df_19.drop(['Unnamed: 0'], axis=1, inplace=True)\n",
    "df_20.drop(['Unnamed: 0'], axis=1, inplace=True)"
   ]
  },
  {
   "cell_type": "code",
   "execution_count": 4,
   "metadata": {},
   "outputs": [],
   "source": [
    "def preprocessing(data):\n",
    "    data_count = data.groupby('P_ID').count().reset_index()\n",
    "    data_count = data_count[['P_ID', 'PA']]\n",
    "    data = pd.merge(data, data_count, on = ['P_ID'])\n",
    "    data.rename(columns={'PA_x':'PA', 'PA_y':'count'}, inplace=True)\n",
    "    data = data.query('count==1')\n",
    "    return(data)"
   ]
  },
  {
   "cell_type": "code",
   "execution_count": 5,
   "metadata": {},
   "outputs": [],
   "source": [
    "df_16 = preprocessing(df_16)\n",
    "df_17 = preprocessing(df_17)\n",
    "df_18 = preprocessing(df_18)\n",
    "df_19 = preprocessing(df_19)\n",
    "df_20 = preprocessing(df_20)"
   ]
  },
  {
   "cell_type": "code",
   "execution_count": 9,
   "metadata": {},
   "outputs": [],
   "source": [
    "df_16.drop(['PA'],axis=1,inplace=True)"
   ]
  },
  {
   "cell_type": "code",
   "execution_count": 10,
   "metadata": {},
   "outputs": [
    {
     "data": {
      "text/html": [
       "<div>\n",
       "<style scoped>\n",
       "    .dataframe tbody tr th:only-of-type {\n",
       "        vertical-align: middle;\n",
       "    }\n",
       "\n",
       "    .dataframe tbody tr th {\n",
       "        vertical-align: top;\n",
       "    }\n",
       "\n",
       "    .dataframe thead th {\n",
       "        text-align: right;\n",
       "    }\n",
       "</style>\n",
       "<table border=\"1\" class=\"dataframe\">\n",
       "  <thead>\n",
       "    <tr style=\"text-align: right;\">\n",
       "      <th></th>\n",
       "      <th>P_ID</th>\n",
       "      <th>T_ID</th>\n",
       "      <th>AVG</th>\n",
       "      <th>IsoP</th>\n",
       "      <th>OPS</th>\n",
       "      <th>XR</th>\n",
       "      <th>BABIP</th>\n",
       "      <th>count</th>\n",
       "    </tr>\n",
       "  </thead>\n",
       "  <tbody>\n",
       "    <tr>\n",
       "      <th>0</th>\n",
       "      <td>60404</td>\n",
       "      <td>HH</td>\n",
       "      <td>0.085859</td>\n",
       "      <td>0.000000</td>\n",
       "      <td>0.194444</td>\n",
       "      <td>0.250582</td>\n",
       "      <td>0.095960</td>\n",
       "      <td>1</td>\n",
       "    </tr>\n",
       "    <tr>\n",
       "      <th>1</th>\n",
       "      <td>61102</td>\n",
       "      <td>LG</td>\n",
       "      <td>0.210500</td>\n",
       "      <td>0.085167</td>\n",
       "      <td>0.575667</td>\n",
       "      <td>0.314046</td>\n",
       "      <td>0.222667</td>\n",
       "      <td>1</td>\n",
       "    </tr>\n",
       "    <tr>\n",
       "      <th>2</th>\n",
       "      <td>61186</td>\n",
       "      <td>LG</td>\n",
       "      <td>0.297087</td>\n",
       "      <td>0.159223</td>\n",
       "      <td>0.823948</td>\n",
       "      <td>0.322928</td>\n",
       "      <td>0.310680</td>\n",
       "      <td>1</td>\n",
       "    </tr>\n",
       "    <tr>\n",
       "      <th>3</th>\n",
       "      <td>62164</td>\n",
       "      <td>LG</td>\n",
       "      <td>0.194940</td>\n",
       "      <td>0.164583</td>\n",
       "      <td>0.714881</td>\n",
       "      <td>0.314821</td>\n",
       "      <td>0.219940</td>\n",
       "      <td>1</td>\n",
       "    </tr>\n",
       "    <tr>\n",
       "      <th>4</th>\n",
       "      <td>62700</td>\n",
       "      <td>HH</td>\n",
       "      <td>0.279565</td>\n",
       "      <td>0.136087</td>\n",
       "      <td>0.746667</td>\n",
       "      <td>0.330335</td>\n",
       "      <td>0.345652</td>\n",
       "      <td>1</td>\n",
       "    </tr>\n",
       "    <tr>\n",
       "      <th>...</th>\n",
       "      <td>...</td>\n",
       "      <td>...</td>\n",
       "      <td>...</td>\n",
       "      <td>...</td>\n",
       "      <td>...</td>\n",
       "      <td>...</td>\n",
       "      <td>...</td>\n",
       "      <td>...</td>\n",
       "    </tr>\n",
       "    <tr>\n",
       "      <th>372</th>\n",
       "      <td>66609</td>\n",
       "      <td>HT</td>\n",
       "      <td>0.000000</td>\n",
       "      <td>0.000000</td>\n",
       "      <td>0.000000</td>\n",
       "      <td>0.257002</td>\n",
       "      <td>0.000000</td>\n",
       "      <td>1</td>\n",
       "    </tr>\n",
       "    <tr>\n",
       "      <th>373</th>\n",
       "      <td>97336</td>\n",
       "      <td>HT</td>\n",
       "      <td>0.000000</td>\n",
       "      <td>0.000000</td>\n",
       "      <td>0.000000</td>\n",
       "      <td>0.257002</td>\n",
       "      <td>0.000000</td>\n",
       "      <td>1</td>\n",
       "    </tr>\n",
       "    <tr>\n",
       "      <th>374</th>\n",
       "      <td>65120</td>\n",
       "      <td>LG</td>\n",
       "      <td>0.000000</td>\n",
       "      <td>0.000000</td>\n",
       "      <td>0.000000</td>\n",
       "      <td>0.240857</td>\n",
       "      <td>0.000000</td>\n",
       "      <td>1</td>\n",
       "    </tr>\n",
       "    <tr>\n",
       "      <th>375</th>\n",
       "      <td>97109</td>\n",
       "      <td>LG</td>\n",
       "      <td>1.000000</td>\n",
       "      <td>0.000000</td>\n",
       "      <td>2.000000</td>\n",
       "      <td>0.339374</td>\n",
       "      <td>1.000000</td>\n",
       "      <td>1</td>\n",
       "    </tr>\n",
       "    <tr>\n",
       "      <th>376</th>\n",
       "      <td>66469</td>\n",
       "      <td>SS</td>\n",
       "      <td>0.333333</td>\n",
       "      <td>0.000000</td>\n",
       "      <td>0.833333</td>\n",
       "      <td>0.364415</td>\n",
       "      <td>0.500000</td>\n",
       "      <td>1</td>\n",
       "    </tr>\n",
       "  </tbody>\n",
       "</table>\n",
       "<p>377 rows × 8 columns</p>\n",
       "</div>"
      ],
      "text/plain": [
       "      P_ID T_ID       AVG      IsoP       OPS        XR     BABIP  count\n",
       "0    60404   HH  0.085859  0.000000  0.194444  0.250582  0.095960      1\n",
       "1    61102   LG  0.210500  0.085167  0.575667  0.314046  0.222667      1\n",
       "2    61186   LG  0.297087  0.159223  0.823948  0.322928  0.310680      1\n",
       "3    62164   LG  0.194940  0.164583  0.714881  0.314821  0.219940      1\n",
       "4    62700   HH  0.279565  0.136087  0.746667  0.330335  0.345652      1\n",
       "..     ...  ...       ...       ...       ...       ...       ...    ...\n",
       "372  66609   HT  0.000000  0.000000  0.000000  0.257002  0.000000      1\n",
       "373  97336   HT  0.000000  0.000000  0.000000  0.257002  0.000000      1\n",
       "374  65120   LG  0.000000  0.000000  0.000000  0.240857  0.000000      1\n",
       "375  97109   LG  1.000000  0.000000  2.000000  0.339374  1.000000      1\n",
       "376  66469   SS  0.333333  0.000000  0.833333  0.364415  0.500000      1\n",
       "\n",
       "[377 rows x 8 columns]"
      ]
     },
     "execution_count": 10,
     "metadata": {},
     "output_type": "execute_result"
    }
   ],
   "source": [
    "pd.merg"
   ]
  },
  {
   "cell_type": "code",
   "execution_count": 7,
   "metadata": {},
   "outputs": [
    {
     "data": {
      "text/plain": [
       "0      60404\n",
       "1      61102\n",
       "2      61186\n",
       "3      62164\n",
       "4      62700\n",
       "       ...  \n",
       "372    66609\n",
       "373    97336\n",
       "374    65120\n",
       "375    97109\n",
       "376    66469\n",
       "Name: P_ID, Length: 377, dtype: int64"
      ]
     },
     "execution_count": 7,
     "metadata": {},
     "output_type": "execute_result"
    }
   ],
   "source": [
    "df_16['P_ID']"
   ]
  },
  {
   "cell_type": "code",
   "execution_count": 8,
   "metadata": {},
   "outputs": [
    {
     "data": {
      "text/plain": [
       "0      61700\n",
       "1      62234\n",
       "2      62768\n",
       "3      66209\n",
       "4      66244\n",
       "       ...  \n",
       "347    67893\n",
       "348    66162\n",
       "349    60263\n",
       "350    63903\n",
       "351    77452\n",
       "Name: P_ID, Length: 352, dtype: int64"
      ]
     },
     "execution_count": 8,
     "metadata": {},
     "output_type": "execute_result"
    }
   ],
   "source": [
    "df_17['P_ID']"
   ]
  },
  {
   "cell_type": "code",
   "execution_count": null,
   "metadata": {},
   "outputs": [],
   "source": []
  }
 ],
 "metadata": {
  "kernelspec": {
   "display_name": "Python 3",
   "language": "python",
   "name": "python3"
  },
  "language_info": {
   "codemirror_mode": {
    "name": "ipython",
    "version": 3
   },
   "file_extension": ".py",
   "mimetype": "text/x-python",
   "name": "python",
   "nbconvert_exporter": "python",
   "pygments_lexer": "ipython3",
   "version": "3.7.6"
  }
 },
 "nbformat": 4,
 "nbformat_minor": 4
}
