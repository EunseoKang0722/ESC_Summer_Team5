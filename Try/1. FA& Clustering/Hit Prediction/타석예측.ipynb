{
 "cells": [
  {
   "cell_type": "code",
   "execution_count": 1,
   "metadata": {},
   "outputs": [],
   "source": [
    "import pandas as pd\n",
    "import numpy as np\n",
    "import matplotlib.pyplot as plt\n",
    "import seaborn as sns"
   ]
  },
  {
   "cell_type": "code",
   "execution_count": 73,
   "metadata": {},
   "outputs": [],
   "source": [
    "df_16 = pd.read_csv('hitter_wanted_2016.csv', header=0)\n",
    "df_17 = pd.read_csv('hitter_wanted_2017.csv', header=0)\n",
    "df_18 = pd.read_csv('hitter_wanted_2018.csv', header=0)\n",
    "df_19 = pd.read_csv('hitter_wanted_2019.csv', header=0)\n",
    "df_20 = pd.read_csv('hitter_wanted_2020.csv', header=0)"
   ]
  },
  {
   "cell_type": "code",
   "execution_count": 75,
   "metadata": {},
   "outputs": [],
   "source": [
    "df_16.drop(['Unnamed: 0'], axis=1, inplace=True)\n",
    "df_16['year']=2016\n",
    "df_17.drop(['Unnamed: 0'], axis=1, inplace=True)\n",
    "df_17['year']=2017\n",
    "df_18.drop(['Unnamed: 0'], axis=1, inplace=True)\n",
    "df_18['year']=2018\n",
    "df_19.drop(['Unnamed: 0'], axis=1, inplace=True)\n",
    "df_19['year']=2019\n",
    "df_20.drop(['Unnamed: 0'], axis=1, inplace=True)\n",
    "df_20['year']=2020"
   ]
  },
  {
   "cell_type": "code",
   "execution_count": 77,
   "metadata": {},
   "outputs": [],
   "source": [
    "def preprocessing(data):\n",
    "    data_count = data.groupby('P_ID').count().reset_index()\n",
    "    data_count = data_count[['P_ID', 'PA']]\n",
    "    data = pd.merge(data, data_count, on = ['P_ID'])\n",
    "    data.rename(columns={'PA_x':'PA', 'PA_y':'count'}, inplace=True)\n",
    "    data = data.query('count==1')\n",
    "    return(data)"
   ]
  },
  {
   "cell_type": "code",
   "execution_count": 78,
   "metadata": {},
   "outputs": [],
   "source": [
    "df_16 = preprocessing(df_16)\n",
    "df_17 = preprocessing(df_17)\n",
    "df_17_pa = df_17[['P_ID','PA']]\n",
    "df_18 = preprocessing(df_18)\n",
    "df_18_pa = df_18[['P_ID','PA']]\n",
    "df_19 = preprocessing(df_19)\n",
    "df_19_pa = df_19[['P_ID','PA']]\n",
    "df_20 = preprocessing(df_20)\n",
    "df_20_pa = df_20[['P_ID','PA']]"
   ]
  },
  {
   "cell_type": "code",
   "execution_count": 105,
   "metadata": {},
   "outputs": [],
   "source": [
    "def new_pa(data1,data2):  \n",
    "    data1 = data1.drop(['PA'],axis=1)\n",
    "    key = data2[['P_ID','PA']]\n",
    "    data1 = pd.merge(data1,key,on='P_ID')\n",
    "    data1 = data1.query('PA!=0')\n",
    "    return(data1)"
   ]
  },
  {
   "cell_type": "code",
   "execution_count": 106,
   "metadata": {},
   "outputs": [],
   "source": [
    "df_16 = new_pa(df_16,df_17)\n",
    "df_17 = new_pa(df_17,df_18)\n",
    "df_18 = new_pa(df_18,df_19)\n",
    "df_19 = new_pa(df_19,df_20)"
   ]
  },
  {
   "cell_type": "code",
   "execution_count": 107,
   "metadata": {},
   "outputs": [],
   "source": [
    "data1 = pd.concat([df_16,df_17])\n",
    "data2 = pd.concat([df_18,df_19])\n",
    "df = pd.concat([data1,data2])"
   ]
  },
  {
   "cell_type": "code",
   "execution_count": 108,
   "metadata": {},
   "outputs": [],
   "source": [
    "df = df.query('PA>=30')"
   ]
  },
  {
   "cell_type": "code",
   "execution_count": 109,
   "metadata": {},
   "outputs": [],
   "source": [
    "from sklearn.ensemble import RandomForestRegressor"
   ]
  },
  {
   "cell_type": "code",
   "execution_count": 110,
   "metadata": {},
   "outputs": [],
   "source": [
    "idx_2019 = np.where(df['year']==2019)\n",
    "idx_201x = np.where(df['year']!=2019)\n",
    "\n",
    "x = df.drop(['P_ID','T_ID','count','PA'],axis=1)\n",
    "y = df['PA']\n",
    "x_train = x.iloc[idx_201x]\n",
    "y_train = y.iloc[idx_201x]\n",
    "x_test = x.iloc[idx_2019]\n",
    "y_test = y.iloc[idx_2019]"
   ]
  },
  {
   "cell_type": "code",
   "execution_count": 111,
   "metadata": {},
   "outputs": [
    {
     "data": {
      "text/plain": [
       "RandomForestRegressor(bootstrap=True, ccp_alpha=0.0, criterion='mse',\n",
       "                      max_depth=None, max_features='auto', max_leaf_nodes=None,\n",
       "                      max_samples=None, min_impurity_decrease=0.0,\n",
       "                      min_impurity_split=None, min_samples_leaf=1,\n",
       "                      min_samples_split=2, min_weight_fraction_leaf=0.0,\n",
       "                      n_estimators=100, n_jobs=None, oob_score=False,\n",
       "                      random_state=None, verbose=0, warm_start=False)"
      ]
     },
     "execution_count": 111,
     "metadata": {},
     "output_type": "execute_result"
    }
   ],
   "source": [
    "forest = RandomForestRegressor(n_estimators=100)\n",
    "forest.fit(x_train,y_train)"
   ]
  },
  {
   "cell_type": "code",
   "execution_count": 112,
   "metadata": {},
   "outputs": [
    {
     "data": {
      "text/plain": [
       "9446.089647972973"
      ]
     },
     "execution_count": 112,
     "metadata": {},
     "output_type": "execute_result"
    }
   ],
   "source": [
    "y_pred = forest.predict(x_test)\n",
    "\n",
    "from sklearn.metrics import mean_squared_error\n",
    "mse_test = mean_squared_error(y_test, y_pred)\n",
    "mse_test"
   ]
  },
  {
   "cell_type": "code",
   "execution_count": 113,
   "metadata": {},
   "outputs": [
    {
     "data": {
      "text/plain": [
       "array([155.55, 133.66,  82.55, 122.4 , 109.87, 128.71, 121.76, 152.87,\n",
       "        82.48, 147.99, 126.19, 101.63,  89.99, 112.61,  84.33, 115.87,\n",
       "       126.52, 136.76, 149.53, 149.73,  93.36, 141.63, 129.4 , 100.85,\n",
       "       107.36,  94.73, 168.24, 138.06, 148.57,  76.92,  90.41, 102.65,\n",
       "        73.28, 201.05, 123.23, 169.79,  89.22, 164.81, 106.58, 131.71,\n",
       "        78.29,  91.44,  88.27, 127.3 , 160.76, 111.55, 149.61, 116.4 ,\n",
       "       119.94, 104.41, 163.59, 127.26,  92.35, 153.96, 145.91, 164.66,\n",
       "       131.57, 148.17, 119.67, 134.86, 136.45, 155.64,  91.99,  83.4 ,\n",
       "       133.29, 117.17, 146.36,  86.2 , 159.68, 137.11,  85.95, 146.74,\n",
       "       130.82, 131.56, 124.72, 109.88, 120.11,  96.72, 136.44, 147.13,\n",
       "       119.57, 129.47,  79.93, 145.61, 116.93, 177.47, 113.56, 173.06,\n",
       "       117.27, 130.38, 105.83, 133.19,  95.8 , 189.03, 132.84, 110.42,\n",
       "       126.05, 151.24, 144.27, 123.62, 165.6 , 137.47, 113.58, 121.8 ,\n",
       "        81.4 , 191.61,  99.65, 193.88, 157.54, 119.03, 218.69, 146.11,\n",
       "       166.75, 137.67, 126.67, 149.99,  92.13, 142.97, 129.3 , 133.93,\n",
       "       174.22, 164.23, 169.59, 105.88, 188.37, 115.34, 184.15, 123.14,\n",
       "       120.03, 147.7 ,  94.28,  72.35, 186.69, 190.69, 184.82, 128.78,\n",
       "       160.23, 160.31, 108.1 , 142.74, 195.39,  81.98, 109.97, 100.28,\n",
       "       151.78, 157.51, 120.1 ,  55.27])"
      ]
     },
     "execution_count": 113,
     "metadata": {},
     "output_type": "execute_result"
    }
   ],
   "source": [
    "y_pred"
   ]
  },
  {
   "cell_type": "code",
   "execution_count": 114,
   "metadata": {},
   "outputs": [
    {
     "data": {
      "text/plain": [
       "1      205\n",
       "2       84\n",
       "4      134\n",
       "5      247\n",
       "6      299\n",
       "      ... \n",
       "175    112\n",
       "176     92\n",
       "180     87\n",
       "181     43\n",
       "183     31\n",
       "Name: PA, Length: 148, dtype: int64"
      ]
     },
     "execution_count": 114,
     "metadata": {},
     "output_type": "execute_result"
    }
   ],
   "source": [
    "y_test"
   ]
  },
  {
   "cell_type": "code",
   "execution_count": 7,
   "metadata": {},
   "outputs": [
    {
     "data": {
      "text/plain": [
       "0      60404\n",
       "1      61102\n",
       "2      61186\n",
       "3      62164\n",
       "4      62700\n",
       "       ...  \n",
       "372    66609\n",
       "373    97336\n",
       "374    65120\n",
       "375    97109\n",
       "376    66469\n",
       "Name: P_ID, Length: 377, dtype: int64"
      ]
     },
     "execution_count": 7,
     "metadata": {},
     "output_type": "execute_result"
    }
   ],
   "source": [
    "df_16['P_ID']"
   ]
  },
  {
   "cell_type": "code",
   "execution_count": 8,
   "metadata": {},
   "outputs": [
    {
     "data": {
      "text/plain": [
       "0      61700\n",
       "1      62234\n",
       "2      62768\n",
       "3      66209\n",
       "4      66244\n",
       "       ...  \n",
       "347    67893\n",
       "348    66162\n",
       "349    60263\n",
       "350    63903\n",
       "351    77452\n",
       "Name: P_ID, Length: 352, dtype: int64"
      ]
     },
     "execution_count": 8,
     "metadata": {},
     "output_type": "execute_result"
    }
   ],
   "source": [
    "df_17['P_ID']"
   ]
  },
  {
   "cell_type": "code",
   "execution_count": null,
   "metadata": {},
   "outputs": [],
   "source": []
  }
 ],
 "metadata": {
  "kernelspec": {
   "display_name": "Python 3",
   "language": "python",
   "name": "python3"
  },
  "language_info": {
   "codemirror_mode": {
    "name": "ipython",
    "version": 3
   },
   "file_extension": ".py",
   "mimetype": "text/x-python",
   "name": "python",
   "nbconvert_exporter": "python",
   "pygments_lexer": "ipython3",
   "version": "3.7.6"
  }
 },
 "nbformat": 4,
 "nbformat_minor": 4
}
