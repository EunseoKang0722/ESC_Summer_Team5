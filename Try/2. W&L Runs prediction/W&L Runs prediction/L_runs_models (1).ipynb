{
 "cells": [
  {
   "cell_type": "markdown",
   "metadata": {},
   "source": [
    "### 데이터 불러오기"
   ]
  },
  {
   "cell_type": "code",
   "execution_count": 1,
   "metadata": {},
   "outputs": [],
   "source": [
    "import numpy as np\n",
    "import pandas as pd"
   ]
  },
  {
   "cell_type": "code",
   "execution_count": 2,
   "metadata": {},
   "outputs": [],
   "source": [
    "import warnings\n",
    "warnings.filterwarnings('ignore')"
   ]
  },
  {
   "cell_type": "code",
   "execution_count": 3,
   "metadata": {},
   "outputs": [],
   "source": [
    "data=pd.read_csv('L_runs.csv')"
   ]
  },
  {
   "cell_type": "code",
   "execution_count": 4,
   "metadata": {
    "scrolled": true
   },
   "outputs": [
    {
     "data": {
      "text/plain": [
       "Index(['G_ID', 'GDAY_DS', 'T_ID', 'VS_T_ID', 'CG_CK', 'WLS', 'HOLD', 'INN2',\n",
       "       'BF', 'PA', 'AB', 'HIT', 'H1', 'H2', 'H3', 'HR', 'SB', 'CS', 'SH', 'SF',\n",
       "       'BB', 'IB', 'HP', 'KK', 'GD', 'WP', 'BK', 'Pitcher_ERR', 'R', 'ER',\n",
       "       'P_WHIP_RT', 'P2_WHIP_RT', 'CB_WHIP_RT', 'K/BB', 'OOPS', 'WHIP',\n",
       "       'BABIP', 'kFIP', 'HEADER_NO_1', 'HEADER_NO_2', 'TB_SC_T', 'Hitter_ERR'],\n",
       "      dtype='object')"
      ]
     },
     "execution_count": 4,
     "metadata": {},
     "output_type": "execute_result"
    }
   ],
   "source": [
    "data.columns"
   ]
  },
  {
   "cell_type": "code",
   "execution_count": 5,
   "metadata": {},
   "outputs": [],
   "source": [
    "data=data.loc[-data['G_ID'].str.contains('2020')]"
   ]
  },
  {
   "cell_type": "markdown",
   "metadata": {},
   "source": [
    "## **Random Forest**\n",
    "test set을 다르게 정해서 각각의 스코어 살피고 가장 좋은 스코어를 내는 test set 방식을 채택"
   ]
  },
  {
   "cell_type": "markdown",
   "metadata": {},
   "source": [
    "### 1. train/test; 19년도 끝에서 188경기만 test로\n",
    "전체 데이터중 16년~19년 초->train set/ 19년말 188경기-> test set"
   ]
  },
  {
   "cell_type": "code",
   "execution_count": 7,
   "metadata": {},
   "outputs": [],
   "source": [
    "train = data.iloc[:-188]\n",
    "valid = data.iloc[-188:]\n",
    "train=train.drop(['G_ID', 'GDAY_DS', 'T_ID', 'VS_T_ID', 'WLS','ER'],axis=1)\n",
    "valid=valid.drop(['G_ID', 'GDAY_DS', 'T_ID', 'VS_T_ID', 'WLS','ER'],axis=1)"
   ]
  },
  {
   "cell_type": "code",
   "execution_count": 9,
   "metadata": {},
   "outputs": [],
   "source": [
    "X_train=train.drop(['R'],axis=1)\n",
    "X_test= valid.drop(['R'],axis=1)\n",
    "y_train=train[['R']]\n",
    "y_test= valid[['R']]"
   ]
  },
  {
   "cell_type": "code",
   "execution_count": 10,
   "metadata": {},
   "outputs": [
    {
     "data": {
      "text/plain": [
       "(188, 1)"
      ]
     },
     "execution_count": 10,
     "metadata": {},
     "output_type": "execute_result"
    }
   ],
   "source": [
    "y_test.shape"
   ]
  },
  {
   "cell_type": "code",
   "execution_count": 11,
   "metadata": {},
   "outputs": [],
   "source": [
    "import matplotlib.pyplot as plt\n",
    "import seaborn as sns\n",
    "\n",
    "from sklearn.tree import DecisionTreeClassifier\n",
    "from sklearn.ensemble import RandomForestClassifier\n",
    "from sklearn.ensemble import RandomForestRegressor\n",
    "from sklearn.model_selection import train_test_split\n",
    "from sklearn.metrics import accuracy_score\n",
    "from sklearn.metrics import mean_squared_error\n",
    "from sklearn import metrics"
   ]
  },
  {
   "cell_type": "code",
   "execution_count": 12,
   "metadata": {},
   "outputs": [
    {
     "data": {
      "text/plain": [
       "RandomForestRegressor(bootstrap=True, ccp_alpha=0.0, criterion='mse',\n",
       "                      max_depth=None, max_features='auto', max_leaf_nodes=None,\n",
       "                      max_samples=None, min_impurity_decrease=0.0,\n",
       "                      min_impurity_split=None, min_samples_leaf=1,\n",
       "                      min_samples_split=2, min_weight_fraction_leaf=0.0,\n",
       "                      n_estimators=100, n_jobs=None, oob_score=False,\n",
       "                      random_state=0, verbose=0, warm_start=False)"
      ]
     },
     "execution_count": 12,
     "metadata": {},
     "output_type": "execute_result"
    }
   ],
   "source": [
    "rf = RandomForestRegressor(random_state=0)\n",
    "rf.fit(X_train, y_train)"
   ]
  },
  {
   "cell_type": "code",
   "execution_count": 13,
   "metadata": {},
   "outputs": [
    {
     "name": "stdout",
     "output_type": "stream",
     "text": [
      "0.9800531863494186\n",
      "0.8643697316631911\n"
     ]
    }
   ],
   "source": [
    "pred= rf.predict(X_test)\n",
    "print(rf.score(X_train, y_train))\n",
    "print(rf.score(X_test, y_test))"
   ]
  },
  {
   "cell_type": "markdown",
   "metadata": {},
   "source": [
    "그리드서치...?"
   ]
  },
  {
   "cell_type": "code",
   "execution_count": 14,
   "metadata": {},
   "outputs": [],
   "source": [
    "from sklearn.model_selection import GridSearchCV"
   ]
  },
  {
   "cell_type": "code",
   "execution_count": 15,
   "metadata": {},
   "outputs": [
    {
     "name": "stdout",
     "output_type": "stream",
     "text": [
      "Best score: 0.86\n",
      "Best parameters: {'n_estimators': 200, 'max_depth': None, 'min_samples_split': 0.01, 'max_features': 'auto'}\n"
     ]
    }
   ],
   "source": [
    "best_score=0\n",
    "for n_estimator in [100,150,200,250]:\n",
    "    for max_depth in [None,6,9,12]:\n",
    "        for min_samples_split in [0.01, 0.05, 0.1]:\n",
    "            for max_features in ['auto', 'sqrt']:\n",
    "                forest= RandomForestRegressor(n_estimators=n_estimator,\n",
    "                                             max_depth=max_depth,\n",
    "                                             min_samples_split= min_samples_split,\n",
    "                                             max_features=max_features)\n",
    "                forest.fit(X_train, y_train)\n",
    "                score=forest.score(X_test, y_test)\n",
    "                \n",
    "                if score > best_score:\n",
    "                    best_score = score\n",
    "                    best_parameters = {'n_estimators':n_estimator, 'max_depth' : max_depth,\n",
    "                                        'min_samples_split' : min_samples_split,\n",
    "                                        'max_features':max_features}\n",
    "                    \n",
    "print(\"Best score: {:.2f}\".format(best_score))\n",
    "print(\"Best parameters: {}\".format(best_parameters))"
   ]
  },
  {
   "cell_type": "markdown",
   "metadata": {},
   "source": [
    "### 2. '16~'19 매년 끝 188개를 test로"
   ]
  },
  {
   "cell_type": "code",
   "execution_count": 16,
   "metadata": {},
   "outputs": [
    {
     "data": {
      "text/html": [
       "<div>\n",
       "<style scoped>\n",
       "    .dataframe tbody tr th:only-of-type {\n",
       "        vertical-align: middle;\n",
       "    }\n",
       "\n",
       "    .dataframe tbody tr th {\n",
       "        vertical-align: top;\n",
       "    }\n",
       "\n",
       "    .dataframe thead th {\n",
       "        text-align: right;\n",
       "    }\n",
       "</style>\n",
       "<table border=\"1\" class=\"dataframe\">\n",
       "  <thead>\n",
       "    <tr style=\"text-align: right;\">\n",
       "      <th></th>\n",
       "      <th>G_ID</th>\n",
       "      <th>GDAY_DS</th>\n",
       "      <th>T_ID</th>\n",
       "      <th>VS_T_ID</th>\n",
       "      <th>CG_CK</th>\n",
       "      <th>WLS</th>\n",
       "      <th>HOLD</th>\n",
       "      <th>INN2</th>\n",
       "      <th>BF</th>\n",
       "      <th>PA</th>\n",
       "      <th>...</th>\n",
       "      <th>CB_WHIP_RT</th>\n",
       "      <th>K/BB</th>\n",
       "      <th>OOPS</th>\n",
       "      <th>WHIP</th>\n",
       "      <th>BABIP</th>\n",
       "      <th>kFIP</th>\n",
       "      <th>HEADER_NO_1</th>\n",
       "      <th>HEADER_NO_2</th>\n",
       "      <th>TB_SC_T</th>\n",
       "      <th>Hitter_ERR</th>\n",
       "    </tr>\n",
       "  </thead>\n",
       "  <tbody>\n",
       "    <tr>\n",
       "      <th>0</th>\n",
       "      <td>20160401HHLG0</td>\n",
       "      <td>20160401</td>\n",
       "      <td>LG</td>\n",
       "      <td>HH</td>\n",
       "      <td>0</td>\n",
       "      <td>W</td>\n",
       "      <td>0</td>\n",
       "      <td>36</td>\n",
       "      <td>184</td>\n",
       "      <td>0.729167</td>\n",
       "      <td>...</td>\n",
       "      <td>0.200000</td>\n",
       "      <td>0.238095</td>\n",
       "      <td>0.652618</td>\n",
       "      <td>0.295302</td>\n",
       "      <td>0.361111</td>\n",
       "      <td>0.100408</td>\n",
       "      <td>0</td>\n",
       "      <td>0</td>\n",
       "      <td>0</td>\n",
       "      <td>0.0</td>\n",
       "    </tr>\n",
       "    <tr>\n",
       "      <th>1</th>\n",
       "      <td>20160401HHLG0</td>\n",
       "      <td>20160401</td>\n",
       "      <td>HH</td>\n",
       "      <td>LG</td>\n",
       "      <td>0</td>\n",
       "      <td>L</td>\n",
       "      <td>0</td>\n",
       "      <td>34</td>\n",
       "      <td>196</td>\n",
       "      <td>0.625000</td>\n",
       "      <td>...</td>\n",
       "      <td>0.062500</td>\n",
       "      <td>0.196429</td>\n",
       "      <td>0.615942</td>\n",
       "      <td>0.250296</td>\n",
       "      <td>0.266667</td>\n",
       "      <td>0.186543</td>\n",
       "      <td>0</td>\n",
       "      <td>0</td>\n",
       "      <td>1</td>\n",
       "      <td>0.4</td>\n",
       "    </tr>\n",
       "    <tr>\n",
       "      <th>2</th>\n",
       "      <td>20160401HTNC0</td>\n",
       "      <td>20160401</td>\n",
       "      <td>NC</td>\n",
       "      <td>HT</td>\n",
       "      <td>0</td>\n",
       "      <td>W</td>\n",
       "      <td>0</td>\n",
       "      <td>27</td>\n",
       "      <td>143</td>\n",
       "      <td>0.437500</td>\n",
       "      <td>...</td>\n",
       "      <td>0.178571</td>\n",
       "      <td>0.238095</td>\n",
       "      <td>0.727554</td>\n",
       "      <td>0.268456</td>\n",
       "      <td>0.304348</td>\n",
       "      <td>0.214354</td>\n",
       "      <td>0</td>\n",
       "      <td>0</td>\n",
       "      <td>0</td>\n",
       "      <td>0.2</td>\n",
       "    </tr>\n",
       "    <tr>\n",
       "      <th>3</th>\n",
       "      <td>20160401HTNC0</td>\n",
       "      <td>20160401</td>\n",
       "      <td>HT</td>\n",
       "      <td>NC</td>\n",
       "      <td>0</td>\n",
       "      <td>L</td>\n",
       "      <td>0</td>\n",
       "      <td>24</td>\n",
       "      <td>147</td>\n",
       "      <td>0.395833</td>\n",
       "      <td>...</td>\n",
       "      <td>0.156250</td>\n",
       "      <td>0.128571</td>\n",
       "      <td>0.966667</td>\n",
       "      <td>0.395973</td>\n",
       "      <td>0.368421</td>\n",
       "      <td>0.365714</td>\n",
       "      <td>0</td>\n",
       "      <td>0</td>\n",
       "      <td>1</td>\n",
       "      <td>0.0</td>\n",
       "    </tr>\n",
       "    <tr>\n",
       "      <th>4</th>\n",
       "      <td>20160401KTSK0</td>\n",
       "      <td>20160401</td>\n",
       "      <td>SK</td>\n",
       "      <td>KT</td>\n",
       "      <td>0</td>\n",
       "      <td>L</td>\n",
       "      <td>0</td>\n",
       "      <td>27</td>\n",
       "      <td>151</td>\n",
       "      <td>0.520833</td>\n",
       "      <td>...</td>\n",
       "      <td>0.187500</td>\n",
       "      <td>0.125000</td>\n",
       "      <td>0.853175</td>\n",
       "      <td>0.375839</td>\n",
       "      <td>0.321429</td>\n",
       "      <td>0.350408</td>\n",
       "      <td>0</td>\n",
       "      <td>0</td>\n",
       "      <td>0</td>\n",
       "      <td>0.2</td>\n",
       "    </tr>\n",
       "  </tbody>\n",
       "</table>\n",
       "<p>5 rows × 42 columns</p>\n",
       "</div>"
      ],
      "text/plain": [
       "            G_ID   GDAY_DS T_ID VS_T_ID  CG_CK WLS  HOLD  INN2   BF        PA  \\\n",
       "0  20160401HHLG0  20160401   LG      HH      0   W     0    36  184  0.729167   \n",
       "1  20160401HHLG0  20160401   HH      LG      0   L     0    34  196  0.625000   \n",
       "2  20160401HTNC0  20160401   NC      HT      0   W     0    27  143  0.437500   \n",
       "3  20160401HTNC0  20160401   HT      NC      0   L     0    24  147  0.395833   \n",
       "4  20160401KTSK0  20160401   SK      KT      0   L     0    27  151  0.520833   \n",
       "\n",
       "   ...  CB_WHIP_RT      K/BB      OOPS      WHIP     BABIP      kFIP  \\\n",
       "0  ...    0.200000  0.238095  0.652618  0.295302  0.361111  0.100408   \n",
       "1  ...    0.062500  0.196429  0.615942  0.250296  0.266667  0.186543   \n",
       "2  ...    0.178571  0.238095  0.727554  0.268456  0.304348  0.214354   \n",
       "3  ...    0.156250  0.128571  0.966667  0.395973  0.368421  0.365714   \n",
       "4  ...    0.187500  0.125000  0.853175  0.375839  0.321429  0.350408   \n",
       "\n",
       "   HEADER_NO_1  HEADER_NO_2  TB_SC_T  Hitter_ERR  \n",
       "0            0            0        0         0.0  \n",
       "1            0            0        1         0.4  \n",
       "2            0            0        0         0.2  \n",
       "3            0            0        1         0.0  \n",
       "4            0            0        0         0.2  \n",
       "\n",
       "[5 rows x 42 columns]"
      ]
     },
     "execution_count": 16,
     "metadata": {},
     "output_type": "execute_result"
    }
   ],
   "source": [
    "data.head()"
   ]
  },
  {
   "cell_type": "code",
   "execution_count": 18,
   "metadata": {},
   "outputs": [],
   "source": [
    "data2016 =data.loc[data['G_ID'].str.contains('2016')]\n",
    "train2016 = data2016.iloc[:-188]\n",
    "valid2016 = data2016.iloc[-188:]\n",
    "\n",
    "data2017 =data.loc[data['G_ID'].str.contains('2017')]\n",
    "train2017 = data2017.iloc[:-188]\n",
    "valid2017 = data2017.iloc[-188:]\n",
    "\n",
    "data2018 =data.loc[data['G_ID'].str.contains('2018')]\n",
    "train2018 = data2018.iloc[:-188]\n",
    "valid2018 = data2018.iloc[-188:]\n",
    "\n",
    "data2019 =data.loc[data['G_ID'].str.contains('2019')]\n",
    "train2019 = data2019.iloc[:-188]\n",
    "valid2019 = data2019.iloc[-188:]\n",
    "\n",
    "train=pd.concat([train2016,train2017,train2018, train2019],axis=0)\n",
    "valid=pd.concat([valid2016,valid2017, valid2018, valid2019],axis=0)"
   ]
  },
  {
   "cell_type": "code",
   "execution_count": 20,
   "metadata": {},
   "outputs": [],
   "source": [
    "train=train.drop(['G_ID', 'GDAY_DS', 'T_ID', 'VS_T_ID', 'WLS','ER'],axis=1)\n",
    "valid=valid.drop(['G_ID', 'GDAY_DS', 'T_ID', 'VS_T_ID', 'WLS','ER'],axis=1)"
   ]
  },
  {
   "cell_type": "code",
   "execution_count": 21,
   "metadata": {},
   "outputs": [],
   "source": [
    "X_train=train.drop(['R'],axis=1)\n",
    "X_test= valid.drop(['R'],axis=1)\n",
    "y_train=train[['R']]\n",
    "y_test= valid[['R']]"
   ]
  },
  {
   "cell_type": "code",
   "execution_count": 22,
   "metadata": {},
   "outputs": [
    {
     "data": {
      "text/plain": [
       "RandomForestRegressor(bootstrap=True, ccp_alpha=0.0, criterion='mse',\n",
       "                      max_depth=None, max_features='auto', max_leaf_nodes=None,\n",
       "                      max_samples=None, min_impurity_decrease=0.0,\n",
       "                      min_impurity_split=None, min_samples_leaf=1,\n",
       "                      min_samples_split=2, min_weight_fraction_leaf=0.0,\n",
       "                      n_estimators=100, n_jobs=None, oob_score=False,\n",
       "                      random_state=0, verbose=0, warm_start=False)"
      ]
     },
     "execution_count": 22,
     "metadata": {},
     "output_type": "execute_result"
    }
   ],
   "source": [
    "rf = RandomForestRegressor(random_state=0)\n",
    "rf.fit(X_train, y_train)"
   ]
  },
  {
   "cell_type": "code",
   "execution_count": 23,
   "metadata": {},
   "outputs": [
    {
     "name": "stdout",
     "output_type": "stream",
     "text": [
      "0.9797112161234798\n",
      "0.8755977248000496\n"
     ]
    }
   ],
   "source": [
    "pred= rf.predict(X_test)\n",
    "print(rf.score(X_train, y_train))\n",
    "print(rf.score(X_test, y_test))"
   ]
  },
  {
   "cell_type": "markdown",
   "metadata": {},
   "source": [
    "그리드 서치"
   ]
  },
  {
   "cell_type": "code",
   "execution_count": 24,
   "metadata": {},
   "outputs": [
    {
     "name": "stdout",
     "output_type": "stream",
     "text": [
      "Best score: 0.87\n",
      "Best parameters: {'n_estimators': 200, 'max_depth': None, 'min_samples_split': 0.01, 'max_features': 'auto'}\n"
     ]
    }
   ],
   "source": [
    "best_score=0\n",
    "for n_estimator in [100,150,200,250]:\n",
    "    for max_depth in [None,6,9,12]:\n",
    "        for min_samples_split in [0.01, 0.05, 0.1]:\n",
    "            for max_features in ['auto', 'sqrt']:\n",
    "                forest= RandomForestRegressor(n_estimators=n_estimator,\n",
    "                                             max_depth=max_depth,\n",
    "                                             min_samples_split= min_samples_split,\n",
    "                                             max_features=max_features)\n",
    "                forest.fit(X_train, y_train)\n",
    "                score=forest.score(X_test, y_test)\n",
    "                \n",
    "                if score > best_score:\n",
    "                    best_score = score\n",
    "                    best_parameters = {'n_estimators':n_estimator, 'max_depth' : max_depth,\n",
    "                                        'min_samples_split' : min_samples_split,\n",
    "                                        'max_features':max_features}\n",
    "                    \n",
    "print(\"Best score: {:.2f}\".format(best_score))\n",
    "print(\"Best parameters: {}\".format(best_parameters))"
   ]
  },
  {
   "cell_type": "markdown",
   "metadata": {},
   "source": [
    "### 3. 16~19년, 연도별로 따로 끝에서 188개 test set으로 만들고, 연도별로 각각 돌려보기 "
   ]
  },
  {
   "cell_type": "code",
   "execution_count": 29,
   "metadata": {},
   "outputs": [],
   "source": [
    "data2016 =data.loc[data['G_ID'].str.contains('2016')]\n",
    "train2016 = data2016.iloc[:-188]\n",
    "valid2016 = data2016.iloc[-188:]\n",
    "\n",
    "data2017 =data.loc[data['G_ID'].str.contains('2017')]\n",
    "train2017 = data2017.iloc[:-188]\n",
    "valid2017 = data2017.iloc[-188:]\n",
    "\n",
    "data2018 =data.loc[data['G_ID'].str.contains('2018')]\n",
    "train2018 = data2018.iloc[:-188]\n",
    "valid2018 = data2018.iloc[-188:]\n",
    "\n",
    "data2019 =data.loc[data['G_ID'].str.contains('2019')]\n",
    "train2019 = data2019.iloc[:-188]\n",
    "valid2019 = data2019.iloc[-188:]"
   ]
  },
  {
   "cell_type": "code",
   "execution_count": 30,
   "metadata": {},
   "outputs": [],
   "source": [
    "train2016=train2016.drop(['G_ID', 'GDAY_DS', 'T_ID', 'VS_T_ID', 'WLS','ER'],axis=1)\n",
    "valid2016=valid2016.drop(['G_ID', 'GDAY_DS', 'T_ID', 'VS_T_ID', 'WLS','ER'],axis=1)\n",
    "\n",
    "train2017=train2017.drop(['G_ID', 'GDAY_DS', 'T_ID', 'VS_T_ID', 'WLS','ER'],axis=1)\n",
    "valid2017=valid2017.drop(['G_ID', 'GDAY_DS', 'T_ID', 'VS_T_ID', 'WLS','ER'],axis=1)\n",
    "\n",
    "train2018=train2018.drop(['G_ID', 'GDAY_DS', 'T_ID', 'VS_T_ID', 'WLS','ER'],axis=1)\n",
    "valid2018=valid2018.drop(['G_ID', 'GDAY_DS', 'T_ID', 'VS_T_ID', 'WLS','ER'],axis=1)\n",
    "\n",
    "train2019=train2019.drop(['G_ID', 'GDAY_DS', 'T_ID', 'VS_T_ID', 'WLS','ER'],axis=1)\n",
    "valid2019=valid2019.drop(['G_ID', 'GDAY_DS', 'T_ID', 'VS_T_ID', 'WLS','ER'],axis=1)"
   ]
  },
  {
   "cell_type": "code",
   "execution_count": 31,
   "metadata": {},
   "outputs": [],
   "source": [
    "X_train2016=train.drop(['R'],axis=1);X_test2016= valid.drop(['R'],axis=1)\n",
    "y_train2016=train[['R']];y_test2016= valid[['R']]\n",
    "X_train2017=train.drop(['R'],axis=1);X_test2017= valid.drop(['R'],axis=1)\n",
    "y_train2017=train[['R']];y_test2017= valid[['R']]\n",
    "X_train2018=train.drop(['R'],axis=1);X_test2018= valid.drop(['R'],axis=1)\n",
    "y_train2018=train[['R']];y_test2018= valid[['R']]\n",
    "X_train2019=train.drop(['R'],axis=1);X_test2019= valid.drop(['R'],axis=1)\n",
    "y_train2019=train[['R']];y_test2019= valid[['R']]"
   ]
  },
  {
   "cell_type": "code",
   "execution_count": 32,
   "metadata": {},
   "outputs": [
    {
     "name": "stdout",
     "output_type": "stream",
     "text": [
      "Best score: 0.87\n",
      "Best parameters: {'n_estimators': 150, 'max_depth': None, 'min_samples_split': 0.01, 'max_features': 'auto'}\n"
     ]
    }
   ],
   "source": [
    "best_score=0\n",
    "for n_estimator in [100,150,200,250]:\n",
    "    for max_depth in [None,6,9,12]:\n",
    "        for min_samples_split in [0.01, 0.05, 0.1]:\n",
    "            for max_features in ['auto', 'sqrt']:\n",
    "                forest= RandomForestRegressor(n_estimators=n_estimator,\n",
    "                                             max_depth=max_depth,\n",
    "                                             min_samples_split= min_samples_split,\n",
    "                                             max_features=max_features)\n",
    "                forest.fit(X_train2016, y_train2016)\n",
    "                score=forest.score(X_test2016, y_test2016)\n",
    "                \n",
    "                if score > best_score:\n",
    "                    best_score = score\n",
    "                    best_parameters = {'n_estimators':n_estimator, 'max_depth' : max_depth,\n",
    "                                        'min_samples_split' : min_samples_split,\n",
    "                                        'max_features':max_features}\n",
    "                    \n",
    "print(\"Best score: {:.2f}\".format(best_score))\n",
    "print(\"Best parameters: {}\".format(best_parameters))"
   ]
  },
  {
   "cell_type": "code",
   "execution_count": 33,
   "metadata": {},
   "outputs": [
    {
     "name": "stdout",
     "output_type": "stream",
     "text": [
      "Best score: 0.87\n",
      "Best parameters: {'n_estimators': 250, 'max_depth': None, 'min_samples_split': 0.01, 'max_features': 'auto'}\n"
     ]
    }
   ],
   "source": [
    "best_score=0\n",
    "for n_estimator in [100,150,200,250]:\n",
    "    for max_depth in [None,6,9,12]:\n",
    "        for min_samples_split in [0.01, 0.05, 0.1]:\n",
    "            for max_features in ['auto', 'sqrt']:\n",
    "                forest= RandomForestRegressor(n_estimators=n_estimator,\n",
    "                                             max_depth=max_depth,\n",
    "                                             min_samples_split= min_samples_split,\n",
    "                                             max_features=max_features)\n",
    "                forest.fit(X_train2017, y_train2017)\n",
    "                score=forest.score(X_test2017, y_test2017)\n",
    "                \n",
    "                if score > best_score:\n",
    "                    best_score = score\n",
    "                    best_parameters = {'n_estimators':n_estimator, 'max_depth' : max_depth,\n",
    "                                        'min_samples_split' : min_samples_split,\n",
    "                                        'max_features':max_features}\n",
    "                    \n",
    "print(\"Best score: {:.2f}\".format(best_score))\n",
    "print(\"Best parameters: {}\".format(best_parameters))"
   ]
  },
  {
   "cell_type": "code",
   "execution_count": 34,
   "metadata": {},
   "outputs": [
    {
     "name": "stdout",
     "output_type": "stream",
     "text": [
      "Best score: 0.87\n",
      "Best parameters: {'n_estimators': 200, 'max_depth': None, 'min_samples_split': 0.01, 'max_features': 'auto'}\n"
     ]
    }
   ],
   "source": [
    "best_score=0\n",
    "for n_estimator in [100,150,200,250]:\n",
    "    for max_depth in [None,6,9,12]:\n",
    "        for min_samples_split in [0.01, 0.05, 0.1]:\n",
    "            for max_features in ['auto', 'sqrt']:\n",
    "                forest= RandomForestRegressor(n_estimators=n_estimator,\n",
    "                                             max_depth=max_depth,\n",
    "                                             min_samples_split= min_samples_split,\n",
    "                                             max_features=max_features)\n",
    "                forest.fit(X_train2018, y_train2018)\n",
    "                score=forest.score(X_test2018, y_test2018)\n",
    "                \n",
    "                if score > best_score:\n",
    "                    best_score = score\n",
    "                    best_parameters = {'n_estimators':n_estimator, 'max_depth' : max_depth,\n",
    "                                        'min_samples_split' : min_samples_split,\n",
    "                                        'max_features':max_features}\n",
    "                    \n",
    "print(\"Best score: {:.2f}\".format(best_score))\n",
    "print(\"Best parameters: {}\".format(best_parameters))"
   ]
  },
  {
   "cell_type": "code",
   "execution_count": 35,
   "metadata": {},
   "outputs": [
    {
     "name": "stdout",
     "output_type": "stream",
     "text": [
      "Best score: 0.87\n",
      "Best parameters: {'n_estimators': 250, 'max_depth': None, 'min_samples_split': 0.01, 'max_features': 'auto'}\n"
     ]
    }
   ],
   "source": [
    "best_score=0\n",
    "for n_estimator in [100,150,200,250]:\n",
    "    for max_depth in [None,6,9,12]:\n",
    "        for min_samples_split in [0.01, 0.05, 0.1]:\n",
    "            for max_features in ['auto', 'sqrt']:\n",
    "                forest= RandomForestRegressor(n_estimators=n_estimator,\n",
    "                                             max_depth=max_depth,\n",
    "                                             min_samples_split= min_samples_split,\n",
    "                                             max_features=max_features)\n",
    "                forest.fit(X_train2019, y_train2019)\n",
    "                score=forest.score(X_test2019, y_test2019)\n",
    "                \n",
    "                if score > best_score:\n",
    "                    best_score = score\n",
    "                    best_parameters = {'n_estimators':n_estimator, 'max_depth' : max_depth,\n",
    "                                        'min_samples_split' : min_samples_split,\n",
    "                                        'max_features':max_features}\n",
    "                    \n",
    "print(\"Best score: {:.2f}\".format(best_score))\n",
    "print(\"Best parameters: {}\".format(best_parameters))"
   ]
  },
  {
   "cell_type": "markdown",
   "metadata": {},
   "source": [
    "생각보다 스코어 차이가 크지 않다, \n",
    "\n",
    "2)번 방식 선택!"
   ]
  },
  {
   "cell_type": "markdown",
   "metadata": {},
   "source": [
    "## XGBoost"
   ]
  },
  {
   "cell_type": "code",
   "execution_count": 36,
   "metadata": {},
   "outputs": [],
   "source": [
    "data2016 =data.loc[data['G_ID'].str.contains('2016')]\n",
    "train2016 = data2016.iloc[:-188]\n",
    "valid2016 = data2016.iloc[-188:]\n",
    "\n",
    "data2017 =data.loc[data['G_ID'].str.contains('2017')]\n",
    "train2017 = data2017.iloc[:-188]\n",
    "valid2017 = data2017.iloc[-188:]\n",
    "\n",
    "data2018 =data.loc[data['G_ID'].str.contains('2018')]\n",
    "train2018 = data2018.iloc[:-188]\n",
    "valid2018 = data2018.iloc[-188:]\n",
    "\n",
    "data2019 =data.loc[data['G_ID'].str.contains('2019')]\n",
    "train2019 = data2019.iloc[:-188]\n",
    "valid2019 = data2019.iloc[-188:]\n",
    "\n",
    "train=pd.concat([train2016,train2017,train2018, train2019],axis=0)\n",
    "valid=pd.concat([valid2016,valid2017, valid2018, valid2019],axis=0)"
   ]
  },
  {
   "cell_type": "code",
   "execution_count": 37,
   "metadata": {},
   "outputs": [],
   "source": [
    "train=train.drop(['G_ID', 'GDAY_DS', 'T_ID', 'VS_T_ID', 'WLS','ER'],axis=1)\n",
    "valid=valid.drop(['G_ID', 'GDAY_DS', 'T_ID', 'VS_T_ID', 'WLS','ER'],axis=1)"
   ]
  },
  {
   "cell_type": "code",
   "execution_count": 38,
   "metadata": {},
   "outputs": [],
   "source": [
    "X_train=train.drop(['R'],axis=1)\n",
    "X_test= valid.drop(['R'],axis=1)\n",
    "y_train=train[['R']]\n",
    "y_test= valid[['R']]"
   ]
  },
  {
   "cell_type": "code",
   "execution_count": 39,
   "metadata": {},
   "outputs": [],
   "source": [
    "from xgboost import XGBRegressor\n",
    "from xgboost import plot_importance\n",
    "import xgboost"
   ]
  },
  {
   "cell_type": "code",
   "execution_count": 40,
   "metadata": {},
   "outputs": [
    {
     "name": "stdout",
     "output_type": "stream",
     "text": [
      "[11:39:56] WARNING: src/objective/regression_obj.cu:152: reg:linear is now deprecated in favor of reg:squarederror.\n"
     ]
    }
   ],
   "source": [
    "xgb=XGBRegressor(n_estimators=500, learning_rate=0.1, max_depth=4)\n",
    "xgb.fit(X_train,y_train)\n",
    "xgb_pred=xgb.predict(X_test)"
   ]
  },
  {
   "cell_type": "code",
   "execution_count": 41,
   "metadata": {},
   "outputs": [
    {
     "data": {
      "text/plain": [
       "<matplotlib.axes._subplots.AxesSubplot at 0x2213eb75c88>"
      ]
     },
     "execution_count": 41,
     "metadata": {},
     "output_type": "execute_result"
    },
    {
     "data": {
      "image/png": "[encoded data removed]",
      "text/plain": [
       "<Figure size 432x288 with 1 Axes>"
      ]
     },
     "metadata": {
      "needs_background": "light"
     },
     "output_type": "display_data"
    }
   ],
   "source": [
    "xgboost.plot_importance(xgb)"
   ]
  },
  {
   "cell_type": "code",
   "execution_count": 42,
   "metadata": {},
   "outputs": [
    {
     "data": {
      "text/plain": [
       "0.9620902675766665"
      ]
     },
     "execution_count": 42,
     "metadata": {},
     "output_type": "execute_result"
    }
   ],
   "source": [
    "xgb.score(X_train, y_train)"
   ]
  },
  {
   "cell_type": "code",
   "execution_count": 43,
   "metadata": {},
   "outputs": [
    {
     "data": {
      "text/plain": [
       "0.8949259891915778"
      ]
     },
     "execution_count": 43,
     "metadata": {},
     "output_type": "execute_result"
    }
   ],
   "source": [
    "xgb.score(X_test, y_test)"
   ]
  },
  {
   "cell_type": "markdown",
   "metadata": {},
   "source": [
    "https://blog.naver.com/PostView.nhn?blogId=gustn3964&logNo=221431714122\n",
    " min_child_weight (클수록 모델이 더 보수적) /\n",
    " max_depth / \n",
    " gamma (클수록 더 보수적) 는 반드시 조정\n",
    " \n",
    "https://xgboost.readthedocs.io/en/latest/parameter.html#parameters-for-tree-booster"
   ]
  },
  {
   "cell_type": "code",
   "execution_count": 48,
   "metadata": {},
   "outputs": [
    {
     "name": "stdout",
     "output_type": "stream",
     "text": [
      "Best score: 0.90\n",
      "Best parameters: {'n_estimators': 400, 'max_depth': 4, 'min_samples_split': 0.1, 'max_features': 'sqrt'}\n"
     ]
    }
   ],
   "source": [
    "best_score=0\n",
    "for n_estimator in [100, 200, 400, 600]:\n",
    "    for learning_rate in [0.01, 0.05, 0.1, 0.15, 0.2]:\n",
    "        for gamma in [0.5, 1, 1.5, 2, 5]:\n",
    "            for max_depth in [1,4,6,9]:\n",
    "                for min_child_weight in [0,1,3,5]:\n",
    "                    xgb= XGBRegressor(n_estimators=n_estimator,\n",
    "                                      learning_rate=learning_rate,           \n",
    "                                      gamma= gamma,\n",
    "                                      max_depth=max_depth,\n",
    "                                      min_child_weight=min_child_weight,objective ='reg:squarederror')\n",
    "                    xgb.fit(X_train, y_train)\n",
    "                    score=xgb.score(X_test, y_test)\n",
    "                \n",
    "                    if score > best_score:\n",
    "                        best_score = score\n",
    "                        best_parameters = {'n_estimators':n_estimator, 'max_depth' : max_depth,\n",
    "                                            'min_samples_split' : min_samples_split,\n",
    "                                            'max_features':max_features}\n",
    "                    \n",
    "print(\"Best score: {:.2f}\".format(best_score))\n",
    "print(\"Best parameters: {}\".format(best_parameters))"
   ]
  },
  {
   "cell_type": "markdown",
   "metadata": {},
   "source": [
    "## lightgbm"
   ]
  },
  {
   "cell_type": "markdown",
   "metadata": {},
   "source": [
    "### 여기부터는 무시하고 뒷부분부터 보시면 됩니다~~"
   ]
  },
  {
   "cell_type": "code",
   "execution_count": 49,
   "metadata": {},
   "outputs": [],
   "source": [
    "import lightgbm as lgb"
   ]
  },
  {
   "cell_type": "code",
   "execution_count": 50,
   "metadata": {},
   "outputs": [],
   "source": [
    "train_ds = lgb.Dataset(X_train, label = y_train) \n",
    "test_ds = lgb.Dataset(X_test, label = y_test) "
   ]
  },
  {
   "cell_type": "code",
   "execution_count": 51,
   "metadata": {},
   "outputs": [],
   "source": [
    "params = {'learning_rate': 0.01, \n",
    "          'max_depth': 16, \n",
    "          'boosting': 'gbdt', \n",
    "          'objective': 'regression', \n",
    "          'metric': 'mse', \n",
    "          'is_training_metric': True, \n",
    "          'num_leaves': 144, \n",
    "          'feature_fraction': 0.9, \n",
    "          'bagging_fraction': 0.7, \n",
    "          'bagging_freq': 5, \n",
    "          'seed':2018}"
   ]
  },
  {
   "cell_type": "code",
   "execution_count": 52,
   "metadata": {},
   "outputs": [
    {
     "name": "stdout",
     "output_type": "stream",
     "text": [
      "Training until validation scores don't improve for 100 rounds\n",
      "[100]\tvalid_0's l2: 3.23387\n",
      "[200]\tvalid_0's l2: 1.72677\n",
      "[300]\tvalid_0's l2: 1.43917\n",
      "[400]\tvalid_0's l2: 1.36614\n",
      "[500]\tvalid_0's l2: 1.34367\n",
      "[600]\tvalid_0's l2: 1.3318\n",
      "[700]\tvalid_0's l2: 1.33442\n",
      "Early stopping, best iteration is:\n",
      "[667]\tvalid_0's l2: 1.32986\n"
     ]
    }
   ],
   "source": [
    "model = lgb.train(params, train_ds, 1000, test_ds, verbose_eval=100, early_stopping_rounds=100)"
   ]
  },
  {
   "cell_type": "code",
   "execution_count": 57,
   "metadata": {},
   "outputs": [],
   "source": [
    "predict_train = model.predict(X_train)\n",
    "predict_test = model.predict(X_test)"
   ]
  },
  {
   "cell_type": "code",
   "execution_count": 59,
   "metadata": {},
   "outputs": [
    {
     "name": "stdout",
     "output_type": "stream",
     "text": [
      "1.3298583099311398\n"
     ]
    }
   ],
   "source": [
    "mse = mean_squared_error(y_test, predict_test) #score가 잘 안구해져서 mse로 구했음\n",
    "print(mse)"
   ]
  },
  {
   "cell_type": "markdown",
   "metadata": {},
   "source": [
    "https://greatjoy.tistory.com/72 하이퍼파라미터 참고"
   ]
  },
  {
   "cell_type": "code",
   "execution_count": 67,
   "metadata": {},
   "outputs": [],
   "source": [
    "from sklearn.metrics import accuracy_score"
   ]
  },
  {
   "cell_type": "code",
   "execution_count": 75,
   "metadata": {},
   "outputs": [
    {
     "name": "stdout",
     "output_type": "stream",
     "text": [
      "Training until validation scores don't improve for 100 rounds\n",
      "[100]\tvalid_0's l2: 3.48129\n",
      "[200]\tvalid_0's l2: 1.88349\n",
      "[300]\tvalid_0's l2: 1.51936\n",
      "[400]\tvalid_0's l2: 1.40401\n",
      "[500]\tvalid_0's l2: 1.36715\n",
      "[600]\tvalid_0's l2: 1.34676\n",
      "[700]\tvalid_0's l2: 1.33441\n",
      "[800]\tvalid_0's l2: 1.32363\n",
      "[900]\tvalid_0's l2: 1.31656\n",
      "[1000]\tvalid_0's l2: 1.31097\n",
      "Did not meet early stopping. Best iteration is:\n",
      "[1000]\tvalid_0's l2: 1.31097\n",
      "Training until validation scores don't improve for 100 rounds\n",
      "[100]\tvalid_0's l2: 3.70521\n",
      "[200]\tvalid_0's l2: 2.04738\n",
      "[300]\tvalid_0's l2: 1.6355\n",
      "[400]\tvalid_0's l2: 1.50333\n",
      "[500]\tvalid_0's l2: 1.4434\n",
      "[600]\tvalid_0's l2: 1.40682\n",
      "[700]\tvalid_0's l2: 1.38556\n",
      "[800]\tvalid_0's l2: 1.36863\n",
      "[900]\tvalid_0's l2: 1.35659\n",
      "[1000]\tvalid_0's l2: 1.34761\n",
      "Did not meet early stopping. Best iteration is:\n",
      "[1000]\tvalid_0's l2: 1.34761\n",
      "Training until validation scores don't improve for 100 rounds\n",
      "[100]\tvalid_0's l2: 3.48057\n",
      "[200]\tvalid_0's l2: 1.89263\n",
      "[300]\tvalid_0's l2: 1.52739\n",
      "[400]\tvalid_0's l2: 1.41823\n",
      "[500]\tvalid_0's l2: 1.38239\n",
      "[600]\tvalid_0's l2: 1.36372\n",
      "[700]\tvalid_0's l2: 1.34801\n",
      "[800]\tvalid_0's l2: 1.33404\n",
      "[900]\tvalid_0's l2: 1.32914\n",
      "[1000]\tvalid_0's l2: 1.32184\n",
      "Did not meet early stopping. Best iteration is:\n",
      "[998]\tvalid_0's l2: 1.32181\n",
      "Training until validation scores don't improve for 100 rounds\n",
      "[100]\tvalid_0's l2: 3.48129\n",
      "[200]\tvalid_0's l2: 1.88416\n",
      "[300]\tvalid_0's l2: 1.51626\n",
      "[400]\tvalid_0's l2: 1.40092\n",
      "[500]\tvalid_0's l2: 1.35953\n",
      "[600]\tvalid_0's l2: 1.33973\n",
      "[700]\tvalid_0's l2: 1.32602\n",
      "[800]\tvalid_0's l2: 1.31471\n",
      "[900]\tvalid_0's l2: 1.30703\n",
      "[1000]\tvalid_0's l2: 1.3031\n",
      "Did not meet early stopping. Best iteration is:\n",
      "[981]\tvalid_0's l2: 1.30265\n",
      "[100]\tvalid_0's l2: 10.7453\n",
      "[200]\tvalid_0's l2: 10.1784\n",
      "[300]\tvalid_0's l2: 7.11506\n",
      "[400]\tvalid_0's l2: 5.07677\n",
      "[500]\tvalid_0's l2: 3.78589\n",
      "[600]\tvalid_0's l2: 3.58245\n",
      "[700]\tvalid_0's l2: 3.04823\n",
      "[800]\tvalid_0's l2: 2.85671\n",
      "[900]\tvalid_0's l2: 2.4568\n",
      "[1000]\tvalid_0's l2: 2.32734\n",
      "[100]\tvalid_0's l2: 10.9567\n",
      "[200]\tvalid_0's l2: 10.4344\n",
      "[300]\tvalid_0's l2: 7.39873\n",
      "[400]\tvalid_0's l2: 5.35251\n",
      "[500]\tvalid_0's l2: 4.02541\n",
      "[600]\tvalid_0's l2: 3.81431\n",
      "[700]\tvalid_0's l2: 3.26289\n",
      "[800]\tvalid_0's l2: 3.05283\n",
      "[900]\tvalid_0's l2: 2.63508\n",
      "[1000]\tvalid_0's l2: 2.48356\n",
      "[100]\tvalid_0's l2: 10.7334\n",
      "[200]\tvalid_0's l2: 10.1882\n",
      "[300]\tvalid_0's l2: 7.12262\n",
      "[400]\tvalid_0's l2: 5.08076\n",
      "[500]\tvalid_0's l2: 3.78667\n",
      "[600]\tvalid_0's l2: 3.58864\n",
      "[700]\tvalid_0's l2: 3.05146\n",
      "[800]\tvalid_0's l2: 2.85888\n",
      "[900]\tvalid_0's l2: 2.46237\n",
      "[1000]\tvalid_0's l2: 2.32266\n",
      "[100]\tvalid_0's l2: 10.7453\n",
      "[200]\tvalid_0's l2: 10.1784\n",
      "[300]\tvalid_0's l2: 7.11506\n",
      "[400]\tvalid_0's l2: 5.07677\n",
      "[500]\tvalid_0's l2: 3.7854\n",
      "[600]\tvalid_0's l2: 3.58576\n",
      "[700]\tvalid_0's l2: 3.05256\n",
      "[800]\tvalid_0's l2: 2.85842\n",
      "[900]\tvalid_0's l2: 2.46296\n",
      "[1000]\tvalid_0's l2: 2.32802\n",
      "Training until validation scores don't improve for 100 rounds\n",
      "[100]\tvalid_0's l2: 1.37551\n",
      "[200]\tvalid_0's l2: 1.317\n",
      "[300]\tvalid_0's l2: 1.32053\n",
      "Early stopping, best iteration is:\n",
      "[229]\tvalid_0's l2: 1.31142\n",
      "Training until validation scores don't improve for 100 rounds\n",
      "[100]\tvalid_0's l2: 1.44059\n",
      "[200]\tvalid_0's l2: 1.34372\n",
      "[300]\tvalid_0's l2: 1.3152\n",
      "[400]\tvalid_0's l2: 1.30731\n",
      "[500]\tvalid_0's l2: 1.30778\n",
      "Early stopping, best iteration is:\n",
      "[457]\tvalid_0's l2: 1.30291\n",
      "Training until validation scores don't improve for 100 rounds\n",
      "[100]\tvalid_0's l2: 1.38926\n",
      "[200]\tvalid_0's l2: 1.32827\n",
      "[300]\tvalid_0's l2: 1.32641\n",
      "Early stopping, best iteration is:\n",
      "[237]\tvalid_0's l2: 1.32116\n",
      "Training until validation scores don't improve for 100 rounds\n",
      "[100]\tvalid_0's l2: 1.37498\n",
      "[200]\tvalid_0's l2: 1.32804\n",
      "Early stopping, best iteration is:\n",
      "[187]\tvalid_0's l2: 1.32539\n",
      "[100]\tvalid_0's l2: 3.21138\n",
      "[200]\tvalid_0's l2: 1.99541\n",
      "[300]\tvalid_0's l2: 1.56389\n",
      "[400]\tvalid_0's l2: 1.39472\n",
      "[500]\tvalid_0's l2: 1.36755\n",
      "[600]\tvalid_0's l2: 1.41346\n",
      "[700]\tvalid_0's l2: 1.36486\n",
      "[800]\tvalid_0's l2: 1.36994\n",
      "[900]\tvalid_0's l2: 1.34485\n",
      "[1000]\tvalid_0's l2: 1.33889\n",
      "[100]\tvalid_0's l2: 3.4052\n",
      "[200]\tvalid_0's l2: 2.13587\n",
      "[300]\tvalid_0's l2: 1.63624\n",
      "[400]\tvalid_0's l2: 1.43485\n",
      "[500]\tvalid_0's l2: 1.37265\n",
      "[600]\tvalid_0's l2: 1.40606\n",
      "[700]\tvalid_0's l2: 1.34415\n",
      "[800]\tvalid_0's l2: 1.34603\n",
      "[900]\tvalid_0's l2: 1.30944\n",
      "[1000]\tvalid_0's l2: 1.30931\n",
      "[100]\tvalid_0's l2: 3.20083\n",
      "[200]\tvalid_0's l2: 2.0043\n",
      "[300]\tvalid_0's l2: 1.57112\n",
      "[400]\tvalid_0's l2: 1.39321\n",
      "[500]\tvalid_0's l2: 1.3563\n",
      "[600]\tvalid_0's l2: 1.40199\n",
      "[700]\tvalid_0's l2: 1.35569\n",
      "[800]\tvalid_0's l2: 1.35716\n",
      "[900]\tvalid_0's l2: 1.33887\n",
      "[1000]\tvalid_0's l2: 1.33847\n",
      "[100]\tvalid_0's l2: 3.2239\n",
      "[200]\tvalid_0's l2: 1.99248\n",
      "[300]\tvalid_0's l2: 1.57271\n",
      "[400]\tvalid_0's l2: 1.40819\n",
      "[500]\tvalid_0's l2: 1.3598\n",
      "[600]\tvalid_0's l2: 1.40445\n",
      "[700]\tvalid_0's l2: 1.36029\n",
      "[800]\tvalid_0's l2: 1.36129\n",
      "[900]\tvalid_0's l2: 1.3336\n",
      "[1000]\tvalid_0's l2: 1.32884\n",
      "Training until validation scores don't improve for 100 rounds\n",
      "[100]\tvalid_0's l2: 1.3148\n",
      "[200]\tvalid_0's l2: 1.32605\n",
      "Early stopping, best iteration is:\n",
      "[102]\tvalid_0's l2: 1.31107\n",
      "Training until validation scores don't improve for 100 rounds\n",
      "[100]\tvalid_0's l2: 1.35359\n",
      "[200]\tvalid_0's l2: 1.32053\n",
      "Early stopping, best iteration is:\n",
      "[166]\tvalid_0's l2: 1.31779\n",
      "Training until validation scores don't improve for 100 rounds\n",
      "[100]\tvalid_0's l2: 1.34653\n",
      "[200]\tvalid_0's l2: 1.34904\n",
      "Early stopping, best iteration is:\n",
      "[157]\tvalid_0's l2: 1.33654\n",
      "Training until validation scores don't improve for 100 rounds\n",
      "[100]\tvalid_0's l2: 1.34371\n",
      "[200]\tvalid_0's l2: 1.3526\n",
      "Early stopping, best iteration is:\n",
      "[115]\tvalid_0's l2: 1.33746\n",
      "[100]\tvalid_0's l2: 1.84553\n",
      "[200]\tvalid_0's l2: 1.4235\n",
      "[300]\tvalid_0's l2: 1.34399\n",
      "[400]\tvalid_0's l2: 1.30451\n",
      "[500]\tvalid_0's l2: 1.31448\n",
      "[600]\tvalid_0's l2: 1.33447\n",
      "[700]\tvalid_0's l2: 1.31151\n",
      "[800]\tvalid_0's l2: 1.31962\n",
      "[900]\tvalid_0's l2: 1.31809\n",
      "[1000]\tvalid_0's l2: 1.32095\n",
      "[100]\tvalid_0's l2: 1.93214\n",
      "[200]\tvalid_0's l2: 1.46742\n",
      "[300]\tvalid_0's l2: 1.34737\n",
      "[400]\tvalid_0's l2: 1.28177\n",
      "[500]\tvalid_0's l2: 1.26905\n",
      "[600]\tvalid_0's l2: 1.29063\n",
      "[700]\tvalid_0's l2: 1.28379\n",
      "[800]\tvalid_0's l2: 1.28981\n",
      "[900]\tvalid_0's l2: 1.30482\n",
      "[1000]\tvalid_0's l2: 1.2963\n",
      "[100]\tvalid_0's l2: 1.83251\n",
      "[200]\tvalid_0's l2: 1.41877\n",
      "[300]\tvalid_0's l2: 1.33363\n",
      "[400]\tvalid_0's l2: 1.29744\n",
      "[500]\tvalid_0's l2: 1.29923\n",
      "[600]\tvalid_0's l2: 1.3181\n",
      "[700]\tvalid_0's l2: 1.28962\n",
      "[800]\tvalid_0's l2: 1.29677\n",
      "[900]\tvalid_0's l2: 1.29807\n",
      "[1000]\tvalid_0's l2: 1.30856\n",
      "[100]\tvalid_0's l2: 1.82291\n",
      "[200]\tvalid_0's l2: 1.43169\n",
      "[300]\tvalid_0's l2: 1.36347\n",
      "[400]\tvalid_0's l2: 1.32182\n",
      "[500]\tvalid_0's l2: 1.33207\n",
      "[600]\tvalid_0's l2: 1.3449\n",
      "[700]\tvalid_0's l2: 1.32037\n",
      "[800]\tvalid_0's l2: 1.33315\n",
      "[900]\tvalid_0's l2: 1.32149\n",
      "[1000]\tvalid_0's l2: 1.32327\n",
      "Training until validation scores don't improve for 100 rounds\n",
      "[100]\tvalid_0's l2: 1.40447\n",
      "Early stopping, best iteration is:\n",
      "[49]\tvalid_0's l2: 1.37575\n",
      "Training until validation scores don't improve for 100 rounds\n",
      "[100]\tvalid_0's l2: 1.33538\n",
      "Early stopping, best iteration is:\n",
      "[99]\tvalid_0's l2: 1.33091\n",
      "Training until validation scores don't improve for 100 rounds\n",
      "[100]\tvalid_0's l2: 1.41037\n",
      "Early stopping, best iteration is:\n",
      "[74]\tvalid_0's l2: 1.39167\n",
      "Training until validation scores don't improve for 100 rounds\n",
      "[100]\tvalid_0's l2: 1.39207\n",
      "Early stopping, best iteration is:\n",
      "[38]\tvalid_0's l2: 1.35761\n",
      "[100]\tvalid_0's l2: 1.36686\n",
      "[200]\tvalid_0's l2: 1.33058\n",
      "[300]\tvalid_0's l2: 1.34368\n",
      "[400]\tvalid_0's l2: 1.33633\n",
      "[500]\tvalid_0's l2: 1.34706\n",
      "[600]\tvalid_0's l2: 1.33534\n",
      "[700]\tvalid_0's l2: 1.33249\n",
      "[800]\tvalid_0's l2: 1.34187\n",
      "[900]\tvalid_0's l2: 1.34363\n",
      "[1000]\tvalid_0's l2: 1.33625\n",
      "[100]\tvalid_0's l2: 1.38996\n",
      "[200]\tvalid_0's l2: 1.29407\n",
      "[300]\tvalid_0's l2: 1.26492\n",
      "[400]\tvalid_0's l2: 1.26353\n",
      "[500]\tvalid_0's l2: 1.26019\n",
      "[600]\tvalid_0's l2: 1.27848\n",
      "[700]\tvalid_0's l2: 1.27535\n",
      "[800]\tvalid_0's l2: 1.27991\n",
      "[900]\tvalid_0's l2: 1.28139\n",
      "[1000]\tvalid_0's l2: 1.28744\n",
      "[100]\tvalid_0's l2: 1.41847\n",
      "[200]\tvalid_0's l2: 1.34025\n",
      "[300]\tvalid_0's l2: 1.33943\n",
      "[400]\tvalid_0's l2: 1.33802\n",
      "[500]\tvalid_0's l2: 1.34587\n",
      "[600]\tvalid_0's l2: 1.34428\n",
      "[700]\tvalid_0's l2: 1.35235\n",
      "[800]\tvalid_0's l2: 1.35616\n",
      "[900]\tvalid_0's l2: 1.36728\n",
      "[1000]\tvalid_0's l2: 1.36915\n",
      "[100]\tvalid_0's l2: 1.41503\n",
      "[200]\tvalid_0's l2: 1.33698\n",
      "[300]\tvalid_0's l2: 1.3575\n",
      "[400]\tvalid_0's l2: 1.33318\n",
      "[500]\tvalid_0's l2: 1.3294\n",
      "[600]\tvalid_0's l2: 1.32733\n",
      "[700]\tvalid_0's l2: 1.33495\n",
      "[800]\tvalid_0's l2: 1.3543\n",
      "[900]\tvalid_0's l2: 1.35982\n",
      "[1000]\tvalid_0's l2: 1.36933\n",
      "Training until validation scores don't improve for 100 rounds\n",
      "[100]\tvalid_0's l2: 3.48129\n",
      "[200]\tvalid_0's l2: 1.88349\n",
      "[300]\tvalid_0's l2: 1.51936\n",
      "[400]\tvalid_0's l2: 1.40401\n",
      "[500]\tvalid_0's l2: 1.36715\n",
      "[600]\tvalid_0's l2: 1.34676\n",
      "[700]\tvalid_0's l2: 1.33441\n",
      "[800]\tvalid_0's l2: 1.32363\n",
      "[900]\tvalid_0's l2: 1.31656\n",
      "[1000]\tvalid_0's l2: 1.31097\n",
      "Did not meet early stopping. Best iteration is:\n",
      "[1000]\tvalid_0's l2: 1.31097\n",
      "Training until validation scores don't improve for 100 rounds\n",
      "[100]\tvalid_0's l2: 3.70521\n",
      "[200]\tvalid_0's l2: 2.04738\n",
      "[300]\tvalid_0's l2: 1.6355\n",
      "[400]\tvalid_0's l2: 1.50333\n",
      "[500]\tvalid_0's l2: 1.4434\n",
      "[600]\tvalid_0's l2: 1.40682\n",
      "[700]\tvalid_0's l2: 1.38556\n",
      "[800]\tvalid_0's l2: 1.36863\n",
      "[900]\tvalid_0's l2: 1.35659\n",
      "[1000]\tvalid_0's l2: 1.34761\n",
      "Did not meet early stopping. Best iteration is:\n",
      "[1000]\tvalid_0's l2: 1.34761\n",
      "Training until validation scores don't improve for 100 rounds\n",
      "[100]\tvalid_0's l2: 3.48057\n",
      "[200]\tvalid_0's l2: 1.89263\n",
      "[300]\tvalid_0's l2: 1.52739\n",
      "[400]\tvalid_0's l2: 1.41823\n",
      "[500]\tvalid_0's l2: 1.38239\n",
      "[600]\tvalid_0's l2: 1.36372\n",
      "[700]\tvalid_0's l2: 1.34801\n",
      "[800]\tvalid_0's l2: 1.33404\n",
      "[900]\tvalid_0's l2: 1.32914\n",
      "[1000]\tvalid_0's l2: 1.32184\n",
      "Did not meet early stopping. Best iteration is:\n",
      "[998]\tvalid_0's l2: 1.32181\n",
      "Training until validation scores don't improve for 100 rounds\n",
      "[100]\tvalid_0's l2: 3.48129\n",
      "[200]\tvalid_0's l2: 1.88416\n",
      "[300]\tvalid_0's l2: 1.51626\n",
      "[400]\tvalid_0's l2: 1.40092\n",
      "[500]\tvalid_0's l2: 1.35953\n",
      "[600]\tvalid_0's l2: 1.33973\n",
      "[700]\tvalid_0's l2: 1.32602\n",
      "[800]\tvalid_0's l2: 1.31471\n",
      "[900]\tvalid_0's l2: 1.30703\n",
      "[1000]\tvalid_0's l2: 1.3031\n",
      "Did not meet early stopping. Best iteration is:\n",
      "[981]\tvalid_0's l2: 1.30265\n",
      "[100]\tvalid_0's l2: 10.7453\n",
      "[200]\tvalid_0's l2: 10.1784\n",
      "[300]\tvalid_0's l2: 7.11506\n",
      "[400]\tvalid_0's l2: 5.07677\n",
      "[500]\tvalid_0's l2: 3.78589\n",
      "[600]\tvalid_0's l2: 3.58245\n",
      "[700]\tvalid_0's l2: 3.04823\n",
      "[800]\tvalid_0's l2: 2.85671\n",
      "[900]\tvalid_0's l2: 2.4568\n",
      "[1000]\tvalid_0's l2: 2.32734\n",
      "[100]\tvalid_0's l2: 10.9567\n",
      "[200]\tvalid_0's l2: 10.4344\n",
      "[300]\tvalid_0's l2: 7.39873\n",
      "[400]\tvalid_0's l2: 5.35251\n",
      "[500]\tvalid_0's l2: 4.02541\n",
      "[600]\tvalid_0's l2: 3.81431\n",
      "[700]\tvalid_0's l2: 3.26289\n",
      "[800]\tvalid_0's l2: 3.05283\n",
      "[900]\tvalid_0's l2: 2.63508\n",
      "[1000]\tvalid_0's l2: 2.48356\n",
      "[100]\tvalid_0's l2: 10.7334\n",
      "[200]\tvalid_0's l2: 10.1882\n",
      "[300]\tvalid_0's l2: 7.12262\n",
      "[400]\tvalid_0's l2: 5.08076\n",
      "[500]\tvalid_0's l2: 3.78667\n",
      "[600]\tvalid_0's l2: 3.58864\n",
      "[700]\tvalid_0's l2: 3.05146\n",
      "[800]\tvalid_0's l2: 2.85888\n",
      "[900]\tvalid_0's l2: 2.46237\n",
      "[1000]\tvalid_0's l2: 2.32266\n",
      "[100]\tvalid_0's l2: 10.7453\n",
      "[200]\tvalid_0's l2: 10.1784\n",
      "[300]\tvalid_0's l2: 7.11506\n",
      "[400]\tvalid_0's l2: 5.07677\n",
      "[500]\tvalid_0's l2: 3.7854\n",
      "[600]\tvalid_0's l2: 3.58576\n",
      "[700]\tvalid_0's l2: 3.05256\n",
      "[800]\tvalid_0's l2: 2.85842\n",
      "[900]\tvalid_0's l2: 2.46296\n",
      "[1000]\tvalid_0's l2: 2.32802\n",
      "Training until validation scores don't improve for 100 rounds\n",
      "[100]\tvalid_0's l2: 1.37551\n",
      "[200]\tvalid_0's l2: 1.317\n",
      "[300]\tvalid_0's l2: 1.32053\n",
      "Early stopping, best iteration is:\n",
      "[229]\tvalid_0's l2: 1.31142\n",
      "Training until validation scores don't improve for 100 rounds\n",
      "[100]\tvalid_0's l2: 1.44059\n",
      "[200]\tvalid_0's l2: 1.34372\n",
      "[300]\tvalid_0's l2: 1.3152\n",
      "[400]\tvalid_0's l2: 1.30731\n",
      "[500]\tvalid_0's l2: 1.30778\n",
      "Early stopping, best iteration is:\n",
      "[457]\tvalid_0's l2: 1.30291\n",
      "Training until validation scores don't improve for 100 rounds\n",
      "[100]\tvalid_0's l2: 1.38926\n",
      "[200]\tvalid_0's l2: 1.32827\n",
      "[300]\tvalid_0's l2: 1.32641\n",
      "Early stopping, best iteration is:\n",
      "[237]\tvalid_0's l2: 1.32116\n",
      "Training until validation scores don't improve for 100 rounds\n",
      "[100]\tvalid_0's l2: 1.37498\n",
      "[200]\tvalid_0's l2: 1.32804\n",
      "Early stopping, best iteration is:\n",
      "[187]\tvalid_0's l2: 1.32539\n",
      "[100]\tvalid_0's l2: 3.21138\n",
      "[200]\tvalid_0's l2: 1.99541\n",
      "[300]\tvalid_0's l2: 1.56389\n",
      "[400]\tvalid_0's l2: 1.39472\n",
      "[500]\tvalid_0's l2: 1.36755\n",
      "[600]\tvalid_0's l2: 1.41346\n",
      "[700]\tvalid_0's l2: 1.36486\n",
      "[800]\tvalid_0's l2: 1.36994\n",
      "[900]\tvalid_0's l2: 1.34485\n",
      "[1000]\tvalid_0's l2: 1.33889\n",
      "[100]\tvalid_0's l2: 3.4052\n",
      "[200]\tvalid_0's l2: 2.13587\n",
      "[300]\tvalid_0's l2: 1.63624\n",
      "[400]\tvalid_0's l2: 1.43485\n",
      "[500]\tvalid_0's l2: 1.37265\n",
      "[600]\tvalid_0's l2: 1.40606\n",
      "[700]\tvalid_0's l2: 1.34415\n",
      "[800]\tvalid_0's l2: 1.34603\n",
      "[900]\tvalid_0's l2: 1.30944\n",
      "[1000]\tvalid_0's l2: 1.30931\n",
      "[100]\tvalid_0's l2: 3.20083\n",
      "[200]\tvalid_0's l2: 2.0043\n",
      "[300]\tvalid_0's l2: 1.57112\n",
      "[400]\tvalid_0's l2: 1.39321\n",
      "[500]\tvalid_0's l2: 1.3563\n",
      "[600]\tvalid_0's l2: 1.40199\n",
      "[700]\tvalid_0's l2: 1.35569\n",
      "[800]\tvalid_0's l2: 1.35716\n",
      "[900]\tvalid_0's l2: 1.33887\n",
      "[1000]\tvalid_0's l2: 1.33847\n",
      "[100]\tvalid_0's l2: 3.2239\n",
      "[200]\tvalid_0's l2: 1.99248\n",
      "[300]\tvalid_0's l2: 1.57271\n",
      "[400]\tvalid_0's l2: 1.40819\n",
      "[500]\tvalid_0's l2: 1.3598\n",
      "[600]\tvalid_0's l2: 1.40445\n",
      "[700]\tvalid_0's l2: 1.36029\n",
      "[800]\tvalid_0's l2: 1.36129\n",
      "[900]\tvalid_0's l2: 1.3336\n",
      "[1000]\tvalid_0's l2: 1.32884\n",
      "Training until validation scores don't improve for 100 rounds\n",
      "[100]\tvalid_0's l2: 1.3148\n",
      "[200]\tvalid_0's l2: 1.32605\n",
      "Early stopping, best iteration is:\n",
      "[102]\tvalid_0's l2: 1.31107\n",
      "Training until validation scores don't improve for 100 rounds\n",
      "[100]\tvalid_0's l2: 1.35359\n",
      "[200]\tvalid_0's l2: 1.32053\n",
      "Early stopping, best iteration is:\n",
      "[166]\tvalid_0's l2: 1.31779\n",
      "Training until validation scores don't improve for 100 rounds\n",
      "[100]\tvalid_0's l2: 1.34653\n",
      "[200]\tvalid_0's l2: 1.34904\n",
      "Early stopping, best iteration is:\n",
      "[157]\tvalid_0's l2: 1.33654\n",
      "Training until validation scores don't improve for 100 rounds\n",
      "[100]\tvalid_0's l2: 1.34371\n",
      "[200]\tvalid_0's l2: 1.3526\n",
      "Early stopping, best iteration is:\n",
      "[115]\tvalid_0's l2: 1.33746\n",
      "[100]\tvalid_0's l2: 1.84553\n",
      "[200]\tvalid_0's l2: 1.4235\n",
      "[300]\tvalid_0's l2: 1.34399\n",
      "[400]\tvalid_0's l2: 1.30451\n",
      "[500]\tvalid_0's l2: 1.31448\n",
      "[600]\tvalid_0's l2: 1.33447\n",
      "[700]\tvalid_0's l2: 1.31151\n",
      "[800]\tvalid_0's l2: 1.31962\n",
      "[900]\tvalid_0's l2: 1.31809\n",
      "[1000]\tvalid_0's l2: 1.32095\n",
      "[100]\tvalid_0's l2: 1.93214\n",
      "[200]\tvalid_0's l2: 1.46742\n",
      "[300]\tvalid_0's l2: 1.34737\n",
      "[400]\tvalid_0's l2: 1.28177\n",
      "[500]\tvalid_0's l2: 1.26905\n",
      "[600]\tvalid_0's l2: 1.29063\n",
      "[700]\tvalid_0's l2: 1.28379\n",
      "[800]\tvalid_0's l2: 1.28981\n",
      "[900]\tvalid_0's l2: 1.30482\n",
      "[1000]\tvalid_0's l2: 1.2963\n",
      "[100]\tvalid_0's l2: 1.83251\n",
      "[200]\tvalid_0's l2: 1.41877\n",
      "[300]\tvalid_0's l2: 1.33363\n",
      "[400]\tvalid_0's l2: 1.29744\n",
      "[500]\tvalid_0's l2: 1.29923\n",
      "[600]\tvalid_0's l2: 1.3181\n",
      "[700]\tvalid_0's l2: 1.28962\n",
      "[800]\tvalid_0's l2: 1.29677\n",
      "[900]\tvalid_0's l2: 1.29807\n",
      "[1000]\tvalid_0's l2: 1.30856\n",
      "[100]\tvalid_0's l2: 1.82291\n",
      "[200]\tvalid_0's l2: 1.43169\n",
      "[300]\tvalid_0's l2: 1.36347\n",
      "[400]\tvalid_0's l2: 1.32182\n",
      "[500]\tvalid_0's l2: 1.33207\n",
      "[600]\tvalid_0's l2: 1.3449\n",
      "[700]\tvalid_0's l2: 1.32037\n",
      "[800]\tvalid_0's l2: 1.33315\n",
      "[900]\tvalid_0's l2: 1.32149\n",
      "[1000]\tvalid_0's l2: 1.32327\n",
      "Training until validation scores don't improve for 100 rounds\n",
      "[100]\tvalid_0's l2: 1.40447\n",
      "Early stopping, best iteration is:\n",
      "[49]\tvalid_0's l2: 1.37575\n",
      "Training until validation scores don't improve for 100 rounds\n",
      "[100]\tvalid_0's l2: 1.33538\n",
      "Early stopping, best iteration is:\n",
      "[99]\tvalid_0's l2: 1.33091\n",
      "Training until validation scores don't improve for 100 rounds\n",
      "[100]\tvalid_0's l2: 1.41037\n",
      "Early stopping, best iteration is:\n",
      "[74]\tvalid_0's l2: 1.39167\n",
      "Training until validation scores don't improve for 100 rounds\n",
      "[100]\tvalid_0's l2: 1.39207\n",
      "Early stopping, best iteration is:\n",
      "[38]\tvalid_0's l2: 1.35761\n",
      "[100]\tvalid_0's l2: 1.36686\n",
      "[200]\tvalid_0's l2: 1.33058\n",
      "[300]\tvalid_0's l2: 1.34368\n",
      "[400]\tvalid_0's l2: 1.33633\n",
      "[500]\tvalid_0's l2: 1.34706\n",
      "[600]\tvalid_0's l2: 1.33534\n",
      "[700]\tvalid_0's l2: 1.33249\n",
      "[800]\tvalid_0's l2: 1.34187\n",
      "[900]\tvalid_0's l2: 1.34363\n",
      "[1000]\tvalid_0's l2: 1.33625\n",
      "[100]\tvalid_0's l2: 1.38996\n",
      "[200]\tvalid_0's l2: 1.29407\n",
      "[300]\tvalid_0's l2: 1.26492\n",
      "[400]\tvalid_0's l2: 1.26353\n",
      "[500]\tvalid_0's l2: 1.26019\n",
      "[600]\tvalid_0's l2: 1.27848\n",
      "[700]\tvalid_0's l2: 1.27535\n",
      "[800]\tvalid_0's l2: 1.27991\n",
      "[900]\tvalid_0's l2: 1.28139\n",
      "[1000]\tvalid_0's l2: 1.28744\n",
      "[100]\tvalid_0's l2: 1.41847\n",
      "[200]\tvalid_0's l2: 1.34025\n",
      "[300]\tvalid_0's l2: 1.33943\n",
      "[400]\tvalid_0's l2: 1.33802\n",
      "[500]\tvalid_0's l2: 1.34587\n",
      "[600]\tvalid_0's l2: 1.34428\n",
      "[700]\tvalid_0's l2: 1.35235\n",
      "[800]\tvalid_0's l2: 1.35616\n",
      "[900]\tvalid_0's l2: 1.36728\n",
      "[1000]\tvalid_0's l2: 1.36915\n",
      "[100]\tvalid_0's l2: 1.41503\n",
      "[200]\tvalid_0's l2: 1.33698\n",
      "[300]\tvalid_0's l2: 1.3575\n",
      "[400]\tvalid_0's l2: 1.33318\n",
      "[500]\tvalid_0's l2: 1.3294\n",
      "[600]\tvalid_0's l2: 1.32733\n",
      "[700]\tvalid_0's l2: 1.33495\n",
      "[800]\tvalid_0's l2: 1.3543\n",
      "[900]\tvalid_0's l2: 1.35982\n",
      "[1000]\tvalid_0's l2: 1.36933\n",
      "Training until validation scores don't improve for 100 rounds\n",
      "[100]\tvalid_0's l2: 3.48129\n",
      "[200]\tvalid_0's l2: 1.88349\n",
      "[300]\tvalid_0's l2: 1.51936\n",
      "[400]\tvalid_0's l2: 1.40401\n",
      "[500]\tvalid_0's l2: 1.36715\n",
      "[600]\tvalid_0's l2: 1.34676\n",
      "[700]\tvalid_0's l2: 1.33441\n",
      "[800]\tvalid_0's l2: 1.32363\n",
      "[900]\tvalid_0's l2: 1.31656\n",
      "[1000]\tvalid_0's l2: 1.31097\n",
      "Did not meet early stopping. Best iteration is:\n",
      "[1000]\tvalid_0's l2: 1.31097\n",
      "Training until validation scores don't improve for 100 rounds\n",
      "[100]\tvalid_0's l2: 3.70521\n",
      "[200]\tvalid_0's l2: 2.04738\n",
      "[300]\tvalid_0's l2: 1.6355\n",
      "[400]\tvalid_0's l2: 1.50333\n",
      "[500]\tvalid_0's l2: 1.4434\n",
      "[600]\tvalid_0's l2: 1.40682\n",
      "[700]\tvalid_0's l2: 1.38556\n",
      "[800]\tvalid_0's l2: 1.36863\n",
      "[900]\tvalid_0's l2: 1.35659\n",
      "[1000]\tvalid_0's l2: 1.34761\n",
      "Did not meet early stopping. Best iteration is:\n",
      "[1000]\tvalid_0's l2: 1.34761\n",
      "Training until validation scores don't improve for 100 rounds\n",
      "[100]\tvalid_0's l2: 3.48057\n",
      "[200]\tvalid_0's l2: 1.89263\n",
      "[300]\tvalid_0's l2: 1.52739\n",
      "[400]\tvalid_0's l2: 1.41823\n",
      "[500]\tvalid_0's l2: 1.38239\n",
      "[600]\tvalid_0's l2: 1.36372\n",
      "[700]\tvalid_0's l2: 1.34801\n",
      "[800]\tvalid_0's l2: 1.33404\n",
      "[900]\tvalid_0's l2: 1.32914\n",
      "[1000]\tvalid_0's l2: 1.32184\n",
      "Did not meet early stopping. Best iteration is:\n",
      "[998]\tvalid_0's l2: 1.32181\n",
      "Training until validation scores don't improve for 100 rounds\n",
      "[100]\tvalid_0's l2: 3.48129\n",
      "[200]\tvalid_0's l2: 1.88416\n",
      "[300]\tvalid_0's l2: 1.51626\n",
      "[400]\tvalid_0's l2: 1.40092\n",
      "[500]\tvalid_0's l2: 1.35953\n",
      "[600]\tvalid_0's l2: 1.33973\n",
      "[700]\tvalid_0's l2: 1.32602\n",
      "[800]\tvalid_0's l2: 1.31471\n",
      "[900]\tvalid_0's l2: 1.30703\n",
      "[1000]\tvalid_0's l2: 1.3031\n",
      "Did not meet early stopping. Best iteration is:\n",
      "[981]\tvalid_0's l2: 1.30265\n",
      "[100]\tvalid_0's l2: 10.7453\n",
      "[200]\tvalid_0's l2: 10.1784\n",
      "[300]\tvalid_0's l2: 7.11506\n",
      "[400]\tvalid_0's l2: 5.07677\n",
      "[500]\tvalid_0's l2: 3.78589\n",
      "[600]\tvalid_0's l2: 3.58245\n",
      "[700]\tvalid_0's l2: 3.04823\n",
      "[800]\tvalid_0's l2: 2.85671\n",
      "[900]\tvalid_0's l2: 2.4568\n",
      "[1000]\tvalid_0's l2: 2.32734\n",
      "[100]\tvalid_0's l2: 10.9567\n",
      "[200]\tvalid_0's l2: 10.4344\n",
      "[300]\tvalid_0's l2: 7.39873\n",
      "[400]\tvalid_0's l2: 5.35251\n",
      "[500]\tvalid_0's l2: 4.02541\n",
      "[600]\tvalid_0's l2: 3.81431\n",
      "[700]\tvalid_0's l2: 3.26289\n",
      "[800]\tvalid_0's l2: 3.05283\n",
      "[900]\tvalid_0's l2: 2.63508\n",
      "[1000]\tvalid_0's l2: 2.48356\n",
      "[100]\tvalid_0's l2: 10.7334\n",
      "[200]\tvalid_0's l2: 10.1882\n",
      "[300]\tvalid_0's l2: 7.12262\n",
      "[400]\tvalid_0's l2: 5.08076\n",
      "[500]\tvalid_0's l2: 3.78667\n",
      "[600]\tvalid_0's l2: 3.58864\n",
      "[700]\tvalid_0's l2: 3.05146\n",
      "[800]\tvalid_0's l2: 2.85888\n",
      "[900]\tvalid_0's l2: 2.46237\n",
      "[1000]\tvalid_0's l2: 2.32266\n",
      "[100]\tvalid_0's l2: 10.7453\n",
      "[200]\tvalid_0's l2: 10.1784\n",
      "[300]\tvalid_0's l2: 7.11506\n",
      "[400]\tvalid_0's l2: 5.07677\n",
      "[500]\tvalid_0's l2: 3.7854\n",
      "[600]\tvalid_0's l2: 3.58576\n",
      "[700]\tvalid_0's l2: 3.05256\n",
      "[800]\tvalid_0's l2: 2.85842\n",
      "[900]\tvalid_0's l2: 2.46296\n",
      "[1000]\tvalid_0's l2: 2.32802\n",
      "Training until validation scores don't improve for 100 rounds\n",
      "[100]\tvalid_0's l2: 1.37551\n",
      "[200]\tvalid_0's l2: 1.317\n",
      "[300]\tvalid_0's l2: 1.32053\n",
      "Early stopping, best iteration is:\n",
      "[229]\tvalid_0's l2: 1.31142\n",
      "Training until validation scores don't improve for 100 rounds\n",
      "[100]\tvalid_0's l2: 1.44059\n",
      "[200]\tvalid_0's l2: 1.34372\n",
      "[300]\tvalid_0's l2: 1.3152\n",
      "[400]\tvalid_0's l2: 1.30731\n",
      "[500]\tvalid_0's l2: 1.30778\n",
      "Early stopping, best iteration is:\n",
      "[457]\tvalid_0's l2: 1.30291\n",
      "Training until validation scores don't improve for 100 rounds\n",
      "[100]\tvalid_0's l2: 1.38926\n",
      "[200]\tvalid_0's l2: 1.32827\n",
      "[300]\tvalid_0's l2: 1.32641\n",
      "Early stopping, best iteration is:\n",
      "[237]\tvalid_0's l2: 1.32116\n",
      "Training until validation scores don't improve for 100 rounds\n",
      "[100]\tvalid_0's l2: 1.37498\n",
      "[200]\tvalid_0's l2: 1.32804\n",
      "Early stopping, best iteration is:\n",
      "[187]\tvalid_0's l2: 1.32539\n",
      "[100]\tvalid_0's l2: 3.21138\n",
      "[200]\tvalid_0's l2: 1.99541\n",
      "[300]\tvalid_0's l2: 1.56389\n",
      "[400]\tvalid_0's l2: 1.39472\n",
      "[500]\tvalid_0's l2: 1.36755\n",
      "[600]\tvalid_0's l2: 1.41346\n",
      "[700]\tvalid_0's l2: 1.36486\n",
      "[800]\tvalid_0's l2: 1.36994\n",
      "[900]\tvalid_0's l2: 1.34485\n",
      "[1000]\tvalid_0's l2: 1.33889\n",
      "[100]\tvalid_0's l2: 3.4052\n",
      "[200]\tvalid_0's l2: 2.13587\n",
      "[300]\tvalid_0's l2: 1.63624\n",
      "[400]\tvalid_0's l2: 1.43485\n",
      "[500]\tvalid_0's l2: 1.37265\n",
      "[600]\tvalid_0's l2: 1.40606\n",
      "[700]\tvalid_0's l2: 1.34415\n",
      "[800]\tvalid_0's l2: 1.34603\n",
      "[900]\tvalid_0's l2: 1.30944\n",
      "[1000]\tvalid_0's l2: 1.30931\n",
      "[100]\tvalid_0's l2: 3.20083\n",
      "[200]\tvalid_0's l2: 2.0043\n",
      "[300]\tvalid_0's l2: 1.57112\n",
      "[400]\tvalid_0's l2: 1.39321\n",
      "[500]\tvalid_0's l2: 1.3563\n",
      "[600]\tvalid_0's l2: 1.40199\n",
      "[700]\tvalid_0's l2: 1.35569\n",
      "[800]\tvalid_0's l2: 1.35716\n",
      "[900]\tvalid_0's l2: 1.33887\n",
      "[1000]\tvalid_0's l2: 1.33847\n",
      "[100]\tvalid_0's l2: 3.2239\n",
      "[200]\tvalid_0's l2: 1.99248\n",
      "[300]\tvalid_0's l2: 1.57271\n",
      "[400]\tvalid_0's l2: 1.40819\n",
      "[500]\tvalid_0's l2: 1.3598\n",
      "[600]\tvalid_0's l2: 1.40445\n",
      "[700]\tvalid_0's l2: 1.36029\n",
      "[800]\tvalid_0's l2: 1.36129\n",
      "[900]\tvalid_0's l2: 1.3336\n",
      "[1000]\tvalid_0's l2: 1.32884\n",
      "Training until validation scores don't improve for 100 rounds\n",
      "[100]\tvalid_0's l2: 1.3148\n",
      "[200]\tvalid_0's l2: 1.32605\n",
      "Early stopping, best iteration is:\n",
      "[102]\tvalid_0's l2: 1.31107\n",
      "Training until validation scores don't improve for 100 rounds\n",
      "[100]\tvalid_0's l2: 1.35359\n",
      "[200]\tvalid_0's l2: 1.32053\n",
      "Early stopping, best iteration is:\n",
      "[166]\tvalid_0's l2: 1.31779\n",
      "Training until validation scores don't improve for 100 rounds\n",
      "[100]\tvalid_0's l2: 1.34653\n",
      "[200]\tvalid_0's l2: 1.34904\n",
      "Early stopping, best iteration is:\n",
      "[157]\tvalid_0's l2: 1.33654\n",
      "Training until validation scores don't improve for 100 rounds\n",
      "[100]\tvalid_0's l2: 1.34371\n",
      "[200]\tvalid_0's l2: 1.3526\n",
      "Early stopping, best iteration is:\n",
      "[115]\tvalid_0's l2: 1.33746\n",
      "[100]\tvalid_0's l2: 1.84553\n",
      "[200]\tvalid_0's l2: 1.4235\n",
      "[300]\tvalid_0's l2: 1.34399\n",
      "[400]\tvalid_0's l2: 1.30451\n",
      "[500]\tvalid_0's l2: 1.31448\n",
      "[600]\tvalid_0's l2: 1.33447\n",
      "[700]\tvalid_0's l2: 1.31151\n",
      "[800]\tvalid_0's l2: 1.31962\n",
      "[900]\tvalid_0's l2: 1.31809\n",
      "[1000]\tvalid_0's l2: 1.32095\n",
      "[100]\tvalid_0's l2: 1.93214\n",
      "[200]\tvalid_0's l2: 1.46742\n",
      "[300]\tvalid_0's l2: 1.34737\n",
      "[400]\tvalid_0's l2: 1.28177\n",
      "[500]\tvalid_0's l2: 1.26905\n",
      "[600]\tvalid_0's l2: 1.29063\n",
      "[700]\tvalid_0's l2: 1.28379\n",
      "[800]\tvalid_0's l2: 1.28981\n",
      "[900]\tvalid_0's l2: 1.30482\n",
      "[1000]\tvalid_0's l2: 1.2963\n",
      "[100]\tvalid_0's l2: 1.83251\n",
      "[200]\tvalid_0's l2: 1.41877\n",
      "[300]\tvalid_0's l2: 1.33363\n",
      "[400]\tvalid_0's l2: 1.29744\n",
      "[500]\tvalid_0's l2: 1.29923\n",
      "[600]\tvalid_0's l2: 1.3181\n",
      "[700]\tvalid_0's l2: 1.28962\n",
      "[800]\tvalid_0's l2: 1.29677\n",
      "[900]\tvalid_0's l2: 1.29807\n",
      "[1000]\tvalid_0's l2: 1.30856\n",
      "[100]\tvalid_0's l2: 1.82291\n",
      "[200]\tvalid_0's l2: 1.43169\n",
      "[300]\tvalid_0's l2: 1.36347\n",
      "[400]\tvalid_0's l2: 1.32182\n",
      "[500]\tvalid_0's l2: 1.33207\n",
      "[600]\tvalid_0's l2: 1.3449\n",
      "[700]\tvalid_0's l2: 1.32037\n",
      "[800]\tvalid_0's l2: 1.33315\n",
      "[900]\tvalid_0's l2: 1.32149\n",
      "[1000]\tvalid_0's l2: 1.32327\n",
      "Training until validation scores don't improve for 100 rounds\n",
      "[100]\tvalid_0's l2: 1.40447\n",
      "Early stopping, best iteration is:\n",
      "[49]\tvalid_0's l2: 1.37575\n",
      "Training until validation scores don't improve for 100 rounds\n",
      "[100]\tvalid_0's l2: 1.33538\n",
      "Early stopping, best iteration is:\n",
      "[99]\tvalid_0's l2: 1.33091\n",
      "Training until validation scores don't improve for 100 rounds\n",
      "[100]\tvalid_0's l2: 1.41037\n",
      "Early stopping, best iteration is:\n",
      "[74]\tvalid_0's l2: 1.39167\n",
      "Training until validation scores don't improve for 100 rounds\n",
      "[100]\tvalid_0's l2: 1.39207\n",
      "Early stopping, best iteration is:\n",
      "[38]\tvalid_0's l2: 1.35761\n",
      "[100]\tvalid_0's l2: 1.36686\n",
      "[200]\tvalid_0's l2: 1.33058\n",
      "[300]\tvalid_0's l2: 1.34368\n",
      "[400]\tvalid_0's l2: 1.33633\n",
      "[500]\tvalid_0's l2: 1.34706\n",
      "[600]\tvalid_0's l2: 1.33534\n",
      "[700]\tvalid_0's l2: 1.33249\n",
      "[800]\tvalid_0's l2: 1.34187\n",
      "[900]\tvalid_0's l2: 1.34363\n",
      "[1000]\tvalid_0's l2: 1.33625\n",
      "[100]\tvalid_0's l2: 1.38996\n",
      "[200]\tvalid_0's l2: 1.29407\n",
      "[300]\tvalid_0's l2: 1.26492\n",
      "[400]\tvalid_0's l2: 1.26353\n",
      "[500]\tvalid_0's l2: 1.26019\n",
      "[600]\tvalid_0's l2: 1.27848\n",
      "[700]\tvalid_0's l2: 1.27535\n",
      "[800]\tvalid_0's l2: 1.27991\n",
      "[900]\tvalid_0's l2: 1.28139\n",
      "[1000]\tvalid_0's l2: 1.28744\n",
      "[100]\tvalid_0's l2: 1.41847\n",
      "[200]\tvalid_0's l2: 1.34025\n",
      "[300]\tvalid_0's l2: 1.33943\n",
      "[400]\tvalid_0's l2: 1.33802\n",
      "[500]\tvalid_0's l2: 1.34587\n",
      "[600]\tvalid_0's l2: 1.34428\n",
      "[700]\tvalid_0's l2: 1.35235\n",
      "[800]\tvalid_0's l2: 1.35616\n",
      "[900]\tvalid_0's l2: 1.36728\n",
      "[1000]\tvalid_0's l2: 1.36915\n",
      "[100]\tvalid_0's l2: 1.41503\n",
      "[200]\tvalid_0's l2: 1.33698\n",
      "[300]\tvalid_0's l2: 1.3575\n",
      "[400]\tvalid_0's l2: 1.33318\n",
      "[500]\tvalid_0's l2: 1.3294\n",
      "[600]\tvalid_0's l2: 1.32733\n",
      "[700]\tvalid_0's l2: 1.33495\n",
      "[800]\tvalid_0's l2: 1.3543\n",
      "[900]\tvalid_0's l2: 1.35982\n",
      "[1000]\tvalid_0's l2: 1.36933\n",
      "Best score: 0.00\n",
      "Best parameters: {'learning_rate': 0.01, 'max_depth': 4, 'boosting': 'dart', 'objective': 'regression', 'metric': 'mse', 'is_training_metric': True, 'feature_fraction': 0.9}\n"
     ]
    }
   ],
   "source": [
    "best_mse=0\n",
    "for n_estimator in [100, 300, 600]:\n",
    "    for learning_rate in [0.01, 0.05, 0.1, 0.2]:\n",
    "        for boosting in ['gbdt','dart']:\n",
    "            for max_depth in [-1,4,6,9]:\n",
    "                params={'learning_rate': learning_rate, 'max_depth': max_depth, \n",
    "                            'boosting': boosting, 'objective': 'regression', \n",
    "                            'metric': 'mse', 'is_training_metric': True, \n",
    "                            'feature_fraction': 0.9}\n",
    "                model = lgb.train(params, train_ds, 1000, test_ds, verbose_eval=100, early_stopping_rounds=100)\n",
    "                y_pred = model.predict(X_test)\n",
    "                mse = mean_squared_error(y_test, y_pred)\n",
    "                \n",
    "                if mse < best_mse:\n",
    "                        best_mse = mse\n",
    "                        best_parameters = params\n",
    "                        \n",
    "print(\"Best mse: {:.2f}\".format(best_mse))\n",
    "print(\"Best parameters: {}\".format(best_parameters))"
   ]
  },
  {
   "cell_type": "code",
   "execution_count": 83,
   "metadata": {},
   "outputs": [
    {
     "name": "stdout",
     "output_type": "stream",
     "text": [
      "Training until validation scores don't improve for 100 rounds\n",
      "[100]\tvalid_0's l2: 3.48129\n",
      "Did not meet early stopping. Best iteration is:\n",
      "[100]\tvalid_0's l2: 3.48129\n"
     ]
    },
    {
     "ename": "ValueError",
     "evalue": "Classification metrics can't handle a mix of multiclass and continuous targets",
     "output_type": "error",
     "traceback": [
      "\u001b[1;31m---------------------------------------------------------------------------\u001b[0m",
      "\u001b[1;31mValueError\u001b[0m                                Traceback (most recent call last)",
      "\u001b[1;32m<ipython-input-83-6924cf30c08f>\u001b[0m in \u001b[0;36m<module>\u001b[1;34m\u001b[0m\n\u001b[0;32m     10\u001b[0m                 \u001b[0mmodel\u001b[0m \u001b[1;33m=\u001b[0m \u001b[0mlgb\u001b[0m\u001b[1;33m.\u001b[0m\u001b[0mtrain\u001b[0m\u001b[1;33m(\u001b[0m\u001b[0mparams\u001b[0m\u001b[1;33m,\u001b[0m \u001b[0mtrain_ds\u001b[0m\u001b[1;33m,\u001b[0m \u001b[1;36m1000\u001b[0m\u001b[1;33m,\u001b[0m \u001b[0mtest_ds\u001b[0m\u001b[1;33m,\u001b[0m \u001b[0mverbose_eval\u001b[0m\u001b[1;33m=\u001b[0m\u001b[1;36m100\u001b[0m\u001b[1;33m,\u001b[0m \u001b[0mearly_stopping_rounds\u001b[0m\u001b[1;33m=\u001b[0m\u001b[1;36m100\u001b[0m\u001b[1;33m)\u001b[0m\u001b[1;33m\u001b[0m\u001b[1;33m\u001b[0m\u001b[0m\n\u001b[0;32m     11\u001b[0m                 \u001b[0my_pred\u001b[0m \u001b[1;33m=\u001b[0m \u001b[0mmodel\u001b[0m\u001b[1;33m.\u001b[0m\u001b[0mpredict\u001b[0m\u001b[1;33m(\u001b[0m\u001b[0mX_test\u001b[0m\u001b[1;33m)\u001b[0m\u001b[1;33m\u001b[0m\u001b[1;33m\u001b[0m\u001b[0m\n\u001b[1;32m---> 12\u001b[1;33m                 \u001b[0mscore\u001b[0m\u001b[1;33m=\u001b[0m \u001b[0maccuracy_score\u001b[0m\u001b[1;33m(\u001b[0m\u001b[0my_test\u001b[0m\u001b[1;33m,\u001b[0m \u001b[0my_pred\u001b[0m\u001b[1;33m)\u001b[0m\u001b[1;33m\u001b[0m\u001b[1;33m\u001b[0m\u001b[0m\n\u001b[0m\u001b[0;32m     13\u001b[0m \u001b[1;33m\u001b[0m\u001b[0m\n\u001b[0;32m     14\u001b[0m                 \u001b[1;32mif\u001b[0m \u001b[0mscore\u001b[0m \u001b[1;33m>\u001b[0m \u001b[0mbest_score\u001b[0m\u001b[1;33m:\u001b[0m\u001b[1;33m\u001b[0m\u001b[1;33m\u001b[0m\u001b[0m\n",
      "\u001b[1;32mC:\\ProgramData\\Anaconda3\\lib\\site-packages\\sklearn\\metrics\\_classification.py\u001b[0m in \u001b[0;36maccuracy_score\u001b[1;34m(y_true, y_pred, normalize, sample_weight)\u001b[0m\n\u001b[0;32m    183\u001b[0m \u001b[1;33m\u001b[0m\u001b[0m\n\u001b[0;32m    184\u001b[0m     \u001b[1;31m# Compute accuracy for each possible representation\u001b[0m\u001b[1;33m\u001b[0m\u001b[1;33m\u001b[0m\u001b[1;33m\u001b[0m\u001b[0m\n\u001b[1;32m--> 185\u001b[1;33m     \u001b[0my_type\u001b[0m\u001b[1;33m,\u001b[0m \u001b[0my_true\u001b[0m\u001b[1;33m,\u001b[0m \u001b[0my_pred\u001b[0m \u001b[1;33m=\u001b[0m \u001b[0m_check_targets\u001b[0m\u001b[1;33m(\u001b[0m\u001b[0my_true\u001b[0m\u001b[1;33m,\u001b[0m \u001b[0my_pred\u001b[0m\u001b[1;33m)\u001b[0m\u001b[1;33m\u001b[0m\u001b[1;33m\u001b[0m\u001b[0m\n\u001b[0m\u001b[0;32m    186\u001b[0m     \u001b[0mcheck_consistent_length\u001b[0m\u001b[1;33m(\u001b[0m\u001b[0my_true\u001b[0m\u001b[1;33m,\u001b[0m \u001b[0my_pred\u001b[0m\u001b[1;33m,\u001b[0m \u001b[0msample_weight\u001b[0m\u001b[1;33m)\u001b[0m\u001b[1;33m\u001b[0m\u001b[1;33m\u001b[0m\u001b[0m\n\u001b[0;32m    187\u001b[0m     \u001b[1;32mif\u001b[0m \u001b[0my_type\u001b[0m\u001b[1;33m.\u001b[0m\u001b[0mstartswith\u001b[0m\u001b[1;33m(\u001b[0m\u001b[1;34m'multilabel'\u001b[0m\u001b[1;33m)\u001b[0m\u001b[1;33m:\u001b[0m\u001b[1;33m\u001b[0m\u001b[1;33m\u001b[0m\u001b[0m\n",
      "\u001b[1;32mC:\\ProgramData\\Anaconda3\\lib\\site-packages\\sklearn\\metrics\\_classification.py\u001b[0m in \u001b[0;36m_check_targets\u001b[1;34m(y_true, y_pred)\u001b[0m\n\u001b[0;32m     88\u001b[0m     \u001b[1;32mif\u001b[0m \u001b[0mlen\u001b[0m\u001b[1;33m(\u001b[0m\u001b[0my_type\u001b[0m\u001b[1;33m)\u001b[0m \u001b[1;33m>\u001b[0m \u001b[1;36m1\u001b[0m\u001b[1;33m:\u001b[0m\u001b[1;33m\u001b[0m\u001b[1;33m\u001b[0m\u001b[0m\n\u001b[0;32m     89\u001b[0m         raise ValueError(\"Classification metrics can't handle a mix of {0} \"\n\u001b[1;32m---> 90\u001b[1;33m                          \"and {1} targets\".format(type_true, type_pred))\n\u001b[0m\u001b[0;32m     91\u001b[0m \u001b[1;33m\u001b[0m\u001b[0m\n\u001b[0;32m     92\u001b[0m     \u001b[1;31m# We can't have more than one value on y_type => The set is no more needed\u001b[0m\u001b[1;33m\u001b[0m\u001b[1;33m\u001b[0m\u001b[1;33m\u001b[0m\u001b[0m\n",
      "\u001b[1;31mValueError\u001b[0m: Classification metrics can't handle a mix of multiclass and continuous targets"
     ]
    }
   ],
   "source": [
    "best_score=0 \n",
    "for n_estimator in [100, 300, 600]:\n",
    "    for learning_rate in [0.01, 0.05, 0.1, 0.2]:\n",
    "        for boosting in ['gbdt','dart']:\n",
    "            for max_depth in [-1,4,6,9]:\n",
    "                params={'n_estimators':n_estimator ,'learning_rate': learning_rate, 'max_depth': max_depth, \n",
    "                            'boosting': boosting, 'objective': 'regression', \n",
    "                            'metric': 'mse', 'is_training_metric': True, \n",
    "                            'feature_fraction': 0.9}\n",
    "                model = lgb.train(params, train_ds, 1000, test_ds, verbose_eval=100, early_stopping_rounds=100)\n",
    "                y_pred = model.predict(X_test)\n",
    "                score= accuracy_score(y_test, y_pred)\n",
    "                \n",
    "                if score > best_score:\n",
    "                        best_score = score\n",
    "                        best_parameters = params\n",
    "                        \n",
    "print(\"Best score: {:.2f}\".format(best_score))\n",
    "print(\"Best parameters: {}\".format(best_parameters))"
   ]
  },
  {
   "cell_type": "markdown",
   "metadata": {},
   "source": [
    "### 여기서부터 보시면 됩니다~~~"
   ]
  },
  {
   "cell_type": "code",
   "execution_count": 85,
   "metadata": {},
   "outputs": [],
   "source": [
    "from lightgbm import LGBMRegressor\n",
    "lgbm = LGBMRegressor(n_estimators=200)"
   ]
  },
  {
   "cell_type": "code",
   "execution_count": 86,
   "metadata": {},
   "outputs": [],
   "source": [
    "lgbm=LGBMRegressor(n_estimators=500, learning_rate=0.1, max_depth=4)\n",
    "lgbm.fit(X_train,y_train)\n",
    "lgbm_pred=xgb.predict(X_test)"
   ]
  },
  {
   "cell_type": "code",
   "execution_count": 87,
   "metadata": {},
   "outputs": [
    {
     "name": "stdout",
     "output_type": "stream",
     "text": [
      "0.9581624716310267\n",
      "0.8944153514504809\n"
     ]
    }
   ],
   "source": [
    "print(lgbm.score(X_train, y_train))\n",
    "print(lgbm.score(X_test, y_test))"
   ]
  },
  {
   "cell_type": "code",
   "execution_count": 91,
   "metadata": {},
   "outputs": [
    {
     "name": "stdout",
     "output_type": "stream",
     "text": [
      "Best score: 0.90\n",
      "Best parameters: {'n_estimators': 600, 'max_depth': 4, 'learning_rate': 0.2, 'boosting': 'dart'}\n"
     ]
    }
   ],
   "source": [
    "best_score=0\n",
    "for n_estimator in [100, 300, 600]:\n",
    "    for learning_rate in [0.01, 0.05, 0.1, 0.2]:\n",
    "        for boosting in ['gbdt','dart']:\n",
    "            for max_depth in [-1,4,6,9]:\n",
    "                lgbm= LGBMRegressor(n_estimators=n_estimator,\n",
    "                                      learning_rate=learning_rate,           \n",
    "                                      boosting= boosting,\n",
    "                                      max_depth=max_depth)\n",
    "                lgbm.fit(X_train, y_train)\n",
    "                score=lgbm.score(X_test, y_test)\n",
    "                \n",
    "                if score > best_score:\n",
    "                        best_score = score\n",
    "                        best_parameters = {'n_estimators':n_estimator, 'max_depth' : max_depth,\n",
    "                                            'learning_rate' : learning_rate,\n",
    "                                            'boosting':boosting}\n",
    "                    \n",
    "print(\"Best score: {:.2f}\".format(best_score))\n",
    "print(\"Best parameters: {}\".format(best_parameters))"
   ]
  },
  {
   "cell_type": "code",
   "execution_count": 92,
   "metadata": {},
   "outputs": [
    {
     "name": "stdout",
     "output_type": "stream",
     "text": [
      "Fitting 5 folds for each of 96 candidates, totalling 480 fits\n"
     ]
    },
    {
     "name": "stderr",
     "output_type": "stream",
     "text": [
      "[Parallel(n_jobs=-1)]: Using backend LokyBackend with 4 concurrent workers.\n",
      "[Parallel(n_jobs=-1)]: Done  42 tasks      | elapsed:  1.4min\n",
      "[Parallel(n_jobs=-1)]: Done 192 tasks      | elapsed:  4.7min\n",
      "[Parallel(n_jobs=-1)]: Done 442 tasks      | elapsed: 23.2min\n",
      "[Parallel(n_jobs=-1)]: Done 480 out of 480 | elapsed: 26.4min finished\n"
     ]
    }
   ],
   "source": [
    "from sklearn.model_selection import GridSearchCV\n",
    "\n",
    "\n",
    "lgbm_param_grid={'n_estimator': [100, 300, 600],\n",
    "                 'learning_rate' : [0.01, 0.05, 0.1, 0.2],\n",
    "                 'boosting' : ['gbdt','dart'],\n",
    "                 'max_depth' : [-1,4,6,9]\n",
    "}\n",
    "\n",
    "grid_search= GridSearchCV(lgbm, lgbm_param_grid, n_jobs=-1, verbose=1)\n",
    "grid_result= grid_search.fit(X_train, y_train)"
   ]
  },
  {
   "cell_type": "code",
   "execution_count": null,
   "metadata": {},
   "outputs": [],
   "source": []
  },
  {
   "cell_type": "code",
   "execution_count": null,
   "metadata": {},
   "outputs": [],
   "source": []
  }
 ],
 "metadata": {
  "kernelspec": {
   "display_name": "Python 3",
   "language": "python",
   "name": "python3"
  },
  "language_info": {
   "codemirror_mode": {
    "name": "ipython",
    "version": 3
   },
   "file_extension": ".py",
   "mimetype": "text/x-python",
   "name": "python",
   "nbconvert_exporter": "python",
   "pygments_lexer": "ipython3",
   "version": "3.7.6"
  }
 },
 "nbformat": 4,
 "nbformat_minor": 4
}
