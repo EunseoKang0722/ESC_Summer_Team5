{
 "cells": [
  {
   "cell_type": "markdown",
   "metadata": {},
   "source": [
    "## 데이터 처리"
   ]
  },
  {
   "cell_type": "code",
   "execution_count": 1,
   "metadata": {},
   "outputs": [],
   "source": [
    "import pandas as pd\n",
    "import matplotlib.pyplot as plt"
   ]
  },
  {
   "cell_type": "code",
   "execution_count": 2,
   "metadata": {},
   "outputs": [],
   "source": [
    "thit16 = pd.read_csv('./Raw_data/2020빅콘테스트_스포츠투아이_제공데이터_팀타자_2016.csv')\n",
    "thit17 = pd.read_csv('./Raw_data/2020빅콘테스트_스포츠투아이_제공데이터_팀타자_2017.csv')\n",
    "thit18 = pd.read_csv('./Raw_data/2020빅콘테스트_스포츠투아이_제공데이터_팀타자_2018.csv')\n",
    "thit19 = pd.read_csv('./Raw_data/2020빅콘테스트_스포츠투아이_제공데이터_팀타자_2019.csv')"
   ]
  },
  {
   "cell_type": "code",
   "execution_count": 3,
   "metadata": {},
   "outputs": [],
   "source": [
    "tpit16 = pd.read_csv('./Raw_data/2020빅콘테스트_스포츠투아이_제공데이터_팀투수_2016.csv')\n",
    "tpit17 = pd.read_csv('./Raw_data/2020빅콘테스트_스포츠투아이_제공데이터_팀투수_2017.csv')\n",
    "tpit18 = pd.read_csv('./Raw_data/2020빅콘테스트_스포츠투아이_제공데이터_팀투수_2018.csv')\n",
    "tpit19 = pd.read_csv('./Raw_data/2020빅콘테스트_스포츠투아이_제공데이터_팀투수_2019.csv')"
   ]
  },
  {
   "cell_type": "code",
   "execution_count": 4,
   "metadata": {},
   "outputs": [],
   "source": [
    "thit = pd.concat([thit16, thit17, thit18, thit19]).reset_index(drop=True)\n",
    "tpit = pd.concat([tpit16, tpit17, tpit18, tpit19]).reset_index(drop=True)"
   ]
  },
  {
   "cell_type": "code",
   "execution_count": 5,
   "metadata": {},
   "outputs": [],
   "source": [
    "thit = thit.sort_values(['GDAY_DS', 'T_ID'])\n",
    "tpit = tpit.sort_values(['GDAY_DS', 'T_ID'])"
   ]
  },
  {
   "cell_type": "code",
   "execution_count": 6,
   "metadata": {},
   "outputs": [],
   "source": [
    "thit['GDAY_DS'] = pd.to_datetime(thit['GDAY_DS'].astype('str'))\n",
    "tpit['GDAY_DS'] = pd.to_datetime(tpit['GDAY_DS'].astype('str'))"
   ]
  },
  {
   "cell_type": "code",
   "execution_count": 7,
   "metadata": {},
   "outputs": [],
   "source": [
    "thit_train = thit.iloc[:5572,]\n",
    "thit_test = thit.iloc[5572:,].reset_index(drop=True)"
   ]
  },
  {
   "cell_type": "code",
   "execution_count": 8,
   "metadata": {},
   "outputs": [],
   "source": [
    "LG = thit_train.loc[thit_train['T_ID']=='LG', ['GDAY_DS', 'PA']].reset_index(drop=True) ; LG.columns = ['ds', 'y']\n",
    "HH = thit_train.loc[thit_train['T_ID']=='HH', ['GDAY_DS', 'PA']].reset_index(drop=True) ; HH.columns = ['ds', 'y']\n",
    "NC = thit_train.loc[thit_train['T_ID']=='NC', ['GDAY_DS', 'PA']].reset_index(drop=True) ; NC.columns = ['ds', 'y']\n",
    "HT = thit_train.loc[thit_train['T_ID']=='HT', ['GDAY_DS', 'PA']].reset_index(drop=True) ; HT.columns = ['ds', 'y']\n",
    "SK = thit_train.loc[thit_train['T_ID']=='SK', ['GDAY_DS', 'PA']].reset_index(drop=True) ; SK.columns = ['ds', 'y']\n",
    "KT = thit_train.loc[thit_train['T_ID']=='KT', ['GDAY_DS', 'PA']].reset_index(drop=True) ; KT.columns = ['ds', 'y']\n",
    "WO = thit_train.loc[thit_train['T_ID']=='WO', ['GDAY_DS', 'PA']].reset_index(drop=True) ; WO.columns = ['ds', 'y']\n",
    "LT = thit_train.loc[thit_train['T_ID']=='LT', ['GDAY_DS', 'PA']].reset_index(drop=True) ; LT.columns = ['ds', 'y']\n",
    "SS = thit_train.loc[thit_train['T_ID']=='SS', ['GDAY_DS', 'PA']].reset_index(drop=True) ; SS.columns = ['ds', 'y']\n",
    "OB = thit_train.loc[thit_train['T_ID']=='OB', ['GDAY_DS', 'PA']].reset_index(drop=True) ; OB.columns = ['ds', 'y']"
   ]
  },
  {
   "cell_type": "code",
   "execution_count": 9,
   "metadata": {},
   "outputs": [],
   "source": [
    "LG_future = thit_test.loc[thit_test['T_ID']=='LG', ['GDAY_DS', 'T_ID', 'VS_T_ID']].sort_values('GDAY_DS').reset_index(drop=True)\n",
    "LG_future.columns = ['ds', 'T_ID', 'VS_T_ID']\n",
    "HH_future = thit_test.loc[thit_test['T_ID']=='HH', ['GDAY_DS', 'T_ID', 'VS_T_ID']].sort_values('GDAY_DS').reset_index(drop=True)\n",
    "HH_future.columns = ['ds', 'T_ID', 'VS_T_ID']\n",
    "NC_future = thit_test.loc[thit_test['T_ID']=='NC', ['GDAY_DS', 'T_ID', 'VS_T_ID']].sort_values('GDAY_DS').reset_index(drop=True)\n",
    "NC_future.columns = ['ds', 'T_ID', 'VS_T_ID']\n",
    "HT_future = thit_test.loc[thit_test['T_ID']=='HT', ['GDAY_DS', 'T_ID', 'VS_T_ID']].sort_values('GDAY_DS').reset_index(drop=True)\n",
    "HT_future.columns = ['ds', 'T_ID', 'VS_T_ID']\n",
    "SK_future = thit_test.loc[thit_test['T_ID']=='SK', ['GDAY_DS', 'T_ID', 'VS_T_ID']].sort_values('GDAY_DS').reset_index(drop=True)\n",
    "SK_future.columns = ['ds', 'T_ID', 'VS_T_ID']\n",
    "KT_future = thit_test.loc[thit_test['T_ID']=='KT', ['GDAY_DS', 'T_ID', 'VS_T_ID']].sort_values('GDAY_DS').reset_index(drop=True)\n",
    "KT_future.columns = ['ds', 'T_ID', 'VS_T_ID']\n",
    "WO_future = thit_test.loc[thit_test['T_ID']=='WO', ['GDAY_DS', 'T_ID', 'VS_T_ID']].sort_values('GDAY_DS').reset_index(drop=True)\n",
    "WO_future.columns = ['ds', 'T_ID', 'VS_T_ID']\n",
    "LT_future = thit_test.loc[thit_test['T_ID']=='LT', ['GDAY_DS', 'T_ID', 'VS_T_ID']].sort_values('GDAY_DS').reset_index(drop=True)\n",
    "LT_future.columns = ['ds', 'T_ID', 'VS_T_ID']\n",
    "SS_future = thit_test.loc[thit_test['T_ID']=='SS', ['GDAY_DS', 'T_ID', 'VS_T_ID']].sort_values('GDAY_DS').reset_index(drop=True)\n",
    "SS_future.columns = ['ds', 'T_ID', 'VS_T_ID']\n",
    "OB_future = thit_test.loc[thit_test['T_ID']=='OB', ['GDAY_DS', 'T_ID', 'VS_T_ID']].sort_values('GDAY_DS').reset_index(drop=True)\n",
    "OB_future.columns = ['ds', 'T_ID', 'VS_T_ID']"
   ]
  },
  {
   "cell_type": "markdown",
   "metadata": {},
   "source": [
    "## fbprophet을 사용한 팀별 PA 예측"
   ]
  },
  {
   "cell_type": "code",
   "execution_count": 10,
   "metadata": {},
   "outputs": [],
   "source": [
    "from fbprophet import Prophet"
   ]
  },
  {
   "cell_type": "markdown",
   "metadata": {},
   "source": [
    "**LG**"
   ]
  },
  {
   "cell_type": "code",
   "execution_count": 11,
   "metadata": {
    "scrolled": true
   },
   "outputs": [
    {
     "name": "stderr",
     "output_type": "stream",
     "text": [
      "INFO:fbprophet:Disabling daily seasonality. Run prophet with daily_seasonality=True to override this.\n"
     ]
    },
    {
     "data": {
      "text/plain": [
       "<fbprophet.forecaster.Prophet at 0x7fe2fcfb8190>"
      ]
     },
     "execution_count": 11,
     "metadata": {},
     "output_type": "execute_result"
    }
   ],
   "source": [
    "model = Prophet()\n",
    "model.fit(LG)"
   ]
  },
  {
   "cell_type": "code",
   "execution_count": 12,
   "metadata": {},
   "outputs": [],
   "source": [
    "forecast = model.predict(LG_future[['ds']])"
   ]
  },
  {
   "cell_type": "code",
   "execution_count": 13,
   "metadata": {},
   "outputs": [],
   "source": [
    "LG_pred = pd.concat([LG_future[['ds', 'T_ID', 'VS_T_ID']], forecast[['yhat']].round()], axis=1)"
   ]
  },
  {
   "cell_type": "markdown",
   "metadata": {},
   "source": [
    "**HH**"
   ]
  },
  {
   "cell_type": "code",
   "execution_count": 14,
   "metadata": {
    "scrolled": true
   },
   "outputs": [
    {
     "name": "stderr",
     "output_type": "stream",
     "text": [
      "INFO:fbprophet:Disabling daily seasonality. Run prophet with daily_seasonality=True to override this.\n"
     ]
    },
    {
     "data": {
      "text/plain": [
       "<fbprophet.forecaster.Prophet at 0x7fe2ff352940>"
      ]
     },
     "execution_count": 14,
     "metadata": {},
     "output_type": "execute_result"
    }
   ],
   "source": [
    "model = Prophet()\n",
    "model.fit(HH)"
   ]
  },
  {
   "cell_type": "code",
   "execution_count": 15,
   "metadata": {},
   "outputs": [],
   "source": [
    "forecast = model.predict(HH_future[['ds']])"
   ]
  },
  {
   "cell_type": "code",
   "execution_count": 16,
   "metadata": {},
   "outputs": [],
   "source": [
    "HH_pred = pd.concat([HH_future[['ds', 'T_ID', 'VS_T_ID']], forecast[['yhat']].round()], axis=1)"
   ]
  },
  {
   "cell_type": "markdown",
   "metadata": {},
   "source": [
    "**NC**"
   ]
  },
  {
   "cell_type": "code",
   "execution_count": 17,
   "metadata": {
    "scrolled": true
   },
   "outputs": [
    {
     "name": "stderr",
     "output_type": "stream",
     "text": [
      "INFO:fbprophet:Disabling daily seasonality. Run prophet with daily_seasonality=True to override this.\n"
     ]
    },
    {
     "data": {
      "text/plain": [
       "<fbprophet.forecaster.Prophet at 0x7fe2fdd37ac0>"
      ]
     },
     "execution_count": 17,
     "metadata": {},
     "output_type": "execute_result"
    }
   ],
   "source": [
    "model = Prophet()\n",
    "model.fit(NC)"
   ]
  },
  {
   "cell_type": "code",
   "execution_count": 18,
   "metadata": {},
   "outputs": [],
   "source": [
    "forecast = model.predict(NC_future[['ds']])"
   ]
  },
  {
   "cell_type": "code",
   "execution_count": 19,
   "metadata": {},
   "outputs": [],
   "source": [
    "NC_pred = pd.concat([NC_future[['ds', 'T_ID', 'VS_T_ID']], forecast[['yhat']].round()], axis=1)"
   ]
  },
  {
   "cell_type": "markdown",
   "metadata": {},
   "source": [
    "**HT**"
   ]
  },
  {
   "cell_type": "code",
   "execution_count": 20,
   "metadata": {
    "scrolled": true
   },
   "outputs": [
    {
     "name": "stderr",
     "output_type": "stream",
     "text": [
      "INFO:fbprophet:Disabling daily seasonality. Run prophet with daily_seasonality=True to override this.\n"
     ]
    },
    {
     "data": {
      "text/plain": [
       "<fbprophet.forecaster.Prophet at 0x7fe2fdd6b9a0>"
      ]
     },
     "execution_count": 20,
     "metadata": {},
     "output_type": "execute_result"
    }
   ],
   "source": [
    "model = Prophet()\n",
    "model.fit(HT)"
   ]
  },
  {
   "cell_type": "code",
   "execution_count": 21,
   "metadata": {},
   "outputs": [],
   "source": [
    "forecast = model.predict(HT_future[['ds']])"
   ]
  },
  {
   "cell_type": "code",
   "execution_count": 22,
   "metadata": {},
   "outputs": [],
   "source": [
    "HT_pred = pd.concat([HT_future[['ds', 'T_ID', 'VS_T_ID']], forecast[['yhat']].round()], axis=1)"
   ]
  },
  {
   "cell_type": "markdown",
   "metadata": {},
   "source": [
    "**SK**"
   ]
  },
  {
   "cell_type": "code",
   "execution_count": 23,
   "metadata": {
    "scrolled": false
   },
   "outputs": [
    {
     "name": "stderr",
     "output_type": "stream",
     "text": [
      "INFO:fbprophet:Disabling daily seasonality. Run prophet with daily_seasonality=True to override this.\n"
     ]
    },
    {
     "data": {
      "text/plain": [
       "<fbprophet.forecaster.Prophet at 0x7fe2fa4b4610>"
      ]
     },
     "execution_count": 23,
     "metadata": {},
     "output_type": "execute_result"
    }
   ],
   "source": [
    "model = Prophet()\n",
    "model.fit(SK)"
   ]
  },
  {
   "cell_type": "code",
   "execution_count": 24,
   "metadata": {},
   "outputs": [],
   "source": [
    "forecast = model.predict(SK_future[['ds']])"
   ]
  },
  {
   "cell_type": "code",
   "execution_count": 25,
   "metadata": {},
   "outputs": [],
   "source": [
    "SK_pred = pd.concat([SK_future[['ds', 'T_ID', 'VS_T_ID']], forecast[['yhat']].round()], axis=1)"
   ]
  },
  {
   "cell_type": "markdown",
   "metadata": {},
   "source": [
    "**KT**"
   ]
  },
  {
   "cell_type": "code",
   "execution_count": 26,
   "metadata": {
    "scrolled": false
   },
   "outputs": [
    {
     "name": "stderr",
     "output_type": "stream",
     "text": [
      "INFO:fbprophet:Disabling daily seasonality. Run prophet with daily_seasonality=True to override this.\n"
     ]
    },
    {
     "data": {
      "text/plain": [
       "<fbprophet.forecaster.Prophet at 0x7fe2fa498310>"
      ]
     },
     "execution_count": 26,
     "metadata": {},
     "output_type": "execute_result"
    }
   ],
   "source": [
    "model = Prophet()\n",
    "model.fit(KT)"
   ]
  },
  {
   "cell_type": "code",
   "execution_count": 27,
   "metadata": {},
   "outputs": [],
   "source": [
    "forecast = model.predict(KT_future[['ds']])"
   ]
  },
  {
   "cell_type": "code",
   "execution_count": 28,
   "metadata": {},
   "outputs": [],
   "source": [
    "KT_pred = pd.concat([KT_future[['ds', 'T_ID', 'VS_T_ID']], forecast[['yhat']].round()], axis=1)"
   ]
  },
  {
   "cell_type": "markdown",
   "metadata": {},
   "source": [
    "**WO**"
   ]
  },
  {
   "cell_type": "code",
   "execution_count": 29,
   "metadata": {
    "scrolled": false
   },
   "outputs": [
    {
     "name": "stderr",
     "output_type": "stream",
     "text": [
      "INFO:fbprophet:Disabling daily seasonality. Run prophet with daily_seasonality=True to override this.\n"
     ]
    },
    {
     "data": {
      "text/plain": [
       "<fbprophet.forecaster.Prophet at 0x7fe2fdd51ac0>"
      ]
     },
     "execution_count": 29,
     "metadata": {},
     "output_type": "execute_result"
    }
   ],
   "source": [
    "model = Prophet()\n",
    "model.fit(WO)"
   ]
  },
  {
   "cell_type": "code",
   "execution_count": 30,
   "metadata": {},
   "outputs": [],
   "source": [
    "forecast = model.predict(WO_future[['ds']])"
   ]
  },
  {
   "cell_type": "code",
   "execution_count": 31,
   "metadata": {},
   "outputs": [],
   "source": [
    "WO_pred = pd.concat([WO_future[['ds', 'T_ID', 'VS_T_ID']], forecast[['yhat']].round()], axis=1)"
   ]
  },
  {
   "cell_type": "markdown",
   "metadata": {},
   "source": [
    "**LT**"
   ]
  },
  {
   "cell_type": "code",
   "execution_count": 32,
   "metadata": {
    "scrolled": false
   },
   "outputs": [
    {
     "name": "stderr",
     "output_type": "stream",
     "text": [
      "INFO:fbprophet:Disabling daily seasonality. Run prophet with daily_seasonality=True to override this.\n"
     ]
    },
    {
     "data": {
      "text/plain": [
       "<fbprophet.forecaster.Prophet at 0x7fe2fa4c10a0>"
      ]
     },
     "execution_count": 32,
     "metadata": {},
     "output_type": "execute_result"
    }
   ],
   "source": [
    "model = Prophet()\n",
    "model.fit(LT)"
   ]
  },
  {
   "cell_type": "code",
   "execution_count": 33,
   "metadata": {},
   "outputs": [],
   "source": [
    "forecast = model.predict(LT_future[['ds']])"
   ]
  },
  {
   "cell_type": "code",
   "execution_count": 34,
   "metadata": {},
   "outputs": [],
   "source": [
    "LT_pred = pd.concat([LT_future[['ds', 'T_ID', 'VS_T_ID']], forecast[['yhat']].round()], axis=1)"
   ]
  },
  {
   "cell_type": "markdown",
   "metadata": {},
   "source": [
    "**SS**"
   ]
  },
  {
   "cell_type": "code",
   "execution_count": 35,
   "metadata": {
    "scrolled": false
   },
   "outputs": [
    {
     "name": "stderr",
     "output_type": "stream",
     "text": [
      "INFO:fbprophet:Disabling daily seasonality. Run prophet with daily_seasonality=True to override this.\n"
     ]
    },
    {
     "data": {
      "text/plain": [
       "<fbprophet.forecaster.Prophet at 0x7fe2ff31a220>"
      ]
     },
     "execution_count": 35,
     "metadata": {},
     "output_type": "execute_result"
    }
   ],
   "source": [
    "model = Prophet()\n",
    "model.fit(SS)"
   ]
  },
  {
   "cell_type": "code",
   "execution_count": 36,
   "metadata": {},
   "outputs": [],
   "source": [
    "forecast = model.predict(SS_future[['ds']])"
   ]
  },
  {
   "cell_type": "code",
   "execution_count": 37,
   "metadata": {},
   "outputs": [],
   "source": [
    "SS_pred = pd.concat([SS_future[['ds', 'T_ID', 'VS_T_ID']], forecast[['yhat']].round()], axis=1)"
   ]
  },
  {
   "cell_type": "markdown",
   "metadata": {},
   "source": [
    "**OB**"
   ]
  },
  {
   "cell_type": "code",
   "execution_count": 38,
   "metadata": {
    "scrolled": false
   },
   "outputs": [
    {
     "name": "stderr",
     "output_type": "stream",
     "text": [
      "INFO:fbprophet:Disabling daily seasonality. Run prophet with daily_seasonality=True to override this.\n"
     ]
    },
    {
     "data": {
      "text/plain": [
       "<fbprophet.forecaster.Prophet at 0x7fe2fdd44820>"
      ]
     },
     "execution_count": 38,
     "metadata": {},
     "output_type": "execute_result"
    }
   ],
   "source": [
    "model = Prophet()\n",
    "model.fit(OB)"
   ]
  },
  {
   "cell_type": "code",
   "execution_count": 39,
   "metadata": {},
   "outputs": [],
   "source": [
    "forecast = model.predict(OB_future[['ds']])"
   ]
  },
  {
   "cell_type": "code",
   "execution_count": 40,
   "metadata": {},
   "outputs": [],
   "source": [
    "OB_pred = pd.concat([OB_future[['ds', 'T_ID', 'VS_T_ID']], forecast[['yhat']].round()], axis=1)"
   ]
  },
  {
   "cell_type": "markdown",
   "metadata": {},
   "source": [
    "**Concatenate**"
   ]
  },
  {
   "cell_type": "code",
   "execution_count": 41,
   "metadata": {},
   "outputs": [
    {
     "data": {
      "text/html": [
       "<div>\n",
       "<style scoped>\n",
       "    .dataframe tbody tr th:only-of-type {\n",
       "        vertical-align: middle;\n",
       "    }\n",
       "\n",
       "    .dataframe tbody tr th {\n",
       "        vertical-align: top;\n",
       "    }\n",
       "\n",
       "    .dataframe thead th {\n",
       "        text-align: right;\n",
       "    }\n",
       "</style>\n",
       "<table border=\"1\" class=\"dataframe\">\n",
       "  <thead>\n",
       "    <tr style=\"text-align: right;\">\n",
       "      <th></th>\n",
       "      <th>GDAY_DS</th>\n",
       "      <th>T_ID</th>\n",
       "      <th>VS_T_ID</th>\n",
       "      <th>PA</th>\n",
       "    </tr>\n",
       "  </thead>\n",
       "  <tbody>\n",
       "    <tr>\n",
       "      <th>0</th>\n",
       "      <td>2019-09-03</td>\n",
       "      <td>HH</td>\n",
       "      <td>HT</td>\n",
       "      <td>38.0</td>\n",
       "    </tr>\n",
       "    <tr>\n",
       "      <th>1</th>\n",
       "      <td>2019-09-03</td>\n",
       "      <td>HT</td>\n",
       "      <td>HH</td>\n",
       "      <td>37.0</td>\n",
       "    </tr>\n",
       "    <tr>\n",
       "      <th>2</th>\n",
       "      <td>2019-09-03</td>\n",
       "      <td>KT</td>\n",
       "      <td>LG</td>\n",
       "      <td>39.0</td>\n",
       "    </tr>\n",
       "    <tr>\n",
       "      <th>3</th>\n",
       "      <td>2019-09-03</td>\n",
       "      <td>LG</td>\n",
       "      <td>KT</td>\n",
       "      <td>38.0</td>\n",
       "    </tr>\n",
       "    <tr>\n",
       "      <th>4</th>\n",
       "      <td>2019-09-03</td>\n",
       "      <td>LT</td>\n",
       "      <td>SS</td>\n",
       "      <td>38.0</td>\n",
       "    </tr>\n",
       "    <tr>\n",
       "      <th>...</th>\n",
       "      <td>...</td>\n",
       "      <td>...</td>\n",
       "      <td>...</td>\n",
       "      <td>...</td>\n",
       "    </tr>\n",
       "    <tr>\n",
       "      <th>183</th>\n",
       "      <td>2019-09-30</td>\n",
       "      <td>SK</td>\n",
       "      <td>HH</td>\n",
       "      <td>37.0</td>\n",
       "    </tr>\n",
       "    <tr>\n",
       "      <th>184</th>\n",
       "      <td>2019-10-01</td>\n",
       "      <td>LT</td>\n",
       "      <td>WO</td>\n",
       "      <td>40.0</td>\n",
       "    </tr>\n",
       "    <tr>\n",
       "      <th>185</th>\n",
       "      <td>2019-10-01</td>\n",
       "      <td>NC</td>\n",
       "      <td>OB</td>\n",
       "      <td>40.0</td>\n",
       "    </tr>\n",
       "    <tr>\n",
       "      <th>186</th>\n",
       "      <td>2019-10-01</td>\n",
       "      <td>OB</td>\n",
       "      <td>NC</td>\n",
       "      <td>41.0</td>\n",
       "    </tr>\n",
       "    <tr>\n",
       "      <th>187</th>\n",
       "      <td>2019-10-01</td>\n",
       "      <td>WO</td>\n",
       "      <td>LT</td>\n",
       "      <td>39.0</td>\n",
       "    </tr>\n",
       "  </tbody>\n",
       "</table>\n",
       "<p>188 rows × 4 columns</p>\n",
       "</div>"
      ],
      "text/plain": [
       "       GDAY_DS T_ID VS_T_ID    PA\n",
       "0   2019-09-03   HH      HT  38.0\n",
       "1   2019-09-03   HT      HH  37.0\n",
       "2   2019-09-03   KT      LG  39.0\n",
       "3   2019-09-03   LG      KT  38.0\n",
       "4   2019-09-03   LT      SS  38.0\n",
       "..         ...  ...     ...   ...\n",
       "183 2019-09-30   SK      HH  37.0\n",
       "184 2019-10-01   LT      WO  40.0\n",
       "185 2019-10-01   NC      OB  40.0\n",
       "186 2019-10-01   OB      NC  41.0\n",
       "187 2019-10-01   WO      LT  39.0\n",
       "\n",
       "[188 rows x 4 columns]"
      ]
     },
     "execution_count": 41,
     "metadata": {},
     "output_type": "execute_result"
    }
   ],
   "source": [
    "PA_pred = pd.concat([LG_pred, HH_pred, NC_pred, HT_pred, SK_pred, KT_pred, WO_pred, LT_pred, SS_pred, OB_pred]).sort_values(['ds', 'T_ID']).reset_index(drop=True)\n",
    "PA_pred.columns = ['GDAY_DS', 'T_ID', 'VS_T_ID', 'PA']\n",
    "PA_pred"
   ]
  },
  {
   "cell_type": "markdown",
   "metadata": {},
   "source": [
    "## fbprophet을 사용한 팀별 BF 예측"
   ]
  },
  {
   "cell_type": "code",
   "execution_count": 42,
   "metadata": {},
   "outputs": [],
   "source": [
    "tpit_train = tpit.iloc[:5572,]\n",
    "tpit_test = tpit.iloc[5572:,].reset_index(drop=True)"
   ]
  },
  {
   "cell_type": "code",
   "execution_count": 43,
   "metadata": {},
   "outputs": [],
   "source": [
    "LG = tpit_train.loc[tpit_train['T_ID']=='LG', ['GDAY_DS', 'BF']].reset_index(drop=True) ; LG.columns = ['ds', 'y']\n",
    "HH = tpit_train.loc[tpit_train['T_ID']=='HH', ['GDAY_DS', 'BF']].reset_index(drop=True) ; HH.columns = ['ds', 'y']\n",
    "NC = tpit_train.loc[tpit_train['T_ID']=='NC', ['GDAY_DS', 'BF']].reset_index(drop=True) ; NC.columns = ['ds', 'y']\n",
    "HT = tpit_train.loc[tpit_train['T_ID']=='HT', ['GDAY_DS', 'BF']].reset_index(drop=True) ; HT.columns = ['ds', 'y']\n",
    "SK = tpit_train.loc[tpit_train['T_ID']=='SK', ['GDAY_DS', 'BF']].reset_index(drop=True) ; SK.columns = ['ds', 'y']\n",
    "KT = tpit_train.loc[tpit_train['T_ID']=='KT', ['GDAY_DS', 'BF']].reset_index(drop=True) ; KT.columns = ['ds', 'y']\n",
    "WO = tpit_train.loc[tpit_train['T_ID']=='WO', ['GDAY_DS', 'BF']].reset_index(drop=True) ; WO.columns = ['ds', 'y']\n",
    "LT = tpit_train.loc[tpit_train['T_ID']=='LT', ['GDAY_DS', 'BF']].reset_index(drop=True) ; LT.columns = ['ds', 'y']\n",
    "SS = tpit_train.loc[tpit_train['T_ID']=='SS', ['GDAY_DS', 'BF']].reset_index(drop=True) ; SS.columns = ['ds', 'y']\n",
    "OB = tpit_train.loc[tpit_train['T_ID']=='OB', ['GDAY_DS', 'BF']].reset_index(drop=True) ; OB.columns = ['ds', 'y']"
   ]
  },
  {
   "cell_type": "markdown",
   "metadata": {},
   "source": [
    "**LG**"
   ]
  },
  {
   "cell_type": "code",
   "execution_count": 44,
   "metadata": {
    "scrolled": true
   },
   "outputs": [
    {
     "name": "stderr",
     "output_type": "stream",
     "text": [
      "INFO:fbprophet:Disabling daily seasonality. Run prophet with daily_seasonality=True to override this.\n"
     ]
    },
    {
     "data": {
      "text/plain": [
       "<fbprophet.forecaster.Prophet at 0x7fe2fa48bf10>"
      ]
     },
     "execution_count": 44,
     "metadata": {},
     "output_type": "execute_result"
    }
   ],
   "source": [
    "model = Prophet()\n",
    "model.fit(LG)"
   ]
  },
  {
   "cell_type": "code",
   "execution_count": 45,
   "metadata": {},
   "outputs": [],
   "source": [
    "forecast = model.predict(LG_future[['ds']])"
   ]
  },
  {
   "cell_type": "code",
   "execution_count": 46,
   "metadata": {},
   "outputs": [],
   "source": [
    "LG_pred = pd.concat([LG_future[['ds', 'T_ID', 'VS_T_ID']], forecast[['yhat']].round()], axis=1)"
   ]
  },
  {
   "cell_type": "markdown",
   "metadata": {},
   "source": [
    "**HH**"
   ]
  },
  {
   "cell_type": "code",
   "execution_count": 47,
   "metadata": {
    "scrolled": true
   },
   "outputs": [
    {
     "name": "stderr",
     "output_type": "stream",
     "text": [
      "INFO:fbprophet:Disabling daily seasonality. Run prophet with daily_seasonality=True to override this.\n"
     ]
    },
    {
     "data": {
      "text/plain": [
       "<fbprophet.forecaster.Prophet at 0x7fe2fa55f3a0>"
      ]
     },
     "execution_count": 47,
     "metadata": {},
     "output_type": "execute_result"
    }
   ],
   "source": [
    "model = Prophet()\n",
    "model.fit(HH)"
   ]
  },
  {
   "cell_type": "code",
   "execution_count": 48,
   "metadata": {},
   "outputs": [],
   "source": [
    "forecast = model.predict(HH_future[['ds']])"
   ]
  },
  {
   "cell_type": "code",
   "execution_count": 49,
   "metadata": {},
   "outputs": [],
   "source": [
    "HH_pred = pd.concat([HH_future[['ds', 'T_ID', 'VS_T_ID']], forecast[['yhat']].round()], axis=1)"
   ]
  },
  {
   "cell_type": "markdown",
   "metadata": {},
   "source": [
    "**NC**"
   ]
  },
  {
   "cell_type": "code",
   "execution_count": 50,
   "metadata": {
    "scrolled": true
   },
   "outputs": [
    {
     "name": "stderr",
     "output_type": "stream",
     "text": [
      "INFO:fbprophet:Disabling daily seasonality. Run prophet with daily_seasonality=True to override this.\n"
     ]
    },
    {
     "data": {
      "text/plain": [
       "<fbprophet.forecaster.Prophet at 0x7fe2fdd516a0>"
      ]
     },
     "execution_count": 50,
     "metadata": {},
     "output_type": "execute_result"
    }
   ],
   "source": [
    "model = Prophet()\n",
    "model.fit(NC)"
   ]
  },
  {
   "cell_type": "code",
   "execution_count": 51,
   "metadata": {},
   "outputs": [],
   "source": [
    "forecast = model.predict(NC_future[['ds']])"
   ]
  },
  {
   "cell_type": "code",
   "execution_count": 52,
   "metadata": {},
   "outputs": [],
   "source": [
    "NC_pred = pd.concat([NC_future[['ds', 'T_ID', 'VS_T_ID']], forecast[['yhat']].round()], axis=1)"
   ]
  },
  {
   "cell_type": "markdown",
   "metadata": {},
   "source": [
    "**HT**"
   ]
  },
  {
   "cell_type": "code",
   "execution_count": 53,
   "metadata": {
    "scrolled": true
   },
   "outputs": [
    {
     "name": "stderr",
     "output_type": "stream",
     "text": [
      "INFO:fbprophet:Disabling daily seasonality. Run prophet with daily_seasonality=True to override this.\n"
     ]
    },
    {
     "data": {
      "text/plain": [
       "<fbprophet.forecaster.Prophet at 0x7fe2fa553400>"
      ]
     },
     "execution_count": 53,
     "metadata": {},
     "output_type": "execute_result"
    }
   ],
   "source": [
    "model = Prophet()\n",
    "model.fit(HT)"
   ]
  },
  {
   "cell_type": "code",
   "execution_count": 54,
   "metadata": {},
   "outputs": [],
   "source": [
    "forecast = model.predict(HT_future[['ds']])"
   ]
  },
  {
   "cell_type": "code",
   "execution_count": 55,
   "metadata": {},
   "outputs": [],
   "source": [
    "HT_pred = pd.concat([HT_future[['ds', 'T_ID', 'VS_T_ID']], forecast[['yhat']].round()], axis=1)"
   ]
  },
  {
   "cell_type": "markdown",
   "metadata": {},
   "source": [
    "**SK**"
   ]
  },
  {
   "cell_type": "code",
   "execution_count": 56,
   "metadata": {
    "scrolled": false
   },
   "outputs": [
    {
     "name": "stderr",
     "output_type": "stream",
     "text": [
      "INFO:fbprophet:Disabling daily seasonality. Run prophet with daily_seasonality=True to override this.\n"
     ]
    },
    {
     "data": {
      "text/plain": [
       "<fbprophet.forecaster.Prophet at 0x7fe2fa51cb20>"
      ]
     },
     "execution_count": 56,
     "metadata": {},
     "output_type": "execute_result"
    }
   ],
   "source": [
    "model = Prophet()\n",
    "model.fit(SK)"
   ]
  },
  {
   "cell_type": "code",
   "execution_count": 57,
   "metadata": {},
   "outputs": [],
   "source": [
    "forecast = model.predict(SK_future[['ds']])"
   ]
  },
  {
   "cell_type": "code",
   "execution_count": 58,
   "metadata": {},
   "outputs": [],
   "source": [
    "SK_pred = pd.concat([SK_future[['ds', 'T_ID', 'VS_T_ID']], forecast[['yhat']].round()], axis=1)"
   ]
  },
  {
   "cell_type": "markdown",
   "metadata": {},
   "source": [
    "**KT**"
   ]
  },
  {
   "cell_type": "code",
   "execution_count": 59,
   "metadata": {
    "scrolled": false
   },
   "outputs": [
    {
     "name": "stderr",
     "output_type": "stream",
     "text": [
      "INFO:fbprophet:Disabling daily seasonality. Run prophet with daily_seasonality=True to override this.\n"
     ]
    },
    {
     "data": {
      "text/plain": [
       "<fbprophet.forecaster.Prophet at 0x7fe2fa5bb8e0>"
      ]
     },
     "execution_count": 59,
     "metadata": {},
     "output_type": "execute_result"
    }
   ],
   "source": [
    "model = Prophet()\n",
    "model.fit(KT)"
   ]
  },
  {
   "cell_type": "code",
   "execution_count": 60,
   "metadata": {},
   "outputs": [],
   "source": [
    "forecast = model.predict(KT_future[['ds']])"
   ]
  },
  {
   "cell_type": "code",
   "execution_count": 61,
   "metadata": {},
   "outputs": [],
   "source": [
    "KT_pred = pd.concat([KT_future[['ds', 'T_ID', 'VS_T_ID']], forecast[['yhat']].round()], axis=1)"
   ]
  },
  {
   "cell_type": "markdown",
   "metadata": {},
   "source": [
    "**WO**"
   ]
  },
  {
   "cell_type": "code",
   "execution_count": 62,
   "metadata": {
    "scrolled": false
   },
   "outputs": [
    {
     "name": "stderr",
     "output_type": "stream",
     "text": [
      "INFO:fbprophet:Disabling daily seasonality. Run prophet with daily_seasonality=True to override this.\n"
     ]
    },
    {
     "data": {
      "text/plain": [
       "<fbprophet.forecaster.Prophet at 0x7fe2fa587be0>"
      ]
     },
     "execution_count": 62,
     "metadata": {},
     "output_type": "execute_result"
    }
   ],
   "source": [
    "model = Prophet()\n",
    "model.fit(WO)"
   ]
  },
  {
   "cell_type": "code",
   "execution_count": 63,
   "metadata": {},
   "outputs": [],
   "source": [
    "forecast = model.predict(WO_future[['ds']])"
   ]
  },
  {
   "cell_type": "code",
   "execution_count": 64,
   "metadata": {},
   "outputs": [],
   "source": [
    "WO_pred = pd.concat([WO_future[['ds', 'T_ID', 'VS_T_ID']], forecast[['yhat']].round()], axis=1)"
   ]
  },
  {
   "cell_type": "markdown",
   "metadata": {},
   "source": [
    "**LT**"
   ]
  },
  {
   "cell_type": "code",
   "execution_count": 65,
   "metadata": {
    "scrolled": false
   },
   "outputs": [
    {
     "name": "stderr",
     "output_type": "stream",
     "text": [
      "INFO:fbprophet:Disabling daily seasonality. Run prophet with daily_seasonality=True to override this.\n"
     ]
    },
    {
     "data": {
      "text/plain": [
       "<fbprophet.forecaster.Prophet at 0x7fe2fdd83a90>"
      ]
     },
     "execution_count": 65,
     "metadata": {},
     "output_type": "execute_result"
    }
   ],
   "source": [
    "model = Prophet()\n",
    "model.fit(LT)"
   ]
  },
  {
   "cell_type": "code",
   "execution_count": 66,
   "metadata": {},
   "outputs": [],
   "source": [
    "forecast = model.predict(LT_future[['ds']])"
   ]
  },
  {
   "cell_type": "code",
   "execution_count": 67,
   "metadata": {},
   "outputs": [],
   "source": [
    "LT_pred = pd.concat([LT_future[['ds', 'T_ID', 'VS_T_ID']], forecast[['yhat']].round()], axis=1)"
   ]
  },
  {
   "cell_type": "markdown",
   "metadata": {},
   "source": [
    "**SS**"
   ]
  },
  {
   "cell_type": "code",
   "execution_count": 68,
   "metadata": {
    "scrolled": false
   },
   "outputs": [
    {
     "name": "stderr",
     "output_type": "stream",
     "text": [
      "INFO:fbprophet:Disabling daily seasonality. Run prophet with daily_seasonality=True to override this.\n"
     ]
    },
    {
     "data": {
      "text/plain": [
       "<fbprophet.forecaster.Prophet at 0x7fe2faffae50>"
      ]
     },
     "execution_count": 68,
     "metadata": {},
     "output_type": "execute_result"
    }
   ],
   "source": [
    "model = Prophet()\n",
    "model.fit(SS)"
   ]
  },
  {
   "cell_type": "code",
   "execution_count": 69,
   "metadata": {},
   "outputs": [],
   "source": [
    "forecast = model.predict(SS_future[['ds']])"
   ]
  },
  {
   "cell_type": "code",
   "execution_count": 70,
   "metadata": {},
   "outputs": [],
   "source": [
    "SS_pred = pd.concat([SS_future[['ds', 'T_ID', 'VS_T_ID']], forecast[['yhat']].round()], axis=1)"
   ]
  },
  {
   "cell_type": "markdown",
   "metadata": {},
   "source": [
    "**OB**"
   ]
  },
  {
   "cell_type": "code",
   "execution_count": 71,
   "metadata": {
    "scrolled": false
   },
   "outputs": [
    {
     "name": "stderr",
     "output_type": "stream",
     "text": [
      "INFO:fbprophet:Disabling daily seasonality. Run prophet with daily_seasonality=True to override this.\n"
     ]
    },
    {
     "data": {
      "text/plain": [
       "<fbprophet.forecaster.Prophet at 0x7fe2fdd9f910>"
      ]
     },
     "execution_count": 71,
     "metadata": {},
     "output_type": "execute_result"
    }
   ],
   "source": [
    "model = Prophet()\n",
    "model.fit(OB)"
   ]
  },
  {
   "cell_type": "code",
   "execution_count": 72,
   "metadata": {},
   "outputs": [],
   "source": [
    "forecast = model.predict(OB_future[['ds']])"
   ]
  },
  {
   "cell_type": "code",
   "execution_count": 73,
   "metadata": {},
   "outputs": [],
   "source": [
    "OB_pred = pd.concat([OB_future[['ds', 'T_ID', 'VS_T_ID']], forecast[['yhat']].round()], axis=1)"
   ]
  },
  {
   "cell_type": "markdown",
   "metadata": {},
   "source": [
    "**Concatenate**"
   ]
  },
  {
   "cell_type": "code",
   "execution_count": 74,
   "metadata": {},
   "outputs": [
    {
     "data": {
      "text/html": [
       "<div>\n",
       "<style scoped>\n",
       "    .dataframe tbody tr th:only-of-type {\n",
       "        vertical-align: middle;\n",
       "    }\n",
       "\n",
       "    .dataframe tbody tr th {\n",
       "        vertical-align: top;\n",
       "    }\n",
       "\n",
       "    .dataframe thead th {\n",
       "        text-align: right;\n",
       "    }\n",
       "</style>\n",
       "<table border=\"1\" class=\"dataframe\">\n",
       "  <thead>\n",
       "    <tr style=\"text-align: right;\">\n",
       "      <th></th>\n",
       "      <th>GDAY_DS</th>\n",
       "      <th>T_ID</th>\n",
       "      <th>VS_T_ID</th>\n",
       "      <th>BF</th>\n",
       "    </tr>\n",
       "  </thead>\n",
       "  <tbody>\n",
       "    <tr>\n",
       "      <th>0</th>\n",
       "      <td>2019-09-03</td>\n",
       "      <td>HH</td>\n",
       "      <td>HT</td>\n",
       "      <td>154.0</td>\n",
       "    </tr>\n",
       "    <tr>\n",
       "      <th>1</th>\n",
       "      <td>2019-09-03</td>\n",
       "      <td>HT</td>\n",
       "      <td>HH</td>\n",
       "      <td>157.0</td>\n",
       "    </tr>\n",
       "    <tr>\n",
       "      <th>2</th>\n",
       "      <td>2019-09-03</td>\n",
       "      <td>KT</td>\n",
       "      <td>LG</td>\n",
       "      <td>151.0</td>\n",
       "    </tr>\n",
       "    <tr>\n",
       "      <th>3</th>\n",
       "      <td>2019-09-03</td>\n",
       "      <td>LG</td>\n",
       "      <td>KT</td>\n",
       "      <td>149.0</td>\n",
       "    </tr>\n",
       "    <tr>\n",
       "      <th>4</th>\n",
       "      <td>2019-09-03</td>\n",
       "      <td>LT</td>\n",
       "      <td>SS</td>\n",
       "      <td>150.0</td>\n",
       "    </tr>\n",
       "    <tr>\n",
       "      <th>...</th>\n",
       "      <td>...</td>\n",
       "      <td>...</td>\n",
       "      <td>...</td>\n",
       "      <td>...</td>\n",
       "    </tr>\n",
       "    <tr>\n",
       "      <th>183</th>\n",
       "      <td>2019-09-30</td>\n",
       "      <td>SK</td>\n",
       "      <td>HH</td>\n",
       "      <td>141.0</td>\n",
       "    </tr>\n",
       "    <tr>\n",
       "      <th>184</th>\n",
       "      <td>2019-10-01</td>\n",
       "      <td>LT</td>\n",
       "      <td>WO</td>\n",
       "      <td>157.0</td>\n",
       "    </tr>\n",
       "    <tr>\n",
       "      <th>185</th>\n",
       "      <td>2019-10-01</td>\n",
       "      <td>NC</td>\n",
       "      <td>OB</td>\n",
       "      <td>154.0</td>\n",
       "    </tr>\n",
       "    <tr>\n",
       "      <th>186</th>\n",
       "      <td>2019-10-01</td>\n",
       "      <td>OB</td>\n",
       "      <td>NC</td>\n",
       "      <td>152.0</td>\n",
       "    </tr>\n",
       "    <tr>\n",
       "      <th>187</th>\n",
       "      <td>2019-10-01</td>\n",
       "      <td>WO</td>\n",
       "      <td>LT</td>\n",
       "      <td>133.0</td>\n",
       "    </tr>\n",
       "  </tbody>\n",
       "</table>\n",
       "<p>188 rows × 4 columns</p>\n",
       "</div>"
      ],
      "text/plain": [
       "       GDAY_DS T_ID VS_T_ID     BF\n",
       "0   2019-09-03   HH      HT  154.0\n",
       "1   2019-09-03   HT      HH  157.0\n",
       "2   2019-09-03   KT      LG  151.0\n",
       "3   2019-09-03   LG      KT  149.0\n",
       "4   2019-09-03   LT      SS  150.0\n",
       "..         ...  ...     ...    ...\n",
       "183 2019-09-30   SK      HH  141.0\n",
       "184 2019-10-01   LT      WO  157.0\n",
       "185 2019-10-01   NC      OB  154.0\n",
       "186 2019-10-01   OB      NC  152.0\n",
       "187 2019-10-01   WO      LT  133.0\n",
       "\n",
       "[188 rows x 4 columns]"
      ]
     },
     "execution_count": 74,
     "metadata": {},
     "output_type": "execute_result"
    }
   ],
   "source": [
    "BF_pred = pd.concat([LG_pred, HH_pred, NC_pred, HT_pred, SK_pred, KT_pred, WO_pred, LT_pred, SS_pred, OB_pred]).sort_values(['ds', 'T_ID']).reset_index(drop=True)\n",
    "BF_pred.columns = ['GDAY_DS', 'T_ID', 'VS_T_ID', 'BF']\n",
    "BF_pred"
   ]
  },
  {
   "cell_type": "code",
   "execution_count": 75,
   "metadata": {},
   "outputs": [],
   "source": [
    "PA_pred.to_csv('PA_pred(2019).csv', index=False)\n",
    "BF_pred.to_csv('BF_pred(2019).csv', index=False)"
   ]
  }
 ],
 "metadata": {
  "kernelspec": {
   "display_name": "Python 3",
   "language": "python",
   "name": "python3"
  },
  "language_info": {
   "codemirror_mode": {
    "name": "ipython",
    "version": 3
   },
   "file_extension": ".py",
   "mimetype": "text/x-python",
   "name": "python",
   "nbconvert_exporter": "python",
   "pygments_lexer": "ipython3",
   "version": "3.8.2"
  }
 },
 "nbformat": 4,
 "nbformat_minor": 4
}
